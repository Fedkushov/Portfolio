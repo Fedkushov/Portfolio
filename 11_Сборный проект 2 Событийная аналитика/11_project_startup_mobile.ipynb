{
 "cells": [
  {
   "cell_type": "markdown",
   "metadata": {},
   "source": [
    "# Исследование поведения пользователей мобильного приложения"
   ]
  },
  {
   "cell_type": "markdown",
   "metadata": {},
   "source": [
    "## Описание проекта  \n",
    "Стартап, который продаёт продукты питания, хочет разобраться, как ведут себя пользователи вашего мобильного приложения.  \n",
    "\n",
    "Изучите воронку продаж. Узнайте, как пользователи доходят до покупки. Сколько пользователей доходит до покупки, а сколько — «застревает» на предыдущих шагах? На каких именно?  \n",
    "\n",
    "После этого исследуйте результаты A/A/B-эксперимента. Дизайнеры захотели поменять шрифты во всём приложении, а менеджеры испугались, что пользователям будет непривычно. Договорились принять решение по результатам A/A/B-теста. Пользователей разбили на 3 группы: 2 контрольные со старыми шрифтами и одну экспериментальную — с новыми. Выясните, какой шрифт лучше.  \n",
    "\n",
    "Создание двух групп A вместо одной имеет определённые преимущества. Если две контрольные группы окажутся равны, вы можете быть уверены в точности проведенного тестирования. Если же между значениями A и A будут существенные различия, это поможет обнаружить факторы, которые привели к искажению результатов. Сравнение контрольных групп также помогает понять, сколько времени и данных потребуется для дальнейших тестов.  \n",
    "\n",
    "В случае общей аналитики и A/A/B-эксперимента работайте с одними и теми же данными. В реальных проектах всегда идут эксперименты. Аналитики исследуют качество работы приложения по общим данным, не учитывая принадлежность пользователей к экспериментам."
   ]
  },
  {
   "cell_type": "markdown",
   "metadata": {},
   "source": [
    "## Описание данных"
   ]
  },
  {
   "cell_type": "markdown",
   "metadata": {},
   "source": [
    "Каждая запись в логе — это действие пользователя, или событие.\n",
    "\n",
    "EventName — название события;  \n",
    "DeviceIDHash — уникальный идентификатор пользователя;  \n",
    "EventTimestamp — время события;  \n",
    "ExpId — номер эксперимента: 246 и 247 — контрольные группы, а 248 — экспериментальная."
   ]
  },
  {
   "cell_type": "markdown",
   "metadata": {},
   "source": [
    "### Шаг. Откройте файл с данными и изучите общую информацию"
   ]
  },
  {
   "cell_type": "code",
   "execution_count": 1,
   "metadata": {},
   "outputs": [],
   "source": [
    "#Импорт библиотек\n",
    "import pandas as pd\n",
    "import numpy as np\n",
    "import matplotlib.pyplot as plt\n",
    "import seaborn as sns\n",
    "from IPython.display import display\n",
    "import math as mth\n",
    "from scipy import stats as st\n",
    "from datetime import datetime, date, time\n",
    "import warnings\n",
    "warnings.simplefilter(\"ignore\")\n",
    "plt.rcParams[\"figure.figsize\"] = (10,5)"
   ]
  },
  {
   "cell_type": "code",
   "execution_count": 2,
   "metadata": {},
   "outputs": [],
   "source": [
    "df = pd.read_csv('logs_exp.csv', sep='\\t')"
   ]
  },
  {
   "cell_type": "code",
   "execution_count": 3,
   "metadata": {},
   "outputs": [
    {
     "data": {
      "text/html": [
       "<div>\n",
       "<style scoped>\n",
       "    .dataframe tbody tr th:only-of-type {\n",
       "        vertical-align: middle;\n",
       "    }\n",
       "\n",
       "    .dataframe tbody tr th {\n",
       "        vertical-align: top;\n",
       "    }\n",
       "\n",
       "    .dataframe thead th {\n",
       "        text-align: right;\n",
       "    }\n",
       "</style>\n",
       "<table border=\"1\" class=\"dataframe\">\n",
       "  <thead>\n",
       "    <tr style=\"text-align: right;\">\n",
       "      <th></th>\n",
       "      <th>EventName</th>\n",
       "      <th>DeviceIDHash</th>\n",
       "      <th>EventTimestamp</th>\n",
       "      <th>ExpId</th>\n",
       "    </tr>\n",
       "  </thead>\n",
       "  <tbody>\n",
       "    <tr>\n",
       "      <th>0</th>\n",
       "      <td>MainScreenAppear</td>\n",
       "      <td>4575588528974610257</td>\n",
       "      <td>1564029816</td>\n",
       "      <td>246</td>\n",
       "    </tr>\n",
       "    <tr>\n",
       "      <th>1</th>\n",
       "      <td>MainScreenAppear</td>\n",
       "      <td>7416695313311560658</td>\n",
       "      <td>1564053102</td>\n",
       "      <td>246</td>\n",
       "    </tr>\n",
       "    <tr>\n",
       "      <th>2</th>\n",
       "      <td>PaymentScreenSuccessful</td>\n",
       "      <td>3518123091307005509</td>\n",
       "      <td>1564054127</td>\n",
       "      <td>248</td>\n",
       "    </tr>\n",
       "    <tr>\n",
       "      <th>3</th>\n",
       "      <td>CartScreenAppear</td>\n",
       "      <td>3518123091307005509</td>\n",
       "      <td>1564054127</td>\n",
       "      <td>248</td>\n",
       "    </tr>\n",
       "    <tr>\n",
       "      <th>4</th>\n",
       "      <td>PaymentScreenSuccessful</td>\n",
       "      <td>6217807653094995999</td>\n",
       "      <td>1564055322</td>\n",
       "      <td>248</td>\n",
       "    </tr>\n",
       "    <tr>\n",
       "      <th>5</th>\n",
       "      <td>CartScreenAppear</td>\n",
       "      <td>6217807653094995999</td>\n",
       "      <td>1564055323</td>\n",
       "      <td>248</td>\n",
       "    </tr>\n",
       "    <tr>\n",
       "      <th>6</th>\n",
       "      <td>OffersScreenAppear</td>\n",
       "      <td>8351860793733343758</td>\n",
       "      <td>1564066242</td>\n",
       "      <td>246</td>\n",
       "    </tr>\n",
       "    <tr>\n",
       "      <th>7</th>\n",
       "      <td>MainScreenAppear</td>\n",
       "      <td>5682100281902512875</td>\n",
       "      <td>1564085677</td>\n",
       "      <td>246</td>\n",
       "    </tr>\n",
       "    <tr>\n",
       "      <th>8</th>\n",
       "      <td>MainScreenAppear</td>\n",
       "      <td>1850981295691852772</td>\n",
       "      <td>1564086702</td>\n",
       "      <td>247</td>\n",
       "    </tr>\n",
       "    <tr>\n",
       "      <th>9</th>\n",
       "      <td>MainScreenAppear</td>\n",
       "      <td>5407636962369102641</td>\n",
       "      <td>1564112112</td>\n",
       "      <td>246</td>\n",
       "    </tr>\n",
       "  </tbody>\n",
       "</table>\n",
       "</div>"
      ],
      "text/plain": [
       "                 EventName         DeviceIDHash  EventTimestamp  ExpId\n",
       "0         MainScreenAppear  4575588528974610257      1564029816    246\n",
       "1         MainScreenAppear  7416695313311560658      1564053102    246\n",
       "2  PaymentScreenSuccessful  3518123091307005509      1564054127    248\n",
       "3         CartScreenAppear  3518123091307005509      1564054127    248\n",
       "4  PaymentScreenSuccessful  6217807653094995999      1564055322    248\n",
       "5         CartScreenAppear  6217807653094995999      1564055323    248\n",
       "6       OffersScreenAppear  8351860793733343758      1564066242    246\n",
       "7         MainScreenAppear  5682100281902512875      1564085677    246\n",
       "8         MainScreenAppear  1850981295691852772      1564086702    247\n",
       "9         MainScreenAppear  5407636962369102641      1564112112    246"
      ]
     },
     "execution_count": 3,
     "metadata": {},
     "output_type": "execute_result"
    }
   ],
   "source": [
    "df.head(10)"
   ]
  },
  {
   "cell_type": "markdown",
   "metadata": {},
   "source": [
    "### Шаг. Подготовьте данные"
   ]
  },
  {
   "cell_type": "markdown",
   "metadata": {},
   "source": [
    "- Замените названия столбцов на удобные для нас;"
   ]
  },
  {
   "cell_type": "code",
   "execution_count": 4,
   "metadata": {},
   "outputs": [],
   "source": [
    "df.columns = ['event_name', 'device_id', 'timestamp', 'experiment_id']"
   ]
  },
  {
   "cell_type": "markdown",
   "metadata": {},
   "source": [
    "- Проверим пропуски и типы данных. Откорректируем, если нужно;"
   ]
  },
  {
   "cell_type": "code",
   "execution_count": 5,
   "metadata": {},
   "outputs": [
    {
     "name": "stdout",
     "output_type": "stream",
     "text": [
      "<class 'pandas.core.frame.DataFrame'>\n",
      "RangeIndex: 244126 entries, 0 to 244125\n",
      "Data columns (total 4 columns):\n",
      " #   Column         Non-Null Count   Dtype \n",
      "---  ------         --------------   ----- \n",
      " 0   event_name     244126 non-null  object\n",
      " 1   device_id      244126 non-null  int64 \n",
      " 2   timestamp      244126 non-null  int64 \n",
      " 3   experiment_id  244126 non-null  int64 \n",
      "dtypes: int64(3), object(1)\n",
      "memory usage: 7.5+ MB\n"
     ]
    }
   ],
   "source": [
    "df.info()"
   ]
  },
  {
   "cell_type": "code",
   "execution_count": 6,
   "metadata": {},
   "outputs": [
    {
     "data": {
      "text/plain": [
       "event_name       0\n",
       "device_id        0\n",
       "timestamp        0\n",
       "experiment_id    0\n",
       "dtype: int64"
      ]
     },
     "execution_count": 6,
     "metadata": {},
     "output_type": "execute_result"
    }
   ],
   "source": [
    "# Проверим на пропуски\n",
    "df.isnull().sum()"
   ]
  },
  {
   "cell_type": "code",
   "execution_count": 7,
   "metadata": {},
   "outputs": [
    {
     "data": {
      "text/plain": [
       "413"
      ]
     },
     "execution_count": 7,
     "metadata": {},
     "output_type": "execute_result"
    }
   ],
   "source": [
    "# Проверим наличие дубликатов\n",
    "df.duplicated().sum()"
   ]
  },
  {
   "cell_type": "code",
   "execution_count": 8,
   "metadata": {},
   "outputs": [],
   "source": [
    "# Удалим дубликаты\n",
    "df = df.drop_duplicates()"
   ]
  },
  {
   "cell_type": "markdown",
   "metadata": {},
   "source": [
    "- Добавим столбец даты и времени, а также отдельный столбец дат;"
   ]
  },
  {
   "cell_type": "code",
   "execution_count": 9,
   "metadata": {},
   "outputs": [],
   "source": [
    "#Создадим новый столбец и откорректируем типы данных\n",
    "df['datetime'] = pd.to_datetime(df['timestamp'], unit='s')\n",
    "df['date'] = df['datetime'].dt.date"
   ]
  },
  {
   "cell_type": "code",
   "execution_count": 10,
   "metadata": {},
   "outputs": [
    {
     "data": {
      "text/html": [
       "<div>\n",
       "<style scoped>\n",
       "    .dataframe tbody tr th:only-of-type {\n",
       "        vertical-align: middle;\n",
       "    }\n",
       "\n",
       "    .dataframe tbody tr th {\n",
       "        vertical-align: top;\n",
       "    }\n",
       "\n",
       "    .dataframe thead th {\n",
       "        text-align: right;\n",
       "    }\n",
       "</style>\n",
       "<table border=\"1\" class=\"dataframe\">\n",
       "  <thead>\n",
       "    <tr style=\"text-align: right;\">\n",
       "      <th></th>\n",
       "      <th>event_name</th>\n",
       "      <th>device_id</th>\n",
       "      <th>timestamp</th>\n",
       "      <th>experiment_id</th>\n",
       "      <th>datetime</th>\n",
       "      <th>date</th>\n",
       "    </tr>\n",
       "  </thead>\n",
       "  <tbody>\n",
       "    <tr>\n",
       "      <th>0</th>\n",
       "      <td>MainScreenAppear</td>\n",
       "      <td>4575588528974610257</td>\n",
       "      <td>1564029816</td>\n",
       "      <td>246</td>\n",
       "      <td>2019-07-25 04:43:36</td>\n",
       "      <td>2019-07-25</td>\n",
       "    </tr>\n",
       "    <tr>\n",
       "      <th>1</th>\n",
       "      <td>MainScreenAppear</td>\n",
       "      <td>7416695313311560658</td>\n",
       "      <td>1564053102</td>\n",
       "      <td>246</td>\n",
       "      <td>2019-07-25 11:11:42</td>\n",
       "      <td>2019-07-25</td>\n",
       "    </tr>\n",
       "    <tr>\n",
       "      <th>2</th>\n",
       "      <td>PaymentScreenSuccessful</td>\n",
       "      <td>3518123091307005509</td>\n",
       "      <td>1564054127</td>\n",
       "      <td>248</td>\n",
       "      <td>2019-07-25 11:28:47</td>\n",
       "      <td>2019-07-25</td>\n",
       "    </tr>\n",
       "    <tr>\n",
       "      <th>3</th>\n",
       "      <td>CartScreenAppear</td>\n",
       "      <td>3518123091307005509</td>\n",
       "      <td>1564054127</td>\n",
       "      <td>248</td>\n",
       "      <td>2019-07-25 11:28:47</td>\n",
       "      <td>2019-07-25</td>\n",
       "    </tr>\n",
       "    <tr>\n",
       "      <th>4</th>\n",
       "      <td>PaymentScreenSuccessful</td>\n",
       "      <td>6217807653094995999</td>\n",
       "      <td>1564055322</td>\n",
       "      <td>248</td>\n",
       "      <td>2019-07-25 11:48:42</td>\n",
       "      <td>2019-07-25</td>\n",
       "    </tr>\n",
       "    <tr>\n",
       "      <th>...</th>\n",
       "      <td>...</td>\n",
       "      <td>...</td>\n",
       "      <td>...</td>\n",
       "      <td>...</td>\n",
       "      <td>...</td>\n",
       "      <td>...</td>\n",
       "    </tr>\n",
       "    <tr>\n",
       "      <th>244121</th>\n",
       "      <td>MainScreenAppear</td>\n",
       "      <td>4599628364049201812</td>\n",
       "      <td>1565212345</td>\n",
       "      <td>247</td>\n",
       "      <td>2019-08-07 21:12:25</td>\n",
       "      <td>2019-08-07</td>\n",
       "    </tr>\n",
       "    <tr>\n",
       "      <th>244122</th>\n",
       "      <td>MainScreenAppear</td>\n",
       "      <td>5849806612437486590</td>\n",
       "      <td>1565212439</td>\n",
       "      <td>246</td>\n",
       "      <td>2019-08-07 21:13:59</td>\n",
       "      <td>2019-08-07</td>\n",
       "    </tr>\n",
       "    <tr>\n",
       "      <th>244123</th>\n",
       "      <td>MainScreenAppear</td>\n",
       "      <td>5746969938801999050</td>\n",
       "      <td>1565212483</td>\n",
       "      <td>246</td>\n",
       "      <td>2019-08-07 21:14:43</td>\n",
       "      <td>2019-08-07</td>\n",
       "    </tr>\n",
       "    <tr>\n",
       "      <th>244124</th>\n",
       "      <td>MainScreenAppear</td>\n",
       "      <td>5746969938801999050</td>\n",
       "      <td>1565212498</td>\n",
       "      <td>246</td>\n",
       "      <td>2019-08-07 21:14:58</td>\n",
       "      <td>2019-08-07</td>\n",
       "    </tr>\n",
       "    <tr>\n",
       "      <th>244125</th>\n",
       "      <td>OffersScreenAppear</td>\n",
       "      <td>5746969938801999050</td>\n",
       "      <td>1565212517</td>\n",
       "      <td>246</td>\n",
       "      <td>2019-08-07 21:15:17</td>\n",
       "      <td>2019-08-07</td>\n",
       "    </tr>\n",
       "  </tbody>\n",
       "</table>\n",
       "<p>243713 rows × 6 columns</p>\n",
       "</div>"
      ],
      "text/plain": [
       "                     event_name            device_id   timestamp  \\\n",
       "0              MainScreenAppear  4575588528974610257  1564029816   \n",
       "1              MainScreenAppear  7416695313311560658  1564053102   \n",
       "2       PaymentScreenSuccessful  3518123091307005509  1564054127   \n",
       "3              CartScreenAppear  3518123091307005509  1564054127   \n",
       "4       PaymentScreenSuccessful  6217807653094995999  1564055322   \n",
       "...                         ...                  ...         ...   \n",
       "244121         MainScreenAppear  4599628364049201812  1565212345   \n",
       "244122         MainScreenAppear  5849806612437486590  1565212439   \n",
       "244123         MainScreenAppear  5746969938801999050  1565212483   \n",
       "244124         MainScreenAppear  5746969938801999050  1565212498   \n",
       "244125       OffersScreenAppear  5746969938801999050  1565212517   \n",
       "\n",
       "        experiment_id            datetime        date  \n",
       "0                 246 2019-07-25 04:43:36  2019-07-25  \n",
       "1                 246 2019-07-25 11:11:42  2019-07-25  \n",
       "2                 248 2019-07-25 11:28:47  2019-07-25  \n",
       "3                 248 2019-07-25 11:28:47  2019-07-25  \n",
       "4                 248 2019-07-25 11:48:42  2019-07-25  \n",
       "...               ...                 ...         ...  \n",
       "244121            247 2019-08-07 21:12:25  2019-08-07  \n",
       "244122            246 2019-08-07 21:13:59  2019-08-07  \n",
       "244123            246 2019-08-07 21:14:43  2019-08-07  \n",
       "244124            246 2019-08-07 21:14:58  2019-08-07  \n",
       "244125            246 2019-08-07 21:15:17  2019-08-07  \n",
       "\n",
       "[243713 rows x 6 columns]"
      ]
     },
     "execution_count": 10,
     "metadata": {},
     "output_type": "execute_result"
    }
   ],
   "source": [
    "df"
   ]
  },
  {
   "cell_type": "markdown",
   "metadata": {},
   "source": [
    "#### Вывод\n",
    "В таблице были заменены названия столбцов, удалены 413 дубликатов, откорректированы типы данных, добавлены 2 столбца с датой и датой/временем. Пропуски в таблице отсутствуют."
   ]
  },
  {
   "cell_type": "markdown",
   "metadata": {},
   "source": [
    "### Шаг. Изучим и проверим данные"
   ]
  },
  {
   "cell_type": "markdown",
   "metadata": {},
   "source": [
    "- Сколько всего событий в логе?"
   ]
  },
  {
   "cell_type": "code",
   "execution_count": 11,
   "metadata": {},
   "outputs": [
    {
     "data": {
      "text/plain": [
       "243713"
      ]
     },
     "execution_count": 11,
     "metadata": {},
     "output_type": "execute_result"
    }
   ],
   "source": [
    "# всего событий\n",
    "df['event_name'].count()"
   ]
  },
  {
   "cell_type": "code",
   "execution_count": 12,
   "metadata": {},
   "outputs": [
    {
     "data": {
      "text/plain": [
       "5"
      ]
     },
     "execution_count": 12,
     "metadata": {},
     "output_type": "execute_result"
    }
   ],
   "source": [
    "#число уникальных событий\n",
    "df['event_name'].nunique()"
   ]
  },
  {
   "cell_type": "code",
   "execution_count": 13,
   "metadata": {},
   "outputs": [
    {
     "data": {
      "text/plain": [
       "MainScreenAppear           119101\n",
       "OffersScreenAppear          46808\n",
       "CartScreenAppear            42668\n",
       "PaymentScreenSuccessful     34118\n",
       "Tutorial                     1018\n",
       "Name: event_name, dtype: int64"
      ]
     },
     "execution_count": 13,
     "metadata": {},
     "output_type": "execute_result"
    }
   ],
   "source": [
    "# Посмотрим на количество событий каждого вида\n",
    "df['event_name'].value_counts()"
   ]
  },
  {
   "cell_type": "markdown",
   "metadata": {},
   "source": [
    "- Сколько всего пользователей в логе?"
   ]
  },
  {
   "cell_type": "code",
   "execution_count": 14,
   "metadata": {},
   "outputs": [
    {
     "data": {
      "text/plain": [
       "7551"
      ]
     },
     "execution_count": 14,
     "metadata": {},
     "output_type": "execute_result"
    }
   ],
   "source": [
    "#число уникальных пользователей\n",
    "df['device_id'].nunique()"
   ]
  },
  {
   "cell_type": "markdown",
   "metadata": {},
   "source": [
    "- Сколько в среднем событий приходится на пользователя?"
   ]
  },
  {
   "cell_type": "code",
   "execution_count": 15,
   "metadata": {
    "scrolled": true
   },
   "outputs": [
    {
     "name": "stdout",
     "output_type": "stream",
     "text": [
      "В среднем на пользователя приходится событий: 32\n"
     ]
    }
   ],
   "source": [
    "df_events = df.pivot_table(index='device_id', values='event_name', aggfunc='count') \n",
    "print('В среднем на пользователя приходится событий:', int(df_events.mean()))"
   ]
  },
  {
   "cell_type": "markdown",
   "metadata": {},
   "source": [
    "Проверим насколько уместно среднее значение. Посмотрим распределение кол-ва событий на пользователя:"
   ]
  },
  {
   "cell_type": "code",
   "execution_count": 16,
   "metadata": {
    "scrolled": true
   },
   "outputs": [
    {
     "data": {
      "text/html": [
       "<div>\n",
       "<style scoped>\n",
       "    .dataframe tbody tr th:only-of-type {\n",
       "        vertical-align: middle;\n",
       "    }\n",
       "\n",
       "    .dataframe tbody tr th {\n",
       "        vertical-align: top;\n",
       "    }\n",
       "\n",
       "    .dataframe thead th {\n",
       "        text-align: right;\n",
       "    }\n",
       "</style>\n",
       "<table border=\"1\" class=\"dataframe\">\n",
       "  <thead>\n",
       "    <tr style=\"text-align: right;\">\n",
       "      <th></th>\n",
       "      <th>event_name</th>\n",
       "    </tr>\n",
       "  </thead>\n",
       "  <tbody>\n",
       "    <tr>\n",
       "      <th>count</th>\n",
       "      <td>7551.000000</td>\n",
       "    </tr>\n",
       "    <tr>\n",
       "      <th>mean</th>\n",
       "      <td>32.275593</td>\n",
       "    </tr>\n",
       "    <tr>\n",
       "      <th>std</th>\n",
       "      <td>65.154219</td>\n",
       "    </tr>\n",
       "    <tr>\n",
       "      <th>min</th>\n",
       "      <td>1.000000</td>\n",
       "    </tr>\n",
       "    <tr>\n",
       "      <th>25%</th>\n",
       "      <td>9.000000</td>\n",
       "    </tr>\n",
       "    <tr>\n",
       "      <th>50%</th>\n",
       "      <td>20.000000</td>\n",
       "    </tr>\n",
       "    <tr>\n",
       "      <th>75%</th>\n",
       "      <td>37.000000</td>\n",
       "    </tr>\n",
       "    <tr>\n",
       "      <th>max</th>\n",
       "      <td>2307.000000</td>\n",
       "    </tr>\n",
       "  </tbody>\n",
       "</table>\n",
       "</div>"
      ],
      "text/plain": [
       "        event_name\n",
       "count  7551.000000\n",
       "mean     32.275593\n",
       "std      65.154219\n",
       "min       1.000000\n",
       "25%       9.000000\n",
       "50%      20.000000\n",
       "75%      37.000000\n",
       "max    2307.000000"
      ]
     },
     "execution_count": 16,
     "metadata": {},
     "output_type": "execute_result"
    }
   ],
   "source": [
    "df_events.describe()"
   ]
  },
  {
   "cell_type": "markdown",
   "metadata": {},
   "source": [
    "Действительно есть \"Выбросы\" свыше 2000 событий. Рациональнее при такой ситуации использовать медиану, а не среднее"
   ]
  },
  {
   "cell_type": "code",
   "execution_count": 17,
   "metadata": {},
   "outputs": [
    {
     "name": "stdout",
     "output_type": "stream",
     "text": [
      "Усредненное (Медианное) кол-во событий на пользователя : 20\n"
     ]
    }
   ],
   "source": [
    "print('Усредненное (Медианное) кол-во событий на пользователя :', int(df_events.median()))"
   ]
  },
  {
   "cell_type": "markdown",
   "metadata": {},
   "source": [
    "- Данными за какой период мы располагаем? Найдём максимальную и минимальную дату. Построим гистограмму по дате и времени.  \n",
    "Можно ли быть уверенным, что у нас одинаково полные данные за весь период? Технически в логи новых дней по некоторым пользователям могут «доезжать» события из прошлого — это может «перекашивать данные». Определим, с какого момента данные полные и отбросим более старые. Данными за какой период времени мы располагаем на самом деле?"
   ]
  },
  {
   "cell_type": "code",
   "execution_count": 18,
   "metadata": {},
   "outputs": [
    {
     "name": "stdout",
     "output_type": "stream",
     "text": [
      "Максимальная дата 2019-07-25\n"
     ]
    }
   ],
   "source": [
    "print('Максимальная дата', df['date'].min())"
   ]
  },
  {
   "cell_type": "code",
   "execution_count": 19,
   "metadata": {},
   "outputs": [
    {
     "name": "stdout",
     "output_type": "stream",
     "text": [
      "Минимальная дата 2019-08-07\n"
     ]
    }
   ],
   "source": [
    "print('Минимальная дата',df['date'].max())"
   ]
  },
  {
   "cell_type": "code",
   "execution_count": 20,
   "metadata": {},
   "outputs": [
    {
     "data": {
      "image/png": "[encoded data removed]",
      "text/plain": [
       "<Figure size 720x360 with 1 Axes>"
      ]
     },
     "metadata": {
      "needs_background": "light"
     },
     "output_type": "display_data"
    }
   ],
   "source": [
    "df['date'].hist(bins = 14)\n",
    "plt.title('Гистограмма по дате')\n",
    "plt.xlabel(\"Дата\")\n",
    "plt.ylabel('Количество событий')\n",
    "plt.xticks(rotation=50); \n"
   ]
  },
  {
   "cell_type": "markdown",
   "metadata": {},
   "source": [
    "По гистограмме видно, что до 01.08.201 совершается очень мало событий. Скорее всего как раз с этой даты все данные доехали, и можно оценивать результаты экспериментов."
   ]
  },
  {
   "cell_type": "code",
   "execution_count": 21,
   "metadata": {},
   "outputs": [
    {
     "data": {
      "image/png": "[encoded data removed]",
      "text/plain": [
       "<Figure size 720x360 with 1 Axes>"
      ]
     },
     "metadata": {
      "needs_background": "light"
     },
     "output_type": "display_data"
    }
   ],
   "source": [
    "df['date'] = pd.to_datetime(df['date'])\n",
    "df_new_data = df.query('date > \"2019-07-31\"')\n",
    "df_new_data['date'].hist(bins = 7).set_title('Гистограмма по дате')\n",
    "plt.ylabel('Количество событий')\n",
    "plt.xlabel(\"Дата\")\n",
    "plt.xticks(rotation=50);"
   ]
  },
  {
   "cell_type": "markdown",
   "metadata": {},
   "source": [
    "Теперь гистограмма выглядит наполненно на всем протяжение времени."
   ]
  },
  {
   "cell_type": "markdown",
   "metadata": {},
   "source": [
    "- Много ли событий и пользователей мы потеряли, отбросив старые данные?"
   ]
  },
  {
   "cell_type": "code",
   "execution_count": 22,
   "metadata": {
    "scrolled": true
   },
   "outputs": [
    {
     "name": "stdout",
     "output_type": "stream",
     "text": [
      "Было потеряно 2826 событий\n",
      "или 1.16 % событий\n"
     ]
    }
   ],
   "source": [
    "# Посмотрим, сколько событий было потеряно\n",
    "df_old_data = df.query('date <= \"2019-07-31\"')\n",
    "print('Было потеряно', df_old_data['event_name'].count(), 'событий')\n",
    "print('или', round((df_old_data['event_name'].count())/df['event_name'].count()*100,2), '% событий')"
   ]
  },
  {
   "cell_type": "code",
   "execution_count": 23,
   "metadata": {
    "scrolled": false
   },
   "outputs": [
    {
     "name": "stdout",
     "output_type": "stream",
     "text": [
      "Было потеряно 6 пользователей\n",
      "или 0.08 % пользователей\n"
     ]
    }
   ],
   "source": [
    "# Посмотрим, сколько пользователей было потеряно\n",
    "devices_lost = 0\n",
    "for row in df_new_data:\n",
    "    if row not in df_old_data['device_id'].unique():\n",
    "        devices_lost +=1 \n",
    "print('Было потеряно', devices_lost, 'пользователей')\n",
    "print('или', round((devices_lost)/df['device_id'].nunique()*100,2), '% пользователей')"
   ]
  },
  {
   "cell_type": "code",
   "execution_count": 24,
   "metadata": {},
   "outputs": [],
   "source": [
    "users = df['device_id'].nunique()"
   ]
  },
  {
   "cell_type": "code",
   "execution_count": 25,
   "metadata": {},
   "outputs": [],
   "source": [
    "new_users = df_new_data['device_id'].nunique()"
   ]
  },
  {
   "cell_type": "code",
   "execution_count": 26,
   "metadata": {
    "scrolled": true
   },
   "outputs": [
    {
     "name": "stdout",
     "output_type": "stream",
     "text": [
      "Было потеряно 17 пользователей,\n",
      "что составляет  0.23 %.\n"
     ]
    }
   ],
   "source": [
    "print('Было потеряно', users - new_users, 'пользователей,')\n",
    "print('что составляет ', round((users - new_users)/users*100,2), '%.')"
   ]
  },
  {
   "cell_type": "markdown",
   "metadata": {},
   "source": [
    "- Проверим, что у нас есть пользователи из всех трёх экспериментальных групп."
   ]
  },
  {
   "cell_type": "code",
   "execution_count": 27,
   "metadata": {
    "scrolled": true
   },
   "outputs": [
    {
     "data": {
      "text/plain": [
       "248    84563\n",
       "246    79302\n",
       "247    77022\n",
       "Name: experiment_id, dtype: int64"
      ]
     },
     "execution_count": 27,
     "metadata": {},
     "output_type": "execute_result"
    }
   ],
   "source": [
    "#количество событий для каждой группы\n",
    "df_new_data['experiment_id'].value_counts()"
   ]
  },
  {
   "cell_type": "code",
   "execution_count": 28,
   "metadata": {},
   "outputs": [
    {
     "data": {
      "text/plain": [
       "experiment_id\n",
       "246    2484\n",
       "247    2513\n",
       "248    2537\n",
       "Name: device_id, dtype: int64"
      ]
     },
     "execution_count": 28,
     "metadata": {},
     "output_type": "execute_result"
    }
   ],
   "source": [
    "#количество пользователей для каждой группы\n",
    "df_new_data.groupby('experiment_id')['device_id'].nunique()"
   ]
  },
  {
   "cell_type": "markdown",
   "metadata": {},
   "source": [
    "У нас есть примерно одинаковое количество пользователей из всех трёх экспериментальных групп. "
   ]
  },
  {
   "cell_type": "markdown",
   "metadata": {},
   "source": [
    "#### Вывод:  \n",
    "В ходе проверки данных выяснилось, что данные предоставлены с 25 июля по 7 августа. Кол-во событий, происходивших в июле  незначительно по сравнению с августовскими. Поэтому июльские данные принято исключить из анализа. В ходе исключения(отрезания) было отрезано 0,23% пользователей и 1,16% событий - что вполне допустимо, и существенно не должно повлиять на дальнейший анализ. Усредненное (Медианное) кол-во событий на пользователя : 20. Кол-во пользователей в каждой группе осталось примерно 2,5 тысячи, а событий примерно по 80 тысяч, это довольно одинаковые данные."
   ]
  },
  {
   "cell_type": "markdown",
   "metadata": {},
   "source": [
    "### Шаг. Изучим воронку событий"
   ]
  },
  {
   "cell_type": "markdown",
   "metadata": {},
   "source": [
    "- Посмотрим, какие события есть в логах, как часто они встречаются. Отсортируем события по частоте."
   ]
  },
  {
   "cell_type": "code",
   "execution_count": 29,
   "metadata": {},
   "outputs": [
    {
     "data": {
      "text/plain": [
       "MainScreenAppear           117328\n",
       "OffersScreenAppear          46333\n",
       "CartScreenAppear            42303\n",
       "PaymentScreenSuccessful     33918\n",
       "Tutorial                     1005\n",
       "Name: event_name, dtype: int64"
      ]
     },
     "execution_count": 29,
     "metadata": {},
     "output_type": "execute_result"
    }
   ],
   "source": [
    "df_new_data['event_name'].value_counts()"
   ]
  },
  {
   "cell_type": "markdown",
   "metadata": {},
   "source": [
    "В логе есть 5 событий, по частоте: показ пользователю главного экрана, показ экрана с предложением, показ экрана корзины, показ экрана с подтверждением оплаты, показ руководства"
   ]
  },
  {
   "cell_type": "markdown",
   "metadata": {},
   "source": [
    "- Посчитаем, сколько пользователей совершали каждое из этих событий. Отсортируем события по числу пользователей. Посчитаем долю пользователей, которые хоть раз совершали событие.                     "
   ]
  },
  {
   "cell_type": "code",
   "execution_count": 30,
   "metadata": {},
   "outputs": [
    {
     "data": {
      "text/html": [
       "<div>\n",
       "<style scoped>\n",
       "    .dataframe tbody tr th:only-of-type {\n",
       "        vertical-align: middle;\n",
       "    }\n",
       "\n",
       "    .dataframe tbody tr th {\n",
       "        vertical-align: top;\n",
       "    }\n",
       "\n",
       "    .dataframe thead th {\n",
       "        text-align: right;\n",
       "    }\n",
       "</style>\n",
       "<table border=\"1\" class=\"dataframe\">\n",
       "  <thead>\n",
       "    <tr style=\"text-align: right;\">\n",
       "      <th></th>\n",
       "      <th>device_id</th>\n",
       "    </tr>\n",
       "    <tr>\n",
       "      <th>event_name</th>\n",
       "      <th></th>\n",
       "    </tr>\n",
       "  </thead>\n",
       "  <tbody>\n",
       "    <tr>\n",
       "      <th>MainScreenAppear</th>\n",
       "      <td>7419</td>\n",
       "    </tr>\n",
       "    <tr>\n",
       "      <th>OffersScreenAppear</th>\n",
       "      <td>4593</td>\n",
       "    </tr>\n",
       "    <tr>\n",
       "      <th>CartScreenAppear</th>\n",
       "      <td>3734</td>\n",
       "    </tr>\n",
       "    <tr>\n",
       "      <th>PaymentScreenSuccessful</th>\n",
       "      <td>3539</td>\n",
       "    </tr>\n",
       "    <tr>\n",
       "      <th>Tutorial</th>\n",
       "      <td>840</td>\n",
       "    </tr>\n",
       "  </tbody>\n",
       "</table>\n",
       "</div>"
      ],
      "text/plain": [
       "                         device_id\n",
       "event_name                        \n",
       "MainScreenAppear              7419\n",
       "OffersScreenAppear            4593\n",
       "CartScreenAppear              3734\n",
       "PaymentScreenSuccessful       3539\n",
       "Tutorial                       840"
      ]
     },
     "execution_count": 30,
     "metadata": {},
     "output_type": "execute_result"
    }
   ],
   "source": [
    "#Сгруппируем датафрейм по полю event_name и посчитаем пользователей\n",
    "df_new_data_events= df_new_data.groupby('event_name').agg({'device_id': 'nunique'}).sort_values(by='device_id', ascending=False)\n",
    "df_new_data_events"
   ]
  },
  {
   "cell_type": "code",
   "execution_count": 31,
   "metadata": {},
   "outputs": [
    {
     "data": {
      "text/html": [
       "<div>\n",
       "<style scoped>\n",
       "    .dataframe tbody tr th:only-of-type {\n",
       "        vertical-align: middle;\n",
       "    }\n",
       "\n",
       "    .dataframe tbody tr th {\n",
       "        vertical-align: top;\n",
       "    }\n",
       "\n",
       "    .dataframe thead th {\n",
       "        text-align: right;\n",
       "    }\n",
       "</style>\n",
       "<table border=\"1\" class=\"dataframe\">\n",
       "  <thead>\n",
       "    <tr style=\"text-align: right;\">\n",
       "      <th></th>\n",
       "      <th>device_id</th>\n",
       "      <th>share_users</th>\n",
       "    </tr>\n",
       "    <tr>\n",
       "      <th>event_name</th>\n",
       "      <th></th>\n",
       "      <th></th>\n",
       "    </tr>\n",
       "  </thead>\n",
       "  <tbody>\n",
       "    <tr>\n",
       "      <th>MainScreenAppear</th>\n",
       "      <td>7419</td>\n",
       "      <td>98.5</td>\n",
       "    </tr>\n",
       "    <tr>\n",
       "      <th>OffersScreenAppear</th>\n",
       "      <td>4593</td>\n",
       "      <td>61.0</td>\n",
       "    </tr>\n",
       "    <tr>\n",
       "      <th>CartScreenAppear</th>\n",
       "      <td>3734</td>\n",
       "      <td>49.6</td>\n",
       "    </tr>\n",
       "    <tr>\n",
       "      <th>PaymentScreenSuccessful</th>\n",
       "      <td>3539</td>\n",
       "      <td>47.0</td>\n",
       "    </tr>\n",
       "    <tr>\n",
       "      <th>Tutorial</th>\n",
       "      <td>840</td>\n",
       "      <td>11.1</td>\n",
       "    </tr>\n",
       "  </tbody>\n",
       "</table>\n",
       "</div>"
      ],
      "text/plain": [
       "                         device_id  share_users\n",
       "event_name                                     \n",
       "MainScreenAppear              7419         98.5\n",
       "OffersScreenAppear            4593         61.0\n",
       "CartScreenAppear              3734         49.6\n",
       "PaymentScreenSuccessful       3539         47.0\n",
       "Tutorial                       840         11.1"
      ]
     },
     "execution_count": 31,
     "metadata": {},
     "output_type": "execute_result"
    }
   ],
   "source": [
    "# Посчитаем долю пользователей, которые хоть раз совершали событие\n",
    "df_new_data_events['share_users'] = round(df_new_data_events['device_id']/len(df_new_data['device_id'].unique()), 3) * 100\n",
    "df_new_data_events"
   ]
  },
  {
   "cell_type": "markdown",
   "metadata": {},
   "source": [
    "Как видим, у первого события `MainScreenAppear` доля пользователей, его совершивших, составляет 98.5%, хотя кажется, что первое событие воронки должны совершить все пользователи?\n",
    "Возможно так получилось из за \"отрезания\" части данных за июль\n",
    "или пользователь переходит на страницу товара минуя главный экран, например по ссылке с рекламы.\n",
    "</div>"
   ]
  },
  {
   "cell_type": "markdown",
   "metadata": {},
   "source": [
    "- Предположим, в каком порядке происходят события. Все ли они выстраиваются в последовательную цепочку? Их не нужно учитывать при расчёте воронки."
   ]
  },
  {
   "cell_type": "markdown",
   "metadata": {},
   "source": [
    "События могут происходить в следующем порядке: показ пользователю главного экрана, показ экрана с предложением, показ экрана корзины, показ экрана с подтверждением оплаты. Воронка выстраивается в логичную цепочку.   \n",
    "Показ руководства имеет последнее место в событиях, скорее всего не все пользователи переходят на экран инструкций, она не обязательна и можно не учитывать в воронке. "
   ]
  },
  {
   "cell_type": "markdown",
   "metadata": {},
   "source": [
    "- По воронке событий посчитаем, какая доля пользователей проходит на следующий шаг воронки (от числа пользователей на предыдущем). То есть для последовательности событий A → B → C посчитаем отношение числа пользователей с событием B к количеству пользователей с событием A, а также отношение числа пользователей с событием C к количеству пользователей с событием B."
   ]
  },
  {
   "cell_type": "code",
   "execution_count": 32,
   "metadata": {
    "scrolled": true
   },
   "outputs": [
    {
     "data": {
      "text/html": [
       "<div>\n",
       "<style scoped>\n",
       "    .dataframe tbody tr th:only-of-type {\n",
       "        vertical-align: middle;\n",
       "    }\n",
       "\n",
       "    .dataframe tbody tr th {\n",
       "        vertical-align: top;\n",
       "    }\n",
       "\n",
       "    .dataframe thead th {\n",
       "        text-align: right;\n",
       "    }\n",
       "</style>\n",
       "<table border=\"1\" class=\"dataframe\">\n",
       "  <thead>\n",
       "    <tr style=\"text-align: right;\">\n",
       "      <th></th>\n",
       "      <th>device_id</th>\n",
       "      <th>share_users</th>\n",
       "      <th>conversion</th>\n",
       "    </tr>\n",
       "    <tr>\n",
       "      <th>event_name</th>\n",
       "      <th></th>\n",
       "      <th></th>\n",
       "      <th></th>\n",
       "    </tr>\n",
       "  </thead>\n",
       "  <tbody>\n",
       "    <tr>\n",
       "      <th>MainScreenAppear</th>\n",
       "      <td>7419</td>\n",
       "      <td>98.5</td>\n",
       "      <td>100</td>\n",
       "    </tr>\n",
       "    <tr>\n",
       "      <th>OffersScreenAppear</th>\n",
       "      <td>4593</td>\n",
       "      <td>61.0</td>\n",
       "      <td>62</td>\n",
       "    </tr>\n",
       "    <tr>\n",
       "      <th>CartScreenAppear</th>\n",
       "      <td>3734</td>\n",
       "      <td>49.6</td>\n",
       "      <td>81</td>\n",
       "    </tr>\n",
       "    <tr>\n",
       "      <th>PaymentScreenSuccessful</th>\n",
       "      <td>3539</td>\n",
       "      <td>47.0</td>\n",
       "      <td>95</td>\n",
       "    </tr>\n",
       "    <tr>\n",
       "      <th>Tutorial</th>\n",
       "      <td>840</td>\n",
       "      <td>11.1</td>\n",
       "      <td>24</td>\n",
       "    </tr>\n",
       "  </tbody>\n",
       "</table>\n",
       "</div>"
      ],
      "text/plain": [
       "                         device_id  share_users  conversion\n",
       "event_name                                                 \n",
       "MainScreenAppear              7419         98.5         100\n",
       "OffersScreenAppear            4593         61.0          62\n",
       "CartScreenAppear              3734         49.6          81\n",
       "PaymentScreenSuccessful       3539         47.0          95\n",
       "Tutorial                       840         11.1          24"
      ]
     },
     "metadata": {},
     "output_type": "display_data"
    }
   ],
   "source": [
    "#Создадим столбец конверсий и рассчитаем их в цикле\n",
    "df_new_data_events['conversion'] = 0\n",
    "for i in range(0, len(df_new_data_events['share_users'])):\n",
    "    if i == 0:\n",
    "        df_new_data_events['conversion'].iloc[i] = 100\n",
    "    else:\n",
    "        df_new_data_events['conversion'].iloc[i] = round(int(df_new_data_events['device_id'].iloc[i]) / int(df_new_data_events['device_id'].iloc[i-1]), 2)*100\n",
    "display(df_new_data_events)"
   ]
  },
  {
   "cell_type": "code",
   "execution_count": 33,
   "metadata": {},
   "outputs": [
    {
     "data": {
      "text/html": [
       "<div>\n",
       "<style scoped>\n",
       "    .dataframe tbody tr th:only-of-type {\n",
       "        vertical-align: middle;\n",
       "    }\n",
       "\n",
       "    .dataframe tbody tr th {\n",
       "        vertical-align: top;\n",
       "    }\n",
       "\n",
       "    .dataframe thead th {\n",
       "        text-align: right;\n",
       "    }\n",
       "</style>\n",
       "<table border=\"1\" class=\"dataframe\">\n",
       "  <thead>\n",
       "    <tr style=\"text-align: right;\">\n",
       "      <th></th>\n",
       "      <th>device_id</th>\n",
       "      <th>share_users</th>\n",
       "      <th>conversion</th>\n",
       "    </tr>\n",
       "    <tr>\n",
       "      <th>event_name</th>\n",
       "      <th></th>\n",
       "      <th></th>\n",
       "      <th></th>\n",
       "    </tr>\n",
       "  </thead>\n",
       "  <tbody>\n",
       "    <tr>\n",
       "      <th>MainScreenAppear</th>\n",
       "      <td>7419</td>\n",
       "      <td>98.5</td>\n",
       "      <td>NaN</td>\n",
       "    </tr>\n",
       "    <tr>\n",
       "      <th>OffersScreenAppear</th>\n",
       "      <td>4593</td>\n",
       "      <td>61.0</td>\n",
       "      <td>62.0</td>\n",
       "    </tr>\n",
       "    <tr>\n",
       "      <th>CartScreenAppear</th>\n",
       "      <td>3734</td>\n",
       "      <td>49.6</td>\n",
       "      <td>81.0</td>\n",
       "    </tr>\n",
       "    <tr>\n",
       "      <th>PaymentScreenSuccessful</th>\n",
       "      <td>3539</td>\n",
       "      <td>47.0</td>\n",
       "      <td>95.0</td>\n",
       "    </tr>\n",
       "    <tr>\n",
       "      <th>Tutorial</th>\n",
       "      <td>840</td>\n",
       "      <td>11.1</td>\n",
       "      <td>24.0</td>\n",
       "    </tr>\n",
       "  </tbody>\n",
       "</table>\n",
       "</div>"
      ],
      "text/plain": [
       "                         device_id  share_users  conversion\n",
       "event_name                                                 \n",
       "MainScreenAppear              7419         98.5         NaN\n",
       "OffersScreenAppear            4593         61.0        62.0\n",
       "CartScreenAppear              3734         49.6        81.0\n",
       "PaymentScreenSuccessful       3539         47.0        95.0\n",
       "Tutorial                       840         11.1        24.0"
      ]
     },
     "execution_count": 33,
     "metadata": {},
     "output_type": "execute_result"
    }
   ],
   "source": [
    "df_new_data_events['conversion'] = round(df_new_data_events['device_id'] / df_new_data_events['device_id'].shift(1),2)*100\n",
    "df_new_data_events"
   ]
  },
  {
   "cell_type": "markdown",
   "metadata": {},
   "source": [
    "Мы посчитали, какой процент пользователей от предыдущего шага проходит на следующий шаг из этапов воронки. На экран с предложением проходит 62% пользователей, посмотревших главный экран. На экран с корзиной переходит 81% пользователей. На экран с успешной оплатой переходит 95% пользователей. Событие Tutorial не принимаем во внимание."
   ]
  },
  {
   "cell_type": "markdown",
   "metadata": {},
   "source": [
    "- На каком шаге теряете больше всего пользователей?"
   ]
  },
  {
   "cell_type": "markdown",
   "metadata": {},
   "source": [
    "К оплате переходит 95% пользователей от предыдущего шага, а вот к экрану с предложением проходит только 62% пользователей, на этом шаге теряется больше всего пользователей."
   ]
  },
  {
   "cell_type": "markdown",
   "metadata": {},
   "source": [
    "- Какая доля пользователей доходит от первого события до оплаты?"
   ]
  },
  {
   "cell_type": "code",
   "execution_count": 34,
   "metadata": {},
   "outputs": [
    {
     "name": "stdout",
     "output_type": "stream",
     "text": [
      "До оплаты доходит 48.0 % пользователей\n"
     ]
    }
   ],
   "source": [
    "print('До оплаты доходит', round(df_new_data_events['device_id'].iloc[3]/df_new_data_events['device_id'].iloc[0], 2)*100, '% пользователей')"
   ]
  },
  {
   "cell_type": "markdown",
   "metadata": {},
   "source": [
    "#### Вывод:\n",
    "\n",
    "Воронка продаж имеет следующие ступени:\n",
    "\n",
    "MainScreenAppear - Появление Главного экрана - Зашли на сайт  \n",
    "OffersScreenAppear - Появление Экрана Предложений - Искали товар по каталогу  \n",
    "CartScreenAppear - Появление Экрана Корзины - Добавили в корзину  \n",
    "PaymentScreenSuccessful - Экран Платеж Успешен - Оплатили  \n",
    "Tutorial - Руководство пользователя - Изучали инструкцию  \n",
    "На второй этап воронки попадает 62% пользователей, а 38% \"теряются по дороге\". Это большая цифра и здесь необходимо веб-аналитикам выянить почему так происходит, наверняка есть возможность исправить ситуацию;  \n",
    "\n",
    "Событие \"Tutorial\" не несет полезной нагрузки, поэтому его можно не принимать во внимание;  \n",
    "\n",
    "Пройдя по воронке, до экрана \"PaymentScreenSuccessful\" доходят 48% пользователей, то есть те кто становиться покупателями."
   ]
  },
  {
   "cell_type": "markdown",
   "metadata": {},
   "source": [
    "### Шаг. Изучим результаты эксперимента"
   ]
  },
  {
   "cell_type": "markdown",
   "metadata": {},
   "source": [
    "- Сколько пользователей в каждой экспериментальной группе?"
   ]
  },
  {
   "cell_type": "code",
   "execution_count": 35,
   "metadata": {
    "scrolled": true
   },
   "outputs": [
    {
     "data": {
      "text/html": [
       "<div>\n",
       "<style scoped>\n",
       "    .dataframe tbody tr th:only-of-type {\n",
       "        vertical-align: middle;\n",
       "    }\n",
       "\n",
       "    .dataframe tbody tr th {\n",
       "        vertical-align: top;\n",
       "    }\n",
       "\n",
       "    .dataframe thead th {\n",
       "        text-align: right;\n",
       "    }\n",
       "</style>\n",
       "<table border=\"1\" class=\"dataframe\">\n",
       "  <thead>\n",
       "    <tr style=\"text-align: right;\">\n",
       "      <th></th>\n",
       "      <th>device_id</th>\n",
       "    </tr>\n",
       "    <tr>\n",
       "      <th>experiment_id</th>\n",
       "      <th></th>\n",
       "    </tr>\n",
       "  </thead>\n",
       "  <tbody>\n",
       "    <tr>\n",
       "      <th>246</th>\n",
       "      <td>2484</td>\n",
       "    </tr>\n",
       "    <tr>\n",
       "      <th>247</th>\n",
       "      <td>2513</td>\n",
       "    </tr>\n",
       "    <tr>\n",
       "      <th>248</th>\n",
       "      <td>2537</td>\n",
       "    </tr>\n",
       "  </tbody>\n",
       "</table>\n",
       "</div>"
      ],
      "text/plain": [
       "               device_id\n",
       "experiment_id           \n",
       "246                 2484\n",
       "247                 2513\n",
       "248                 2537"
      ]
     },
     "execution_count": 35,
     "metadata": {},
     "output_type": "execute_result"
    }
   ],
   "source": [
    "#Сделаем сводную таблицу с количествои пользователей на каждую группу\n",
    "df_new_data_groups = df_new_data.pivot_table(index='experiment_id',values='device_id',aggfunc='nunique')\n",
    "df_new_data_groups"
   ]
  },
  {
   "cell_type": "code",
   "execution_count": 36,
   "metadata": {
    "scrolled": true
   },
   "outputs": [
    {
     "data": {
      "text/plain": [
       "experiment_id\n",
       "246        2484\n",
       "247        2513\n",
       "248        2537\n",
       "246+247    4997\n",
       "Name: device_id, dtype: int64"
      ]
     },
     "execution_count": 36,
     "metadata": {},
     "output_type": "execute_result"
    }
   ],
   "source": [
    "users_bygroup = df_new_data.groupby('experiment_id')['device_id'].nunique()\n",
    "users_bygroup['246+247'] = users_bygroup[246] + users_bygroup[247]\n",
    "users_bygroup"
   ]
  },
  {
   "cell_type": "markdown",
   "metadata": {},
   "source": [
    "Проверим нет ли в данных пользователей, участвовавших в нескольких группах теста одновременно\n"
   ]
  },
  {
   "cell_type": "code",
   "execution_count": 37,
   "metadata": {},
   "outputs": [
    {
     "name": "stdout",
     "output_type": "stream",
     "text": [
      "0\n",
      "0\n",
      "0\n"
     ]
    }
   ],
   "source": [
    "dubl_A1B = df_new_data.loc[df_new_data['experiment_id']==\"246\", 'device_id'].isin(df_new_data.loc[df_new_data['experiment_id']==\"248\", 'device_id'])\n",
    "print(dubl_A1B.shape[0])\n",
    "\n",
    "dubl_A2B = df_new_data.loc[df_new_data['experiment_id']==\"247\", 'device_id'].isin(df_new_data.loc[df_new_data['experiment_id']==\"248\", 'device_id'])\n",
    "print(dubl_A2B.shape[0])\n",
    "\n",
    "dubl_A3B = df_new_data.loc[df_new_data['experiment_id']==\"247\", 'device_id'].isin(df_new_data.loc[df_new_data['experiment_id']==\"246\", 'device_id'])\n",
    "print(dubl_A2B.shape[0])"
   ]
  },
  {
   "cell_type": "markdown",
   "metadata": {},
   "source": [
    "Разбивка на группы довольно равномерная и можно считать её корректной."
   ]
  },
  {
   "cell_type": "markdown",
   "metadata": {},
   "source": [
    "- Есть 2 контрольные группы для А/А-эксперимента, чтобы проверить корректность всех механизмов и расчётов. Проверьте, находят ли статистические критерии разницу между выборками 246 и 247.\n",
    "- Выберем самое популярное событие. Посчитаем число пользователей, совершивших это событие в каждой из контрольных групп. Посчитаем долю пользователей, совершивших это событие. Проверим, будет ли отличие между группами статистически достоверным. Проделаем то же самое для всех других событий (удобно обернуть проверку в отдельную функцию). Можно ли сказать, что разбиение на группы работает корректно?  "
   ]
  },
  {
   "cell_type": "markdown",
   "metadata": {},
   "source": [
    "Для проведения тестов составим таблицу \"event_group_test\", где указано число пользователей в воронке, идущей по событиям и по всем группам (исключая событие \"Tutorial\"):"
   ]
  },
  {
   "cell_type": "code",
   "execution_count": 38,
   "metadata": {},
   "outputs": [
    {
     "data": {
      "text/html": [
       "<div>\n",
       "<style scoped>\n",
       "    .dataframe tbody tr th:only-of-type {\n",
       "        vertical-align: middle;\n",
       "    }\n",
       "\n",
       "    .dataframe tbody tr th {\n",
       "        vertical-align: top;\n",
       "    }\n",
       "\n",
       "    .dataframe thead th {\n",
       "        text-align: right;\n",
       "    }\n",
       "</style>\n",
       "<table border=\"1\" class=\"dataframe\">\n",
       "  <thead>\n",
       "    <tr style=\"text-align: right;\">\n",
       "      <th>experiment_id</th>\n",
       "      <th>event_name</th>\n",
       "      <th>246</th>\n",
       "      <th>247</th>\n",
       "      <th>248</th>\n",
       "      <th>246+247</th>\n",
       "      <th>all</th>\n",
       "      <th>share_246</th>\n",
       "      <th>share_247</th>\n",
       "      <th>share_248</th>\n",
       "      <th>share_246+247</th>\n",
       "    </tr>\n",
       "  </thead>\n",
       "  <tbody>\n",
       "    <tr>\n",
       "      <th>0</th>\n",
       "      <td>MainScreenAppear</td>\n",
       "      <td>2450</td>\n",
       "      <td>2476</td>\n",
       "      <td>2493</td>\n",
       "      <td>4926</td>\n",
       "      <td>7419</td>\n",
       "      <td>98.6</td>\n",
       "      <td>98.5</td>\n",
       "      <td>98.3</td>\n",
       "      <td>98.6</td>\n",
       "    </tr>\n",
       "    <tr>\n",
       "      <th>1</th>\n",
       "      <td>OffersScreenAppear</td>\n",
       "      <td>1542</td>\n",
       "      <td>1520</td>\n",
       "      <td>1531</td>\n",
       "      <td>3062</td>\n",
       "      <td>4593</td>\n",
       "      <td>62.1</td>\n",
       "      <td>60.5</td>\n",
       "      <td>60.3</td>\n",
       "      <td>61.3</td>\n",
       "    </tr>\n",
       "    <tr>\n",
       "      <th>2</th>\n",
       "      <td>CartScreenAppear</td>\n",
       "      <td>1266</td>\n",
       "      <td>1238</td>\n",
       "      <td>1230</td>\n",
       "      <td>2504</td>\n",
       "      <td>3734</td>\n",
       "      <td>51.0</td>\n",
       "      <td>49.3</td>\n",
       "      <td>48.5</td>\n",
       "      <td>50.1</td>\n",
       "    </tr>\n",
       "    <tr>\n",
       "      <th>3</th>\n",
       "      <td>PaymentScreenSuccessful</td>\n",
       "      <td>1200</td>\n",
       "      <td>1158</td>\n",
       "      <td>1181</td>\n",
       "      <td>2358</td>\n",
       "      <td>3539</td>\n",
       "      <td>48.3</td>\n",
       "      <td>46.1</td>\n",
       "      <td>46.6</td>\n",
       "      <td>47.2</td>\n",
       "    </tr>\n",
       "  </tbody>\n",
       "</table>\n",
       "</div>"
      ],
      "text/plain": [
       "experiment_id               event_name   246   247   248  246+247   all  \\\n",
       "0                     MainScreenAppear  2450  2476  2493     4926  7419   \n",
       "1                   OffersScreenAppear  1542  1520  1531     3062  4593   \n",
       "2                     CartScreenAppear  1266  1238  1230     2504  3734   \n",
       "3              PaymentScreenSuccessful  1200  1158  1181     2358  3539   \n",
       "\n",
       "experiment_id  share_246  share_247  share_248  share_246+247  \n",
       "0                   98.6       98.5       98.3           98.6  \n",
       "1                   62.1       60.5       60.3           61.3  \n",
       "2                   51.0       49.3       48.5           50.1  \n",
       "3                   48.3       46.1       46.6           47.2  "
      ]
     },
     "execution_count": 38,
     "metadata": {},
     "output_type": "execute_result"
    }
   ],
   "source": [
    "event_group_test = df_new_data[df_new_data['event_name']!='Tutorial'].pivot_table(\n",
    "    index='event_name', \n",
    "    columns='experiment_id', \n",
    "    values='device_id',\n",
    "    aggfunc='nunique').sort_values(by=246, ascending=False)\n",
    "\n",
    "event_group_test = event_group_test.reset_index()\n",
    "event_group_test['246+247'] = event_group_test[246] + event_group_test[247]\n",
    "event_group_test['all'] = event_group_test['246+247'] + event_group_test[248]\n",
    "\n",
    "event_group_test['share_246'] = (event_group_test[246] / users_bygroup[246] * 100).round(1)\n",
    "event_group_test['share_247'] = (event_group_test[247] / users_bygroup[247] * 100).round(1)\n",
    "event_group_test['share_248'] = (event_group_test[248] / users_bygroup[248] * 100).round(1)\n",
    "event_group_test['share_246+247'] = ((event_group_test[246] + event_group_test[247]) / \\\n",
    "                                 (users_bygroup[246] + users_bygroup[247]) * 100).round(1)\n",
    "event_group_test"
   ]
  },
  {
   "cell_type": "code",
   "execution_count": 39,
   "metadata": {},
   "outputs": [
    {
     "data": {
      "text/plain": [
       "MainScreenAppear           117328\n",
       "OffersScreenAppear          46333\n",
       "CartScreenAppear            42303\n",
       "PaymentScreenSuccessful     33918\n",
       "Tutorial                     1005\n",
       "Name: event_name, dtype: int64"
      ]
     },
     "execution_count": 39,
     "metadata": {},
     "output_type": "execute_result"
    }
   ],
   "source": [
    "df_new_data['event_name'].value_counts()"
   ]
  },
  {
   "cell_type": "markdown",
   "metadata": {},
   "source": [
    "Самое популяпное событие - это \"MainScreenAppear\" (появление главного экрана) \n",
    "\n",
    "Число пользователей совершивших самое популярное событие \"MainScreenAppear\" - 7419, в разрезе групп:  \n",
    "246 - 2450  \n",
    "247 - 2476  \n",
    "248 - 2493  \n",
    "\n",
    "Доли пользователей совершивших самое популярное событие \"MainScreenAppear\", в разрезе групп:  \n",
    "246 - 98,6%  \n",
    "247 - 98,5%  \n",
    "248 - 98,3%\n"
   ]
  },
  {
   "cell_type": "markdown",
   "metadata": {},
   "source": [
    "Перед тем как начать A/B-тест:\n",
    "\n",
    "Для этого проводят A/A-тест. Он похож на A/B-тест, только группам показывают не разные, а одинаковые версии страниц. Если трафик и инструмент проведения A/A-теста не подвели, различий в показателях не будет. Ещё А/А-тест помогает определить длительность теста и методику анализа данных.\n",
    "\n",
    "Критерии успешного A/A-теста:\n",
    "\n",
    "Количество пользователей в различных группах различается не более, чем на 1%;  \n",
    "Для всех групп фиксируют и отправляют в системы аналитики данные об одном и том же;  \n",
    "Различие ключевых метрик по группам не превышает 1% и не имеет статистической значимости;  \n",
    "Попавший в одну из групп посетитель остаётся в этой группе до конца теста. Если пользователь видит разные версии исследуемой страницы в ходе одного исследования, неизвестно, какая именно повлияла на его решения. Значит, и результаты такого теста нельзя интерпретировать однозначно.\n",
    "\n",
    "Степень различия ключевых метрик по группам зависит от необходимой чувствительности эксперимента. Скажем, если вы хотите определить результаты теста, в котором ожидаете не менее 30% прироста, то 10% погрешности измерений вас устроят. Однако такое бывает редко: изменение показателей на 30% обычно заметно и без A/B-теста. Его применяют там, где степень различия между группами не больше 10%, или же подвержены колебаниям. В таких случаях точность A/A-теста в 1% — распространённый критерий."
   ]
  },
  {
   "cell_type": "markdown",
   "metadata": {},
   "source": [
    "Теперь напишем функцию \"z_test\" для проведения тестов, на вход подаются 3 параметра: группа1, группа2, alpha(уровень статистической значимости):\n",
    "\n"
   ]
  },
  {
   "cell_type": "code",
   "execution_count": 40,
   "metadata": {
    "scrolled": true
   },
   "outputs": [],
   "source": [
    "def z_test(group1, group2, alpha):\n",
    "    for i in event_group_test.index:\n",
    "        p1 = event_group_test[group1][i] / users_bygroup[group1]\n",
    "        # пропорция успехов во второй группе:\n",
    "        p2 = event_group_test[group2][i] / users_bygroup[group2]\n",
    "        # пропорция успехов в комбинированном датасете:\n",
    "        p_combined = ((event_group_test[group1][i] + event_group_test[group2][i]) / \n",
    "                      (users_bygroup[group1] + users_bygroup[group2]))\n",
    "        # разница пропорций в датасетах\n",
    "        difference = p1 - p2\n",
    "        # считаем статистику в ст.отклонениях стандартного нормального распределения\n",
    "        z_value = difference / mth.sqrt(p_combined * (1 - p_combined) * \n",
    "                                        (1/users_bygroup[group1] + 1/users_bygroup[group2]))\n",
    "        # задаем стандартное нормальное распределение (среднее 0, ст.отклонение 1)\n",
    "        distr = st.norm(0, 1) \n",
    "        p_value = (1 - distr.cdf(abs(z_value))) * 2\n",
    "        print('{} p-значение: {}'.format(event_group_test['event_name'][i], p_value))\n",
    "        if (p_value < alpha):\n",
    "            print(\"Отвергаем нулевую гипотезу: между долями есть значимая разница\")\n",
    "        else:\n",
    "            print(\"Не получилось отвергнуть нулевую гипотезу, нет оснований считать доли разными\")\n",
    "        print('')"
   ]
  },
  {
   "cell_type": "markdown",
   "metadata": {},
   "source": [
    "Нулевая гипотеза: Доли в двух выборках равны  \n",
    "Альтернративная гипотеза: Доли в двух выборках не равны"
   ]
  },
  {
   "cell_type": "code",
   "execution_count": 41,
   "metadata": {
    "scrolled": false
   },
   "outputs": [
    {
     "name": "stdout",
     "output_type": "stream",
     "text": [
      "MainScreenAppear p-значение: 0.7570597232046099\n",
      "Не получилось отвергнуть нулевую гипотезу, нет оснований считать доли разными\n",
      "\n",
      "OffersScreenAppear p-значение: 0.2480954578522181\n",
      "Не получилось отвергнуть нулевую гипотезу, нет оснований считать доли разными\n",
      "\n",
      "CartScreenAppear p-значение: 0.22883372237997213\n",
      "Не получилось отвергнуть нулевую гипотезу, нет оснований считать доли разными\n",
      "\n",
      "PaymentScreenSuccessful p-значение: 0.11456679313141849\n",
      "Не получилось отвергнуть нулевую гипотезу, нет оснований считать доли разными\n",
      "\n"
     ]
    }
   ],
   "source": [
    "# Сделаем проверку контрольных групп 246/247\n",
    "z_test(246, 247, 0.05)"
   ]
  },
  {
   "cell_type": "markdown",
   "metadata": {},
   "source": [
    "Как видно из проверги гипотез о равенстве долей, нет оснований считать контрольные выборки групп 246 и 247 разными. Равные доли говорят о том, что контрольные группы выбраны верны."
   ]
  },
  {
   "cell_type": "markdown",
   "metadata": {},
   "source": [
    "-  Аналогично поступим с группой с изменённым шрифтом. Сравним результаты с каждой из контрольных групп в отдельности по каждому событию. Сравним результаты с объединённой контрольной группой. Какие выводы из эксперимента можно сделать?"
   ]
  },
  {
   "cell_type": "markdown",
   "metadata": {},
   "source": [
    "Дальше проведем еще 3 группы тестов: 246/248 , 247/248 , 246+247/248:"
   ]
  },
  {
   "cell_type": "markdown",
   "metadata": {},
   "source": [
    "246/248 - эксперимент:"
   ]
  },
  {
   "cell_type": "code",
   "execution_count": 42,
   "metadata": {},
   "outputs": [
    {
     "name": "stdout",
     "output_type": "stream",
     "text": [
      "MainScreenAppear p-значение: 0.2949721933554552\n",
      "Не получилось отвергнуть нулевую гипотезу, нет оснований считать доли разными\n",
      "\n",
      "OffersScreenAppear p-значение: 0.20836205402738917\n",
      "Не получилось отвергнуть нулевую гипотезу, нет оснований считать доли разными\n",
      "\n",
      "CartScreenAppear p-значение: 0.07842923237520116\n",
      "Не получилось отвергнуть нулевую гипотезу, нет оснований считать доли разными\n",
      "\n",
      "PaymentScreenSuccessful p-значение: 0.2122553275697796\n",
      "Не получилось отвергнуть нулевую гипотезу, нет оснований считать доли разными\n",
      "\n"
     ]
    }
   ],
   "source": [
    "z_test(246, 248, 0.05)"
   ]
  },
  {
   "cell_type": "markdown",
   "metadata": {},
   "source": [
    "247/248 - эксперимент:"
   ]
  },
  {
   "cell_type": "code",
   "execution_count": 43,
   "metadata": {},
   "outputs": [
    {
     "name": "stdout",
     "output_type": "stream",
     "text": [
      "MainScreenAppear p-значение: 0.4587053616621515\n",
      "Не получилось отвергнуть нулевую гипотезу, нет оснований считать доли разными\n",
      "\n",
      "OffersScreenAppear p-значение: 0.9197817830592261\n",
      "Не получилось отвергнуть нулевую гипотезу, нет оснований считать доли разными\n",
      "\n",
      "CartScreenAppear p-значение: 0.5786197879539783\n",
      "Не получилось отвергнуть нулевую гипотезу, нет оснований считать доли разными\n",
      "\n",
      "PaymentScreenSuccessful p-значение: 0.7373415053803964\n",
      "Не получилось отвергнуть нулевую гипотезу, нет оснований считать доли разными\n",
      "\n"
     ]
    }
   ],
   "source": [
    "z_test(247, 248, 0.05)"
   ]
  },
  {
   "cell_type": "markdown",
   "metadata": {},
   "source": [
    "246+247/248 - эксперимент:"
   ]
  },
  {
   "cell_type": "code",
   "execution_count": 44,
   "metadata": {
    "scrolled": false
   },
   "outputs": [
    {
     "name": "stdout",
     "output_type": "stream",
     "text": [
      "MainScreenAppear p-значение: 0.29424526837179577\n",
      "Не получилось отвергнуть нулевую гипотезу, нет оснований считать доли разными\n",
      "\n",
      "OffersScreenAppear p-значение: 0.43425549655188256\n",
      "Не получилось отвергнуть нулевую гипотезу, нет оснований считать доли разными\n",
      "\n",
      "CartScreenAppear p-значение: 0.18175875284404386\n",
      "Не получилось отвергнуть нулевую гипотезу, нет оснований считать доли разными\n",
      "\n",
      "PaymentScreenSuccessful p-значение: 0.6004294282308704\n",
      "Не получилось отвергнуть нулевую гипотезу, нет оснований считать доли разными\n",
      "\n"
     ]
    }
   ],
   "source": [
    "z_test('246+247', 248, 0.05)"
   ]
  },
  {
   "cell_type": "markdown",
   "metadata": {},
   "source": [
    "При уровне значимости 0.05, нулевая гипотеза не отбрасывается во всех тестах. Доли во всех выборках равны. Различий между контрольными группами и тестовой нет."
   ]
  },
  {
   "cell_type": "markdown",
   "metadata": {},
   "source": [
    "- Какой уровень значимости вы выбрали при проверке статистических гипотез выше? Посчитайте, сколько проверок статистических гипотез вы сделали. При уровне значимости 0.1 каждый десятый раз можно получать ложный результат. Какой уровень значимости стоит применить? Если вы хотите изменить его, проделайте предыдущие пункты и проверьте свои выводы"
   ]
  },
  {
   "cell_type": "markdown",
   "metadata": {},
   "source": [
    "Из условий проекта мы знаем, что при уровне значимости 0.1 мы совершаем ошибку первого рода каждый десятый раз (то есть вероятность ошибки - 10%). Однако это справедливо для парных тестов, когда у нас только две группы - А и В.\n",
    "\n",
    "В случае увеличения количества групп в тесте растёт и вероятность ошибки первого рода - именно поэтому стоит оценить вероятность такой ошибки для уровня значимости alpha = 0.05 и сравнить её с самим уровнем значимости.\n",
    "\n",
    "Для этого используем формулу 1-(1-alpha)**n, где n - количество групп в тесте.\n",
    "\n",
    "В нашем случае 1-(1-0,05)**3 = 0.1426\n",
    "\n",
    "Вероятность ошибки больше уровня значимости 0.1426 > 0.05. Требуется сделать поправку на множественные сравнения.\n",
    "\n",
    "Сделаем поправку Бонферрони, деля уровень значимости alpha на количество проведённых экспериментов (в нашем случае на 16).\n",
    "\n",
    "0,05/16 = 0.0031\n",
    "\n",
    "Оценим вероятность ошибки первого рода для скорректированного уровня значимости:\n",
    "\n",
    "1-(1-0.0031)**3 = 0.009\n",
    "\n",
    "Вывод:  \n",
    "При уровне значимости 0.0031 вероятность ошибки на много меньше.  \n",
    "Принимаем alpha = 0.0031 и заново проведем тесты с скорректированным уровень значимости.\n"
   ]
  },
  {
   "cell_type": "code",
   "execution_count": 45,
   "metadata": {
    "scrolled": true
   },
   "outputs": [
    {
     "name": "stdout",
     "output_type": "stream",
     "text": [
      "MainScreenAppear p-значение: 0.7570597232046099\n",
      "Не получилось отвергнуть нулевую гипотезу, нет оснований считать доли разными\n",
      "\n",
      "OffersScreenAppear p-значение: 0.2480954578522181\n",
      "Не получилось отвергнуть нулевую гипотезу, нет оснований считать доли разными\n",
      "\n",
      "CartScreenAppear p-значение: 0.22883372237997213\n",
      "Не получилось отвергнуть нулевую гипотезу, нет оснований считать доли разными\n",
      "\n",
      "PaymentScreenSuccessful p-значение: 0.11456679313141849\n",
      "Не получилось отвергнуть нулевую гипотезу, нет оснований считать доли разными\n",
      "\n"
     ]
    }
   ],
   "source": [
    "# Сделаем проверку контрольных групп 246/247\n",
    "z_test(246, 247, 0.0031)"
   ]
  },
  {
   "cell_type": "code",
   "execution_count": 46,
   "metadata": {
    "scrolled": true
   },
   "outputs": [
    {
     "name": "stdout",
     "output_type": "stream",
     "text": [
      "MainScreenAppear p-значение: 0.2949721933554552\n",
      "Не получилось отвергнуть нулевую гипотезу, нет оснований считать доли разными\n",
      "\n",
      "OffersScreenAppear p-значение: 0.20836205402738917\n",
      "Не получилось отвергнуть нулевую гипотезу, нет оснований считать доли разными\n",
      "\n",
      "CartScreenAppear p-значение: 0.07842923237520116\n",
      "Не получилось отвергнуть нулевую гипотезу, нет оснований считать доли разными\n",
      "\n",
      "PaymentScreenSuccessful p-значение: 0.2122553275697796\n",
      "Не получилось отвергнуть нулевую гипотезу, нет оснований считать доли разными\n",
      "\n"
     ]
    }
   ],
   "source": [
    "# Сделаем проверку групп 246 и 248\n",
    "z_test(246, 248, 0.0031)"
   ]
  },
  {
   "cell_type": "code",
   "execution_count": 47,
   "metadata": {
    "scrolled": true
   },
   "outputs": [
    {
     "name": "stdout",
     "output_type": "stream",
     "text": [
      "MainScreenAppear p-значение: 0.4587053616621515\n",
      "Не получилось отвергнуть нулевую гипотезу, нет оснований считать доли разными\n",
      "\n",
      "OffersScreenAppear p-значение: 0.9197817830592261\n",
      "Не получилось отвергнуть нулевую гипотезу, нет оснований считать доли разными\n",
      "\n",
      "CartScreenAppear p-значение: 0.5786197879539783\n",
      "Не получилось отвергнуть нулевую гипотезу, нет оснований считать доли разными\n",
      "\n",
      "PaymentScreenSuccessful p-значение: 0.7373415053803964\n",
      "Не получилось отвергнуть нулевую гипотезу, нет оснований считать доли разными\n",
      "\n"
     ]
    }
   ],
   "source": [
    "# Сделаем проверку групп 247 и 248\n",
    "z_test(247, 248, 0.0031)"
   ]
  },
  {
   "cell_type": "code",
   "execution_count": 48,
   "metadata": {
    "scrolled": true
   },
   "outputs": [
    {
     "name": "stdout",
     "output_type": "stream",
     "text": [
      "MainScreenAppear p-значение: 0.29424526837179577\n",
      "Не получилось отвергнуть нулевую гипотезу, нет оснований считать доли разными\n",
      "\n",
      "OffersScreenAppear p-значение: 0.43425549655188256\n",
      "Не получилось отвергнуть нулевую гипотезу, нет оснований считать доли разными\n",
      "\n",
      "CartScreenAppear p-значение: 0.18175875284404386\n",
      "Не получилось отвергнуть нулевую гипотезу, нет оснований считать доли разными\n",
      "\n",
      "PaymentScreenSuccessful p-значение: 0.6004294282308704\n",
      "Не получилось отвергнуть нулевую гипотезу, нет оснований считать доли разными\n",
      "\n"
     ]
    }
   ],
   "source": [
    "z_test('246+247', 248, 0.0031)"
   ]
  },
  {
   "cell_type": "markdown",
   "metadata": {},
   "source": [
    "### Общий вывод"
   ]
  },
  {
   "cell_type": "markdown",
   "metadata": {},
   "source": [
    "1. Изучение данных:  \n",
    "\n",
    "В датасете имеются столбцы с Названием события, ID пользователя, временем события и номером экспериментальной группы. Дата записана в формате Unix. Видны такие события: 'Появление главного экрана', 'Появление экрана оплаты' и т д. События являются частью воронки продаж на сайте. В таблице были удалены дубликаты, откорректированы типы данных, добавлен столбец с датой/временем и датой. Пропуски в таблице отсутствуют.  \n",
    "\n",
    "В логе есть 5 событий, по убыванию их популярности: показ пользователю главного экрана, показ экрана с предложением, показ экрана корзины, показ экрана с подтверждением оплаты, показ обучения. В логе всего 7551 пользователь. В среднем на пользователя приходится 32 события. \n",
    "\n",
    "До 01.08.201 совершается очень мало событий. Скорее всего как раз с этой даты все данные доехали, и можно оценивать результаты экспериментов. После удаления ранних данных были потеряно 2826 событий, что составляет около 1% от общего числа и 6 пользователей.  \n",
    "\n",
    "Около 80 тыс. событий приходится на каждую эксперименальную группу. \n",
    "\n",
    "2. Воронка продаж:\n",
    "\n",
    "Cобытия складываются в воронку продаж по следующему порядку:\n",
    "\n",
    "MainScreenAppear - Появление Главного экрана - Зашли на сайт. Это самое популярное событие (119101 раз). Доли пользователей совершивших самое популярное событие \"MainScreenAppear\" - 98,5%.  \n",
    "\n",
    "OffersScreenAppear - Появление Экрана Предложений - Искали товар по каталогу  \n",
    "\n",
    "CartScreenAppear - Появление Экрана Корзины - Добавили в корзину  \n",
    "\n",
    "PaymentScreenSuccessful - Экран Платеж Успешен - Оплатили  \n",
    "\n",
    "Tutorial - Руководство пользователя - Изучали инструкцию  \n",
    "\n",
    "На второй этап воронки попадает 62% пользователей, а 38% теряются. Это большая цифра и здесь необходимо веб-аналитикам выянить почему так происходит, наверняка есть возможность исправить ситуацию;  \n",
    "\n",
    "Событие \"Tutorial\" не несет полезной нагрузки, поэтому его можно не принимать во внимание;   \n",
    "\n",
    "В 246 группе 2484 пользователя, в 247 группе 2513 пользователей, в группе 248, с увеличенными шрифтами, 2537 пользователей. Как видно из проверги гипотез о равенстве долей, нет оснований считать контрольные выборки групп 246 и 247 разными. \n",
    "\n",
    "3. А1/А2/B - эксперименты:\n",
    "\n",
    "При уровне статистической значимости 0.05, между второй контрольными группами (246 и 247) и группой с измененными шрифтами (248) значимых различий нет. Чтобы снизить вероятность ложнопозитивного результата при множественном тестировании гипотез, применили поправку Бонферрони для корректировки уровня значимости.  \n",
    "При измепнении уровня значимости на 0.0031, значимой разницы между тестовой группой и всеми контрольными группами при всех событиях нет.\n",
    "Тестирование можно назвать успешным - изменение шрифта не повлияло на поведение пользователей.\n"
   ]
  }
 ],
 "metadata": {
  "ExecuteTimeLog": [
   {
    "duration": 80,
    "start_time": "2023-06-19T13:44:01.257Z"
   },
   {
    "duration": 381,
    "start_time": "2023-06-19T13:47:40.796Z"
   },
   {
    "duration": 861,
    "start_time": "2023-06-19T13:48:07.908Z"
   },
   {
    "duration": 325,
    "start_time": "2023-06-19T13:48:10.698Z"
   },
   {
    "duration": 16,
    "start_time": "2023-06-19T13:48:19.628Z"
   },
   {
    "duration": 7,
    "start_time": "2023-06-19T13:48:59.908Z"
   },
   {
    "duration": 27,
    "start_time": "2023-06-19T13:49:39.957Z"
   },
   {
    "duration": 345,
    "start_time": "2023-06-19T13:53:10.152Z"
   },
   {
    "duration": 9,
    "start_time": "2023-06-19T13:53:12.407Z"
   },
   {
    "duration": 20,
    "start_time": "2023-06-19T13:53:22.671Z"
   },
   {
    "duration": 339,
    "start_time": "2023-06-19T13:53:47.103Z"
   },
   {
    "duration": 8,
    "start_time": "2023-06-19T13:53:47.551Z"
   },
   {
    "duration": 329,
    "start_time": "2023-06-19T13:55:32.894Z"
   },
   {
    "duration": 7,
    "start_time": "2023-06-19T13:55:33.848Z"
   },
   {
    "duration": 62,
    "start_time": "2023-06-19T13:57:53.409Z"
   },
   {
    "duration": 18,
    "start_time": "2023-06-19T13:58:03.522Z"
   },
   {
    "duration": 165,
    "start_time": "2023-06-19T13:59:43.944Z"
   },
   {
    "duration": 11,
    "start_time": "2023-06-19T13:59:45.953Z"
   },
   {
    "duration": 20,
    "start_time": "2023-06-19T13:59:51.120Z"
   },
   {
    "duration": 19,
    "start_time": "2023-06-19T14:00:03.559Z"
   },
   {
    "duration": 1001,
    "start_time": "2023-06-19T14:03:36.955Z"
   },
   {
    "duration": 194,
    "start_time": "2023-06-19T14:03:39.019Z"
   },
   {
    "duration": 11,
    "start_time": "2023-06-19T14:03:39.843Z"
   },
   {
    "duration": 20,
    "start_time": "2023-06-19T14:03:40.851Z"
   },
   {
    "duration": 30,
    "start_time": "2023-06-19T14:12:39.077Z"
   },
   {
    "duration": 10,
    "start_time": "2023-06-19T14:13:22.914Z"
   },
   {
    "duration": 153,
    "start_time": "2023-06-19T14:16:56.299Z"
   },
   {
    "duration": 7,
    "start_time": "2023-06-19T14:16:56.706Z"
   },
   {
    "duration": 7,
    "start_time": "2023-06-19T14:20:07.418Z"
   },
   {
    "duration": 19,
    "start_time": "2023-06-19T14:20:14.378Z"
   },
   {
    "duration": 23,
    "start_time": "2023-06-19T14:24:10.465Z"
   },
   {
    "duration": 13,
    "start_time": "2023-06-19T14:24:28.769Z"
   },
   {
    "duration": 51,
    "start_time": "2023-06-19T14:43:01.532Z"
   },
   {
    "duration": 6,
    "start_time": "2023-06-19T14:43:33.725Z"
   },
   {
    "duration": 14,
    "start_time": "2023-06-19T14:43:36.379Z"
   },
   {
    "duration": 15,
    "start_time": "2023-06-19T14:43:49.747Z"
   },
   {
    "duration": 17,
    "start_time": "2023-06-19T14:44:45.435Z"
   },
   {
    "duration": 16,
    "start_time": "2023-06-19T14:44:46.114Z"
   },
   {
    "duration": 37,
    "start_time": "2023-06-19T14:45:08.894Z"
   },
   {
    "duration": 12,
    "start_time": "2023-06-19T14:45:09.906Z"
   },
   {
    "duration": 5,
    "start_time": "2023-06-19T14:45:20.315Z"
   },
   {
    "duration": 16,
    "start_time": "2023-06-19T14:45:20.923Z"
   },
   {
    "duration": 16,
    "start_time": "2023-06-19T14:45:26.299Z"
   },
   {
    "duration": 4,
    "start_time": "2023-06-19T14:45:33.891Z"
   },
   {
    "duration": 12,
    "start_time": "2023-06-19T14:45:34.443Z"
   },
   {
    "duration": 10,
    "start_time": "2023-06-19T14:45:47.556Z"
   },
   {
    "duration": 24,
    "start_time": "2023-06-19T14:45:47.947Z"
   },
   {
    "duration": 5,
    "start_time": "2023-06-19T14:46:02.050Z"
   },
   {
    "duration": 20,
    "start_time": "2023-06-19T14:46:02.651Z"
   },
   {
    "duration": 1196,
    "start_time": "2023-06-19T14:46:29.426Z"
   },
   {
    "duration": 185,
    "start_time": "2023-06-19T14:46:30.624Z"
   },
   {
    "duration": 16,
    "start_time": "2023-06-19T14:46:30.811Z"
   },
   {
    "duration": 37,
    "start_time": "2023-06-19T14:46:30.829Z"
   },
   {
    "duration": 78,
    "start_time": "2023-06-19T14:46:30.874Z"
   },
   {
    "duration": 191,
    "start_time": "2023-06-19T14:46:30.955Z"
   },
   {
    "duration": 0,
    "start_time": "2023-06-19T14:46:31.148Z"
   },
   {
    "duration": 0,
    "start_time": "2023-06-19T14:46:31.149Z"
   },
   {
    "duration": 9,
    "start_time": "2023-06-19T14:46:47.435Z"
   },
   {
    "duration": 18,
    "start_time": "2023-06-19T14:46:48.373Z"
   },
   {
    "duration": 35,
    "start_time": "2023-06-19T14:46:59.337Z"
   },
   {
    "duration": 13,
    "start_time": "2023-06-19T14:46:59.995Z"
   },
   {
    "duration": 1250,
    "start_time": "2023-06-19T14:47:22.795Z"
   },
   {
    "duration": 183,
    "start_time": "2023-06-19T14:47:24.047Z"
   },
   {
    "duration": 13,
    "start_time": "2023-06-19T14:47:24.232Z"
   },
   {
    "duration": 25,
    "start_time": "2023-06-19T14:47:24.247Z"
   },
   {
    "duration": 37,
    "start_time": "2023-06-19T14:47:24.274Z"
   },
   {
    "duration": 24,
    "start_time": "2023-06-19T14:47:24.313Z"
   },
   {
    "duration": 14,
    "start_time": "2023-06-19T14:47:24.339Z"
   },
   {
    "duration": 31,
    "start_time": "2023-06-19T14:47:24.357Z"
   },
   {
    "duration": 13,
    "start_time": "2023-06-19T14:47:42.574Z"
   },
   {
    "duration": 11,
    "start_time": "2023-06-19T14:47:42.987Z"
   },
   {
    "duration": 1264,
    "start_time": "2023-06-19T14:47:48.582Z"
   },
   {
    "duration": 166,
    "start_time": "2023-06-19T14:47:49.849Z"
   },
   {
    "duration": 12,
    "start_time": "2023-06-19T14:47:50.017Z"
   },
   {
    "duration": 16,
    "start_time": "2023-06-19T14:47:50.031Z"
   },
   {
    "duration": 31,
    "start_time": "2023-06-19T14:47:50.049Z"
   },
   {
    "duration": 14,
    "start_time": "2023-06-19T14:47:50.082Z"
   },
   {
    "duration": 20,
    "start_time": "2023-06-19T14:47:50.098Z"
   },
   {
    "duration": 57,
    "start_time": "2023-06-19T14:47:50.120Z"
   },
   {
    "duration": 5,
    "start_time": "2023-06-19T14:48:05.691Z"
   },
   {
    "duration": 22,
    "start_time": "2023-06-19T14:48:06.155Z"
   },
   {
    "duration": 1222,
    "start_time": "2023-06-19T14:48:11.623Z"
   },
   {
    "duration": 178,
    "start_time": "2023-06-19T14:48:12.847Z"
   },
   {
    "duration": 14,
    "start_time": "2023-06-19T14:48:13.026Z"
   },
   {
    "duration": 17,
    "start_time": "2023-06-19T14:48:13.041Z"
   },
   {
    "duration": 27,
    "start_time": "2023-06-19T14:48:13.061Z"
   },
   {
    "duration": 9,
    "start_time": "2023-06-19T14:48:13.090Z"
   },
   {
    "duration": 13,
    "start_time": "2023-06-19T14:48:13.101Z"
   },
   {
    "duration": 21,
    "start_time": "2023-06-19T14:48:13.115Z"
   },
   {
    "duration": 23,
    "start_time": "2023-06-19T14:48:21.883Z"
   },
   {
    "duration": 12,
    "start_time": "2023-06-19T14:48:22.194Z"
   },
   {
    "duration": 1234,
    "start_time": "2023-06-19T14:48:28.729Z"
   },
   {
    "duration": 171,
    "start_time": "2023-06-19T14:48:29.965Z"
   },
   {
    "duration": 12,
    "start_time": "2023-06-19T14:48:30.139Z"
   },
   {
    "duration": 23,
    "start_time": "2023-06-19T14:48:30.158Z"
   },
   {
    "duration": 68,
    "start_time": "2023-06-19T14:48:30.183Z"
   },
   {
    "duration": 32,
    "start_time": "2023-06-19T14:48:30.253Z"
   },
   {
    "duration": 13,
    "start_time": "2023-06-19T14:48:30.288Z"
   },
   {
    "duration": 42,
    "start_time": "2023-06-19T14:48:30.302Z"
   },
   {
    "duration": 68,
    "start_time": "2023-06-19T14:49:13.306Z"
   },
   {
    "duration": 102,
    "start_time": "2023-06-19T14:49:18.906Z"
   },
   {
    "duration": 16,
    "start_time": "2023-06-19T14:49:52.730Z"
   },
   {
    "duration": 78,
    "start_time": "2023-06-19T14:49:53.241Z"
   },
   {
    "duration": 82,
    "start_time": "2023-06-19T14:49:53.689Z"
   },
   {
    "duration": 71,
    "start_time": "2023-06-19T14:58:03.385Z"
   },
   {
    "duration": 17,
    "start_time": "2023-06-19T14:58:09.185Z"
   },
   {
    "duration": 113,
    "start_time": "2023-06-19T14:58:49.345Z"
   },
   {
    "duration": 17,
    "start_time": "2023-06-19T14:58:50.241Z"
   },
   {
    "duration": 97,
    "start_time": "2023-06-19T14:59:01.779Z"
   },
   {
    "duration": 9,
    "start_time": "2023-06-19T14:59:14.922Z"
   },
   {
    "duration": 15,
    "start_time": "2023-06-19T14:59:17.025Z"
   },
   {
    "duration": 1155,
    "start_time": "2023-06-19T14:59:32.775Z"
   },
   {
    "duration": 161,
    "start_time": "2023-06-19T14:59:33.932Z"
   },
   {
    "duration": 14,
    "start_time": "2023-06-19T14:59:34.095Z"
   },
   {
    "duration": 3,
    "start_time": "2023-06-19T14:59:34.111Z"
   },
   {
    "duration": 41,
    "start_time": "2023-06-19T14:59:34.116Z"
   },
   {
    "duration": 35,
    "start_time": "2023-06-19T14:59:34.158Z"
   },
   {
    "duration": 16,
    "start_time": "2023-06-19T14:59:34.195Z"
   },
   {
    "duration": 87,
    "start_time": "2023-06-19T14:59:34.213Z"
   },
   {
    "duration": 88,
    "start_time": "2023-06-19T14:59:34.302Z"
   },
   {
    "duration": 104,
    "start_time": "2023-06-19T14:59:34.393Z"
   },
   {
    "duration": 0,
    "start_time": "2023-06-19T14:59:34.499Z"
   },
   {
    "duration": 12,
    "start_time": "2023-06-19T14:59:38.721Z"
   },
   {
    "duration": 68,
    "start_time": "2023-06-19T14:59:51.264Z"
   },
   {
    "duration": 16,
    "start_time": "2023-06-19T14:59:52.250Z"
   },
   {
    "duration": 78,
    "start_time": "2023-06-19T15:02:51.194Z"
   },
   {
    "duration": 15,
    "start_time": "2023-06-19T15:17:04.003Z"
   },
   {
    "duration": 99,
    "start_time": "2023-06-19T15:22:29.021Z"
   },
   {
    "duration": 13,
    "start_time": "2023-06-19T15:22:46.332Z"
   },
   {
    "duration": 78,
    "start_time": "2023-06-19T15:22:55.452Z"
   },
   {
    "duration": 1122,
    "start_time": "2023-06-19T15:23:09.517Z"
   },
   {
    "duration": 160,
    "start_time": "2023-06-19T15:23:10.642Z"
   },
   {
    "duration": 13,
    "start_time": "2023-06-19T15:23:10.804Z"
   },
   {
    "duration": 5,
    "start_time": "2023-06-19T15:23:10.819Z"
   },
   {
    "duration": 34,
    "start_time": "2023-06-19T15:23:10.826Z"
   },
   {
    "duration": 27,
    "start_time": "2023-06-19T15:23:10.861Z"
   },
   {
    "duration": 27,
    "start_time": "2023-06-19T15:23:10.890Z"
   },
   {
    "duration": 89,
    "start_time": "2023-06-19T15:23:10.918Z"
   },
   {
    "duration": 85,
    "start_time": "2023-06-19T15:23:11.010Z"
   },
   {
    "duration": 75,
    "start_time": "2023-06-19T15:23:11.097Z"
   },
   {
    "duration": 14,
    "start_time": "2023-06-19T15:23:11.173Z"
   },
   {
    "duration": 14,
    "start_time": "2023-06-19T15:47:17.408Z"
   },
   {
    "duration": 28,
    "start_time": "2023-06-19T15:48:19.988Z"
   },
   {
    "duration": 11,
    "start_time": "2023-06-19T15:49:51.924Z"
   },
   {
    "duration": 27,
    "start_time": "2023-06-19T15:49:52.367Z"
   },
   {
    "duration": 10,
    "start_time": "2023-06-19T15:51:23.766Z"
   },
   {
    "duration": 23,
    "start_time": "2023-06-19T15:57:34.293Z"
   },
   {
    "duration": 21,
    "start_time": "2023-06-19T15:57:45.844Z"
   },
   {
    "duration": 5,
    "start_time": "2023-06-19T16:00:46.477Z"
   },
   {
    "duration": 99,
    "start_time": "2023-06-19T16:03:10.221Z"
   },
   {
    "duration": 44,
    "start_time": "2023-06-19T16:10:09.924Z"
   },
   {
    "duration": 32,
    "start_time": "2023-06-19T16:10:58.747Z"
   },
   {
    "duration": 24,
    "start_time": "2023-06-19T16:11:08.299Z"
   },
   {
    "duration": 30,
    "start_time": "2023-06-19T16:11:12.643Z"
   },
   {
    "duration": 26,
    "start_time": "2023-06-19T16:15:34.514Z"
   },
   {
    "duration": 36,
    "start_time": "2023-06-19T16:15:53.291Z"
   },
   {
    "duration": 26,
    "start_time": "2023-06-19T16:16:23.521Z"
   },
   {
    "duration": 1202,
    "start_time": "2023-06-19T16:16:40.847Z"
   },
   {
    "duration": 167,
    "start_time": "2023-06-19T16:16:42.051Z"
   },
   {
    "duration": 12,
    "start_time": "2023-06-19T16:16:42.221Z"
   },
   {
    "duration": 7,
    "start_time": "2023-06-19T16:16:42.236Z"
   },
   {
    "duration": 27,
    "start_time": "2023-06-19T16:16:42.245Z"
   },
   {
    "duration": 26,
    "start_time": "2023-06-19T16:16:42.273Z"
   },
   {
    "duration": 15,
    "start_time": "2023-06-19T16:16:42.301Z"
   },
   {
    "duration": 105,
    "start_time": "2023-06-19T16:16:42.318Z"
   },
   {
    "duration": 88,
    "start_time": "2023-06-19T16:16:42.425Z"
   },
   {
    "duration": 74,
    "start_time": "2023-06-19T16:16:42.516Z"
   },
   {
    "duration": 34,
    "start_time": "2023-06-19T16:16:42.592Z"
   },
   {
    "duration": 31,
    "start_time": "2023-06-19T16:16:42.629Z"
   },
   {
    "duration": 31,
    "start_time": "2023-06-19T16:16:42.662Z"
   },
   {
    "duration": 22,
    "start_time": "2023-06-19T16:16:42.694Z"
   },
   {
    "duration": 18,
    "start_time": "2023-06-19T16:16:42.717Z"
   },
   {
    "duration": 66,
    "start_time": "2023-06-19T16:16:42.737Z"
   },
   {
    "duration": 3,
    "start_time": "2023-06-19T16:17:21.583Z"
   },
   {
    "duration": 164,
    "start_time": "2023-06-19T16:17:23.388Z"
   },
   {
    "duration": 11,
    "start_time": "2023-06-19T16:17:23.904Z"
   },
   {
    "duration": 4,
    "start_time": "2023-06-19T16:17:24.565Z"
   },
   {
    "duration": 19,
    "start_time": "2023-06-19T16:17:25.315Z"
   },
   {
    "duration": 28,
    "start_time": "2023-06-19T16:17:25.780Z"
   },
   {
    "duration": 15,
    "start_time": "2023-06-19T16:17:26.802Z"
   },
   {
    "duration": 73,
    "start_time": "2023-06-19T16:17:27.194Z"
   },
   {
    "duration": 66,
    "start_time": "2023-06-19T16:17:27.735Z"
   },
   {
    "duration": 75,
    "start_time": "2023-06-19T16:17:28.243Z"
   },
   {
    "duration": 18,
    "start_time": "2023-06-19T16:17:28.897Z"
   },
   {
    "duration": 13,
    "start_time": "2023-06-19T16:17:31.289Z"
   },
   {
    "duration": 29,
    "start_time": "2023-06-19T16:17:31.930Z"
   },
   {
    "duration": 23,
    "start_time": "2023-06-19T16:17:32.465Z"
   },
   {
    "duration": 9,
    "start_time": "2023-06-19T16:17:33.538Z"
   },
   {
    "duration": 37,
    "start_time": "2023-06-19T16:17:34.874Z"
   },
   {
    "duration": 37,
    "start_time": "2023-06-19T16:17:51.050Z"
   },
   {
    "duration": 41,
    "start_time": "2023-06-19T16:18:18.018Z"
   },
   {
    "duration": 178,
    "start_time": "2023-06-19T16:27:38.152Z"
   },
   {
    "duration": 168,
    "start_time": "2023-06-19T16:27:53.152Z"
   },
   {
    "duration": 139,
    "start_time": "2023-06-19T16:28:14.335Z"
   },
   {
    "duration": 134,
    "start_time": "2023-06-19T16:31:23.183Z"
   },
   {
    "duration": 167,
    "start_time": "2023-06-19T16:31:36.352Z"
   },
   {
    "duration": 48,
    "start_time": "2023-06-20T03:12:04.658Z"
   },
   {
    "duration": 1344,
    "start_time": "2023-06-20T03:12:14.078Z"
   },
   {
    "duration": 495,
    "start_time": "2023-06-20T03:12:15.424Z"
   },
   {
    "duration": 10,
    "start_time": "2023-06-20T03:12:15.921Z"
   },
   {
    "duration": 16,
    "start_time": "2023-06-20T03:12:15.934Z"
   },
   {
    "duration": 33,
    "start_time": "2023-06-20T03:12:15.951Z"
   },
   {
    "duration": 23,
    "start_time": "2023-06-20T03:12:15.985Z"
   },
   {
    "duration": 15,
    "start_time": "2023-06-20T03:12:16.009Z"
   },
   {
    "duration": 67,
    "start_time": "2023-06-20T03:12:16.025Z"
   },
   {
    "duration": 71,
    "start_time": "2023-06-20T03:12:16.094Z"
   },
   {
    "duration": 67,
    "start_time": "2023-06-20T03:12:16.167Z"
   },
   {
    "duration": 13,
    "start_time": "2023-06-20T03:12:16.235Z"
   },
   {
    "duration": 13,
    "start_time": "2023-06-20T03:12:16.249Z"
   },
   {
    "duration": 29,
    "start_time": "2023-06-20T03:12:16.264Z"
   },
   {
    "duration": 42,
    "start_time": "2023-06-20T03:12:16.294Z"
   },
   {
    "duration": 12,
    "start_time": "2023-06-20T03:12:16.338Z"
   },
   {
    "duration": 132,
    "start_time": "2023-06-20T03:12:16.352Z"
   },
   {
    "duration": 139,
    "start_time": "2023-06-20T03:13:17.746Z"
   },
   {
    "duration": 31,
    "start_time": "2023-06-20T03:13:23.346Z"
   },
   {
    "duration": 29,
    "start_time": "2023-06-20T03:13:34.513Z"
   },
   {
    "duration": 25,
    "start_time": "2023-06-20T03:14:05.953Z"
   },
   {
    "duration": 26,
    "start_time": "2023-06-20T03:14:13.330Z"
   },
   {
    "duration": 26,
    "start_time": "2023-06-20T03:14:30.241Z"
   },
   {
    "duration": 25,
    "start_time": "2023-06-20T03:14:35.305Z"
   },
   {
    "duration": 61,
    "start_time": "2023-06-20T07:44:17.164Z"
   },
   {
    "duration": 1435,
    "start_time": "2023-06-20T07:44:37.024Z"
   },
   {
    "duration": 1190,
    "start_time": "2023-06-20T07:44:38.461Z"
   },
   {
    "duration": 25,
    "start_time": "2023-06-20T07:44:39.653Z"
   },
   {
    "duration": 6,
    "start_time": "2023-06-20T07:44:39.681Z"
   },
   {
    "duration": 32,
    "start_time": "2023-06-20T07:44:39.690Z"
   },
   {
    "duration": 32,
    "start_time": "2023-06-20T07:44:39.724Z"
   },
   {
    "duration": 35,
    "start_time": "2023-06-20T07:44:39.758Z"
   },
   {
    "duration": 103,
    "start_time": "2023-06-20T07:44:39.795Z"
   },
   {
    "duration": 83,
    "start_time": "2023-06-20T07:44:39.900Z"
   },
   {
    "duration": 117,
    "start_time": "2023-06-20T07:44:39.986Z"
   },
   {
    "duration": 18,
    "start_time": "2023-06-20T07:44:40.105Z"
   },
   {
    "duration": 24,
    "start_time": "2023-06-20T07:44:40.125Z"
   },
   {
    "duration": 57,
    "start_time": "2023-06-20T07:44:40.152Z"
   },
   {
    "duration": 25,
    "start_time": "2023-06-20T07:44:40.211Z"
   },
   {
    "duration": 17,
    "start_time": "2023-06-20T07:44:40.238Z"
   },
   {
    "duration": 45,
    "start_time": "2023-06-20T07:44:40.270Z"
   },
   {
    "duration": 7,
    "start_time": "2023-06-20T07:44:40.317Z"
   },
   {
    "duration": 8,
    "start_time": "2023-06-20T07:44:50.690Z"
   },
   {
    "duration": 307,
    "start_time": "2023-06-20T07:46:15.849Z"
   },
   {
    "duration": 178,
    "start_time": "2023-06-20T07:47:56.586Z"
   },
   {
    "duration": 186,
    "start_time": "2023-06-20T07:48:04.661Z"
   },
   {
    "duration": 169,
    "start_time": "2023-06-20T07:49:46.524Z"
   },
   {
    "duration": 173,
    "start_time": "2023-06-20T07:49:50.699Z"
   },
   {
    "duration": 174,
    "start_time": "2023-06-20T07:49:56.643Z"
   },
   {
    "duration": 309,
    "start_time": "2023-06-20T07:50:33.147Z"
   },
   {
    "duration": 81,
    "start_time": "2023-06-20T07:50:42.260Z"
   },
   {
    "duration": 258,
    "start_time": "2023-06-20T07:50:55.435Z"
   },
   {
    "duration": 19,
    "start_time": "2023-06-20T07:51:13.932Z"
   },
   {
    "duration": 1160,
    "start_time": "2023-06-20T07:51:45.177Z"
   },
   {
    "duration": 167,
    "start_time": "2023-06-20T07:51:46.339Z"
   },
   {
    "duration": 12,
    "start_time": "2023-06-20T07:51:46.508Z"
   },
   {
    "duration": 3,
    "start_time": "2023-06-20T07:51:46.522Z"
   },
   {
    "duration": 24,
    "start_time": "2023-06-20T07:51:46.527Z"
   },
   {
    "duration": 45,
    "start_time": "2023-06-20T07:51:46.552Z"
   },
   {
    "duration": 17,
    "start_time": "2023-06-20T07:51:46.599Z"
   },
   {
    "duration": 81,
    "start_time": "2023-06-20T07:51:46.617Z"
   },
   {
    "duration": 88,
    "start_time": "2023-06-20T07:51:46.699Z"
   },
   {
    "duration": 62,
    "start_time": "2023-06-20T07:51:46.790Z"
   },
   {
    "duration": 16,
    "start_time": "2023-06-20T07:51:46.855Z"
   },
   {
    "duration": 24,
    "start_time": "2023-06-20T07:51:46.873Z"
   },
   {
    "duration": 29,
    "start_time": "2023-06-20T07:51:46.899Z"
   },
   {
    "duration": 24,
    "start_time": "2023-06-20T07:51:46.930Z"
   },
   {
    "duration": 27,
    "start_time": "2023-06-20T07:51:46.955Z"
   },
   {
    "duration": 37,
    "start_time": "2023-06-20T07:51:46.985Z"
   },
   {
    "duration": 17,
    "start_time": "2023-06-20T07:51:47.024Z"
   },
   {
    "duration": 62,
    "start_time": "2023-06-20T07:51:47.043Z"
   },
   {
    "duration": 288,
    "start_time": "2023-06-20T07:51:47.106Z"
   },
   {
    "duration": 40,
    "start_time": "2023-06-20T07:52:43.659Z"
   },
   {
    "duration": 162,
    "start_time": "2023-06-20T07:53:17.755Z"
   },
   {
    "duration": 35,
    "start_time": "2023-06-20T07:53:18.547Z"
   },
   {
    "duration": 13,
    "start_time": "2023-06-20T07:53:22.292Z"
   },
   {
    "duration": 39,
    "start_time": "2023-06-20T07:53:22.835Z"
   },
   {
    "duration": 34,
    "start_time": "2023-06-20T07:53:23.092Z"
   },
   {
    "duration": 9,
    "start_time": "2023-06-20T07:53:23.819Z"
   },
   {
    "duration": 49,
    "start_time": "2023-06-20T07:53:24.566Z"
   },
   {
    "duration": 4,
    "start_time": "2023-06-20T07:53:26.432Z"
   },
   {
    "duration": 10,
    "start_time": "2023-06-20T07:53:26.981Z"
   },
   {
    "duration": 189,
    "start_time": "2023-06-20T07:53:28.466Z"
   },
   {
    "duration": 16,
    "start_time": "2023-06-20T07:54:03.685Z"
   },
   {
    "duration": 253,
    "start_time": "2023-06-20T07:54:37.243Z"
   },
   {
    "duration": 1203,
    "start_time": "2023-06-20T07:55:14.663Z"
   },
   {
    "duration": 171,
    "start_time": "2023-06-20T07:55:15.872Z"
   },
   {
    "duration": 16,
    "start_time": "2023-06-20T07:55:16.045Z"
   },
   {
    "duration": 8,
    "start_time": "2023-06-20T07:55:16.067Z"
   },
   {
    "duration": 28,
    "start_time": "2023-06-20T07:55:16.077Z"
   },
   {
    "duration": 23,
    "start_time": "2023-06-20T07:55:16.106Z"
   },
   {
    "duration": 24,
    "start_time": "2023-06-20T07:55:16.130Z"
   },
   {
    "duration": 89,
    "start_time": "2023-06-20T07:55:16.155Z"
   },
   {
    "duration": 80,
    "start_time": "2023-06-20T07:55:16.246Z"
   },
   {
    "duration": 163,
    "start_time": "2023-06-20T07:55:16.330Z"
   },
   {
    "duration": 16,
    "start_time": "2023-06-20T07:55:16.495Z"
   },
   {
    "duration": 24,
    "start_time": "2023-06-20T07:55:16.513Z"
   },
   {
    "duration": 52,
    "start_time": "2023-06-20T07:55:16.539Z"
   },
   {
    "duration": 24,
    "start_time": "2023-06-20T07:55:16.593Z"
   },
   {
    "duration": 10,
    "start_time": "2023-06-20T07:55:16.619Z"
   },
   {
    "duration": 63,
    "start_time": "2023-06-20T07:55:16.631Z"
   },
   {
    "duration": 5,
    "start_time": "2023-06-20T07:55:16.695Z"
   },
   {
    "duration": 13,
    "start_time": "2023-06-20T07:55:16.702Z"
   },
   {
    "duration": 282,
    "start_time": "2023-06-20T07:55:16.716Z"
   },
   {
    "duration": 191,
    "start_time": "2023-06-20T07:55:52.601Z"
   },
   {
    "duration": 7,
    "start_time": "2023-06-20T07:56:04.419Z"
   },
   {
    "duration": 7,
    "start_time": "2023-06-20T07:56:05.458Z"
   },
   {
    "duration": 197,
    "start_time": "2023-06-20T07:56:11.306Z"
   },
   {
    "duration": 228,
    "start_time": "2023-06-20T07:56:28.051Z"
   },
   {
    "duration": 209,
    "start_time": "2023-06-20T07:56:41.210Z"
   },
   {
    "duration": 6,
    "start_time": "2023-06-20T07:56:54.699Z"
   },
   {
    "duration": 11,
    "start_time": "2023-06-20T07:56:55.170Z"
   },
   {
    "duration": 204,
    "start_time": "2023-06-20T07:56:56.092Z"
   },
   {
    "duration": 233,
    "start_time": "2023-06-20T07:58:01.595Z"
   },
   {
    "duration": 286,
    "start_time": "2023-06-20T07:58:11.658Z"
   },
   {
    "duration": 241,
    "start_time": "2023-06-20T07:58:21.188Z"
   },
   {
    "duration": 232,
    "start_time": "2023-06-20T07:58:44.130Z"
   },
   {
    "duration": 11,
    "start_time": "2023-06-20T08:00:11.194Z"
   },
   {
    "duration": 1301,
    "start_time": "2023-06-20T08:00:47.591Z"
   },
   {
    "duration": 166,
    "start_time": "2023-06-20T08:00:48.894Z"
   },
   {
    "duration": 26,
    "start_time": "2023-06-20T08:00:49.062Z"
   },
   {
    "duration": 4,
    "start_time": "2023-06-20T08:00:49.096Z"
   },
   {
    "duration": 35,
    "start_time": "2023-06-20T08:00:49.101Z"
   },
   {
    "duration": 32,
    "start_time": "2023-06-20T08:00:49.138Z"
   },
   {
    "duration": 27,
    "start_time": "2023-06-20T08:00:49.171Z"
   },
   {
    "duration": 97,
    "start_time": "2023-06-20T08:00:49.199Z"
   },
   {
    "duration": 104,
    "start_time": "2023-06-20T08:00:49.298Z"
   },
   {
    "duration": 202,
    "start_time": "2023-06-20T08:00:49.407Z"
   },
   {
    "duration": 16,
    "start_time": "2023-06-20T08:00:49.611Z"
   },
   {
    "duration": 39,
    "start_time": "2023-06-20T08:00:49.629Z"
   },
   {
    "duration": 52,
    "start_time": "2023-06-20T08:00:49.670Z"
   },
   {
    "duration": 29,
    "start_time": "2023-06-20T08:00:49.724Z"
   },
   {
    "duration": 25,
    "start_time": "2023-06-20T08:00:49.754Z"
   },
   {
    "duration": 46,
    "start_time": "2023-06-20T08:00:49.780Z"
   },
   {
    "duration": 4,
    "start_time": "2023-06-20T08:00:49.828Z"
   },
   {
    "duration": 22,
    "start_time": "2023-06-20T08:00:49.833Z"
   },
   {
    "duration": 280,
    "start_time": "2023-06-20T08:00:49.857Z"
   },
   {
    "duration": 6,
    "start_time": "2023-06-20T08:01:35.087Z"
   },
   {
    "duration": 739,
    "start_time": "2023-06-20T08:02:53.832Z"
   },
   {
    "duration": 14,
    "start_time": "2023-06-20T08:03:25.194Z"
   },
   {
    "duration": 13,
    "start_time": "2023-06-20T08:03:54.906Z"
   },
   {
    "duration": 1193,
    "start_time": "2023-06-20T08:04:11.293Z"
   },
   {
    "duration": 189,
    "start_time": "2023-06-20T08:04:12.493Z"
   },
   {
    "duration": 16,
    "start_time": "2023-06-20T08:04:12.691Z"
   },
   {
    "duration": 4,
    "start_time": "2023-06-20T08:04:12.709Z"
   },
   {
    "duration": 32,
    "start_time": "2023-06-20T08:04:12.716Z"
   },
   {
    "duration": 39,
    "start_time": "2023-06-20T08:04:12.750Z"
   },
   {
    "duration": 15,
    "start_time": "2023-06-20T08:04:12.792Z"
   },
   {
    "duration": 109,
    "start_time": "2023-06-20T08:04:12.809Z"
   },
   {
    "duration": 119,
    "start_time": "2023-06-20T08:04:12.920Z"
   },
   {
    "duration": 152,
    "start_time": "2023-06-20T08:04:13.041Z"
   },
   {
    "duration": 18,
    "start_time": "2023-06-20T08:04:13.196Z"
   },
   {
    "duration": 25,
    "start_time": "2023-06-20T08:04:13.216Z"
   },
   {
    "duration": 64,
    "start_time": "2023-06-20T08:04:13.243Z"
   },
   {
    "duration": 40,
    "start_time": "2023-06-20T08:04:13.310Z"
   },
   {
    "duration": 29,
    "start_time": "2023-06-20T08:04:13.352Z"
   },
   {
    "duration": 37,
    "start_time": "2023-06-20T08:04:13.387Z"
   },
   {
    "duration": 5,
    "start_time": "2023-06-20T08:04:13.426Z"
   },
   {
    "duration": 8,
    "start_time": "2023-06-20T08:04:13.433Z"
   },
   {
    "duration": 309,
    "start_time": "2023-06-20T08:04:13.442Z"
   },
   {
    "duration": 140,
    "start_time": "2023-06-20T08:04:13.753Z"
   },
   {
    "duration": 18,
    "start_time": "2023-06-20T08:04:20.878Z"
   },
   {
    "duration": 95,
    "start_time": "2023-06-20T08:05:18.026Z"
   },
   {
    "duration": 17,
    "start_time": "2023-06-20T08:05:27.893Z"
   },
   {
    "duration": 31,
    "start_time": "2023-06-20T08:05:28.661Z"
   },
   {
    "duration": 90,
    "start_time": "2023-06-20T08:05:29.704Z"
   },
   {
    "duration": 173,
    "start_time": "2023-06-20T08:05:49.986Z"
   },
   {
    "duration": 32,
    "start_time": "2023-06-20T08:05:51.395Z"
   },
   {
    "duration": 20,
    "start_time": "2023-06-20T08:05:54.705Z"
   },
   {
    "duration": 50,
    "start_time": "2023-06-20T08:05:55.337Z"
   },
   {
    "duration": 40,
    "start_time": "2023-06-20T08:05:55.656Z"
   },
   {
    "duration": 16,
    "start_time": "2023-06-20T08:05:56.884Z"
   },
   {
    "duration": 40,
    "start_time": "2023-06-20T08:05:58.144Z"
   },
   {
    "duration": 5,
    "start_time": "2023-06-20T08:05:59.152Z"
   },
   {
    "duration": 9,
    "start_time": "2023-06-20T08:06:00.174Z"
   },
   {
    "duration": 204,
    "start_time": "2023-06-20T08:06:00.807Z"
   },
   {
    "duration": 13,
    "start_time": "2023-06-20T08:06:01.383Z"
   },
   {
    "duration": 198,
    "start_time": "2023-06-20T08:06:20.545Z"
   },
   {
    "duration": 191,
    "start_time": "2023-06-20T08:06:26.504Z"
   },
   {
    "duration": 254,
    "start_time": "2023-06-20T08:06:31.944Z"
   },
   {
    "duration": 253,
    "start_time": "2023-06-20T08:06:40.008Z"
   },
   {
    "duration": 4,
    "start_time": "2023-06-20T08:16:47.424Z"
   },
   {
    "duration": 10,
    "start_time": "2023-06-20T08:18:40.040Z"
   },
   {
    "duration": 14,
    "start_time": "2023-06-20T08:19:38.959Z"
   },
   {
    "duration": 11,
    "start_time": "2023-06-20T08:20:27.528Z"
   },
   {
    "duration": 18,
    "start_time": "2023-06-20T08:20:52.588Z"
   },
   {
    "duration": 16,
    "start_time": "2023-06-20T08:21:03.256Z"
   },
   {
    "duration": 11,
    "start_time": "2023-06-20T08:21:19.320Z"
   },
   {
    "duration": 12,
    "start_time": "2023-06-20T08:21:25.904Z"
   },
   {
    "duration": 8,
    "start_time": "2023-06-20T08:22:11.823Z"
   },
   {
    "duration": 6,
    "start_time": "2023-06-20T08:22:20.760Z"
   },
   {
    "duration": 1227,
    "start_time": "2023-06-20T08:25:11.511Z"
   },
   {
    "duration": 181,
    "start_time": "2023-06-20T08:25:12.740Z"
   },
   {
    "duration": 17,
    "start_time": "2023-06-20T08:25:12.922Z"
   },
   {
    "duration": 8,
    "start_time": "2023-06-20T08:25:12.940Z"
   },
   {
    "duration": 42,
    "start_time": "2023-06-20T08:25:12.950Z"
   },
   {
    "duration": 78,
    "start_time": "2023-06-20T08:25:12.995Z"
   },
   {
    "duration": 50,
    "start_time": "2023-06-20T08:25:13.081Z"
   },
   {
    "duration": 93,
    "start_time": "2023-06-20T08:25:13.133Z"
   },
   {
    "duration": 105,
    "start_time": "2023-06-20T08:25:13.230Z"
   },
   {
    "duration": 178,
    "start_time": "2023-06-20T08:25:13.338Z"
   },
   {
    "duration": 16,
    "start_time": "2023-06-20T08:25:13.517Z"
   },
   {
    "duration": 36,
    "start_time": "2023-06-20T08:25:13.535Z"
   },
   {
    "duration": 39,
    "start_time": "2023-06-20T08:25:13.572Z"
   },
   {
    "duration": 55,
    "start_time": "2023-06-20T08:25:13.614Z"
   },
   {
    "duration": 9,
    "start_time": "2023-06-20T08:25:13.672Z"
   },
   {
    "duration": 35,
    "start_time": "2023-06-20T08:25:13.691Z"
   },
   {
    "duration": 5,
    "start_time": "2023-06-20T08:25:13.728Z"
   },
   {
    "duration": 17,
    "start_time": "2023-06-20T08:25:13.736Z"
   },
   {
    "duration": 393,
    "start_time": "2023-06-20T08:25:13.770Z"
   },
   {
    "duration": 179,
    "start_time": "2023-06-20T08:25:14.165Z"
   },
   {
    "duration": 41,
    "start_time": "2023-06-20T08:25:14.346Z"
   },
   {
    "duration": 23,
    "start_time": "2023-06-20T08:25:14.389Z"
   },
   {
    "duration": 1223,
    "start_time": "2023-06-20T08:26:44.295Z"
   },
   {
    "duration": 191,
    "start_time": "2023-06-20T08:26:45.520Z"
   },
   {
    "duration": 12,
    "start_time": "2023-06-20T08:26:45.713Z"
   },
   {
    "duration": 4,
    "start_time": "2023-06-20T08:26:45.727Z"
   },
   {
    "duration": 56,
    "start_time": "2023-06-20T08:26:45.734Z"
   },
   {
    "duration": 67,
    "start_time": "2023-06-20T08:26:45.793Z"
   },
   {
    "duration": 41,
    "start_time": "2023-06-20T08:26:45.862Z"
   },
   {
    "duration": 93,
    "start_time": "2023-06-20T08:26:45.906Z"
   },
   {
    "duration": 94,
    "start_time": "2023-06-20T08:26:46.001Z"
   },
   {
    "duration": 131,
    "start_time": "2023-06-20T08:26:46.097Z"
   },
   {
    "duration": 17,
    "start_time": "2023-06-20T08:26:46.230Z"
   },
   {
    "duration": 28,
    "start_time": "2023-06-20T08:26:46.248Z"
   },
   {
    "duration": 47,
    "start_time": "2023-06-20T08:26:46.282Z"
   },
   {
    "duration": 48,
    "start_time": "2023-06-20T08:26:46.333Z"
   },
   {
    "duration": 12,
    "start_time": "2023-06-20T08:26:46.383Z"
   },
   {
    "duration": 31,
    "start_time": "2023-06-20T08:26:46.397Z"
   },
   {
    "duration": 4,
    "start_time": "2023-06-20T08:26:46.430Z"
   },
   {
    "duration": 5,
    "start_time": "2023-06-20T08:26:46.436Z"
   },
   {
    "duration": 317,
    "start_time": "2023-06-20T08:26:46.443Z"
   },
   {
    "duration": 142,
    "start_time": "2023-06-20T08:26:46.762Z"
   },
   {
    "duration": 25,
    "start_time": "2023-06-20T08:26:46.906Z"
   },
   {
    "duration": 50,
    "start_time": "2023-06-20T08:26:46.933Z"
   },
   {
    "duration": 4,
    "start_time": "2023-06-20T08:27:08.389Z"
   },
   {
    "duration": 314,
    "start_time": "2023-06-20T08:27:09.096Z"
   },
   {
    "duration": 11,
    "start_time": "2023-06-20T08:27:09.648Z"
   },
   {
    "duration": 7,
    "start_time": "2023-06-20T08:27:11.899Z"
   },
   {
    "duration": 37,
    "start_time": "2023-06-20T08:27:12.859Z"
   },
   {
    "duration": 103,
    "start_time": "2023-06-20T08:27:14.214Z"
   },
   {
    "duration": 33,
    "start_time": "2023-06-20T08:27:15.153Z"
   },
   {
    "duration": 103,
    "start_time": "2023-06-20T08:27:16.256Z"
   },
   {
    "duration": 108,
    "start_time": "2023-06-20T08:27:16.803Z"
   },
   {
    "duration": 182,
    "start_time": "2023-06-20T08:27:18.129Z"
   },
   {
    "duration": 19,
    "start_time": "2023-06-20T08:27:19.311Z"
   },
   {
    "duration": 40,
    "start_time": "2023-06-20T08:27:28.984Z"
   },
   {
    "duration": 52,
    "start_time": "2023-06-20T08:27:29.224Z"
   },
   {
    "duration": 70,
    "start_time": "2023-06-20T08:27:29.692Z"
   },
   {
    "duration": 15,
    "start_time": "2023-06-20T08:27:30.822Z"
   },
   {
    "duration": 49,
    "start_time": "2023-06-20T08:27:32.047Z"
   },
   {
    "duration": 7,
    "start_time": "2023-06-20T08:27:33.410Z"
   },
   {
    "duration": 9,
    "start_time": "2023-06-20T08:27:33.419Z"
   },
   {
    "duration": 250,
    "start_time": "2023-06-20T08:27:33.828Z"
   },
   {
    "duration": 216,
    "start_time": "2023-06-20T08:27:35.793Z"
   },
   {
    "duration": 63,
    "start_time": "2023-06-20T08:27:37.732Z"
   },
   {
    "duration": 24,
    "start_time": "2023-06-20T08:27:38.130Z"
   },
   {
    "duration": 92,
    "start_time": "2023-06-20T08:27:53.655Z"
   },
   {
    "duration": 26,
    "start_time": "2023-06-20T08:27:54.256Z"
   },
   {
    "duration": 11,
    "start_time": "2023-06-20T08:29:28.493Z"
   },
   {
    "duration": 221,
    "start_time": "2023-06-20T08:29:29.511Z"
   },
   {
    "duration": 9,
    "start_time": "2023-06-20T08:29:29.759Z"
   },
   {
    "duration": 4,
    "start_time": "2023-06-20T08:29:31.415Z"
   },
   {
    "duration": 35,
    "start_time": "2023-06-20T08:29:31.988Z"
   },
   {
    "duration": 57,
    "start_time": "2023-06-20T08:29:32.334Z"
   },
   {
    "duration": 23,
    "start_time": "2023-06-20T08:29:33.442Z"
   },
   {
    "duration": 82,
    "start_time": "2023-06-20T08:29:33.467Z"
   },
   {
    "duration": 81,
    "start_time": "2023-06-20T08:29:33.551Z"
   },
   {
    "duration": 182,
    "start_time": "2023-06-20T08:29:34.032Z"
   },
   {
    "duration": 29,
    "start_time": "2023-06-20T08:29:34.800Z"
   },
   {
    "duration": 1438,
    "start_time": "2023-06-20T08:29:44.515Z"
   },
   {
    "duration": 206,
    "start_time": "2023-06-20T08:29:45.955Z"
   },
   {
    "duration": 21,
    "start_time": "2023-06-20T08:29:46.162Z"
   },
   {
    "duration": 7,
    "start_time": "2023-06-20T08:29:46.185Z"
   },
   {
    "duration": 42,
    "start_time": "2023-06-20T08:29:46.195Z"
   },
   {
    "duration": 89,
    "start_time": "2023-06-20T08:29:46.239Z"
   },
   {
    "duration": 16,
    "start_time": "2023-06-20T08:29:46.331Z"
   },
   {
    "duration": 98,
    "start_time": "2023-06-20T08:29:46.349Z"
   },
   {
    "duration": 92,
    "start_time": "2023-06-20T08:29:46.448Z"
   },
   {
    "duration": 144,
    "start_time": "2023-06-20T08:29:46.542Z"
   },
   {
    "duration": 23,
    "start_time": "2023-06-20T08:29:46.688Z"
   },
   {
    "duration": 16,
    "start_time": "2023-06-20T08:29:46.713Z"
   },
   {
    "duration": 55,
    "start_time": "2023-06-20T08:29:46.731Z"
   },
   {
    "duration": 43,
    "start_time": "2023-06-20T08:29:46.789Z"
   },
   {
    "duration": 10,
    "start_time": "2023-06-20T08:29:46.833Z"
   },
   {
    "duration": 61,
    "start_time": "2023-06-20T08:29:46.844Z"
   },
   {
    "duration": 8,
    "start_time": "2023-06-20T08:29:46.908Z"
   },
   {
    "duration": 25,
    "start_time": "2023-06-20T08:29:46.918Z"
   },
   {
    "duration": 383,
    "start_time": "2023-06-20T08:29:46.946Z"
   },
   {
    "duration": 197,
    "start_time": "2023-06-20T08:29:47.335Z"
   },
   {
    "duration": 49,
    "start_time": "2023-06-20T08:29:47.533Z"
   },
   {
    "duration": 32,
    "start_time": "2023-06-20T08:29:47.584Z"
   },
   {
    "duration": 5,
    "start_time": "2023-06-20T08:31:03.995Z"
   },
   {
    "duration": 228,
    "start_time": "2023-06-20T08:31:04.943Z"
   },
   {
    "duration": 11,
    "start_time": "2023-06-20T08:31:05.815Z"
   },
   {
    "duration": 4,
    "start_time": "2023-06-20T08:31:07.692Z"
   },
   {
    "duration": 26,
    "start_time": "2023-06-20T08:31:08.422Z"
   },
   {
    "duration": 62,
    "start_time": "2023-06-20T08:31:09.009Z"
   },
   {
    "duration": 30,
    "start_time": "2023-06-20T08:31:09.455Z"
   },
   {
    "duration": 71,
    "start_time": "2023-06-20T08:31:10.023Z"
   },
   {
    "duration": 79,
    "start_time": "2023-06-20T08:31:10.325Z"
   },
   {
    "duration": 122,
    "start_time": "2023-06-20T08:31:10.806Z"
   },
   {
    "duration": 59,
    "start_time": "2023-06-20T08:31:11.064Z"
   },
   {
    "duration": 1551,
    "start_time": "2023-06-20T08:31:18.817Z"
   },
   {
    "duration": 265,
    "start_time": "2023-06-20T08:31:20.374Z"
   },
   {
    "duration": 16,
    "start_time": "2023-06-20T08:31:20.641Z"
   },
   {
    "duration": 25,
    "start_time": "2023-06-20T08:31:20.660Z"
   },
   {
    "duration": 83,
    "start_time": "2023-06-20T08:31:20.689Z"
   },
   {
    "duration": 86,
    "start_time": "2023-06-20T08:31:20.778Z"
   },
   {
    "duration": 63,
    "start_time": "2023-06-20T08:31:20.866Z"
   },
   {
    "duration": 116,
    "start_time": "2023-06-20T08:31:20.931Z"
   },
   {
    "duration": 110,
    "start_time": "2023-06-20T08:31:21.049Z"
   },
   {
    "duration": 180,
    "start_time": "2023-06-20T08:31:21.164Z"
   },
   {
    "duration": 31,
    "start_time": "2023-06-20T08:31:21.345Z"
   },
   {
    "duration": 36,
    "start_time": "2023-06-20T08:31:21.378Z"
   },
   {
    "duration": 55,
    "start_time": "2023-06-20T08:31:21.416Z"
   },
   {
    "duration": 49,
    "start_time": "2023-06-20T08:31:21.473Z"
   },
   {
    "duration": 14,
    "start_time": "2023-06-20T08:31:21.524Z"
   },
   {
    "duration": 47,
    "start_time": "2023-06-20T08:31:21.540Z"
   },
   {
    "duration": 5,
    "start_time": "2023-06-20T08:31:21.589Z"
   },
   {
    "duration": 7,
    "start_time": "2023-06-20T08:31:21.596Z"
   },
   {
    "duration": 446,
    "start_time": "2023-06-20T08:31:21.606Z"
   },
   {
    "duration": 189,
    "start_time": "2023-06-20T08:31:22.054Z"
   },
   {
    "duration": 38,
    "start_time": "2023-06-20T08:31:22.245Z"
   },
   {
    "duration": 23,
    "start_time": "2023-06-20T08:31:22.285Z"
   },
   {
    "duration": 1408,
    "start_time": "2023-06-20T08:31:25.939Z"
   },
   {
    "duration": 245,
    "start_time": "2023-06-20T08:31:27.349Z"
   },
   {
    "duration": 23,
    "start_time": "2023-06-20T08:31:27.596Z"
   },
   {
    "duration": 3,
    "start_time": "2023-06-20T08:31:27.622Z"
   },
   {
    "duration": 23,
    "start_time": "2023-06-20T08:31:27.628Z"
   },
   {
    "duration": 68,
    "start_time": "2023-06-20T08:31:27.670Z"
   },
   {
    "duration": 61,
    "start_time": "2023-06-20T08:31:27.740Z"
   },
   {
    "duration": 111,
    "start_time": "2023-06-20T08:31:27.803Z"
   },
   {
    "duration": 116,
    "start_time": "2023-06-20T08:31:27.916Z"
   },
   {
    "duration": 188,
    "start_time": "2023-06-20T08:31:28.034Z"
   },
   {
    "duration": 36,
    "start_time": "2023-06-20T08:31:28.227Z"
   },
   {
    "duration": 28,
    "start_time": "2023-06-20T08:31:28.265Z"
   },
   {
    "duration": 51,
    "start_time": "2023-06-20T08:31:28.300Z"
   },
   {
    "duration": 53,
    "start_time": "2023-06-20T08:31:28.354Z"
   },
   {
    "duration": 12,
    "start_time": "2023-06-20T08:31:28.409Z"
   },
   {
    "duration": 74,
    "start_time": "2023-06-20T08:31:28.424Z"
   },
   {
    "duration": 7,
    "start_time": "2023-06-20T08:31:28.501Z"
   },
   {
    "duration": 8,
    "start_time": "2023-06-20T08:31:28.511Z"
   },
   {
    "duration": 442,
    "start_time": "2023-06-20T08:31:28.521Z"
   },
   {
    "duration": 219,
    "start_time": "2023-06-20T08:31:28.965Z"
   },
   {
    "duration": 49,
    "start_time": "2023-06-20T08:31:29.188Z"
   },
   {
    "duration": 24,
    "start_time": "2023-06-20T08:31:29.242Z"
   },
   {
    "duration": 7,
    "start_time": "2023-06-20T08:31:52.093Z"
   },
   {
    "duration": 203,
    "start_time": "2023-06-20T08:31:52.808Z"
   },
   {
    "duration": 9,
    "start_time": "2023-06-20T08:31:53.456Z"
   },
   {
    "duration": 4,
    "start_time": "2023-06-20T08:31:54.223Z"
   },
   {
    "duration": 31,
    "start_time": "2023-06-20T08:31:54.735Z"
   },
   {
    "duration": 59,
    "start_time": "2023-06-20T08:31:54.989Z"
   },
   {
    "duration": 34,
    "start_time": "2023-06-20T08:31:55.468Z"
   },
   {
    "duration": 69,
    "start_time": "2023-06-20T08:31:55.693Z"
   },
   {
    "duration": 64,
    "start_time": "2023-06-20T08:31:55.901Z"
   },
   {
    "duration": 151,
    "start_time": "2023-06-20T08:31:56.408Z"
   },
   {
    "duration": 15,
    "start_time": "2023-06-20T08:31:56.621Z"
   },
   {
    "duration": 23,
    "start_time": "2023-06-20T08:31:58.293Z"
   },
   {
    "duration": 35,
    "start_time": "2023-06-20T08:31:58.526Z"
   },
   {
    "duration": 40,
    "start_time": "2023-06-20T08:31:58.792Z"
   },
   {
    "duration": 10,
    "start_time": "2023-06-20T08:31:59.255Z"
   },
   {
    "duration": 50,
    "start_time": "2023-06-20T08:31:59.926Z"
   },
   {
    "duration": 5,
    "start_time": "2023-06-20T08:32:00.397Z"
   },
   {
    "duration": 6,
    "start_time": "2023-06-20T08:32:00.607Z"
   },
   {
    "duration": 243,
    "start_time": "2023-06-20T08:32:00.846Z"
   },
   {
    "duration": 207,
    "start_time": "2023-06-20T08:32:01.535Z"
   },
   {
    "duration": 44,
    "start_time": "2023-06-20T08:32:02.314Z"
   },
   {
    "duration": 26,
    "start_time": "2023-06-20T08:32:02.608Z"
   },
   {
    "duration": 42,
    "start_time": "2023-06-20T08:33:50.292Z"
   },
   {
    "duration": 1480,
    "start_time": "2023-06-20T08:34:01.463Z"
   },
   {
    "duration": 225,
    "start_time": "2023-06-20T08:34:02.944Z"
   },
   {
    "duration": 20,
    "start_time": "2023-06-20T08:34:03.172Z"
   },
   {
    "duration": 4,
    "start_time": "2023-06-20T08:34:03.198Z"
   },
   {
    "duration": 42,
    "start_time": "2023-06-20T08:34:03.204Z"
   },
   {
    "duration": 63,
    "start_time": "2023-06-20T08:34:03.248Z"
   },
   {
    "duration": 33,
    "start_time": "2023-06-20T08:34:03.313Z"
   },
   {
    "duration": 23,
    "start_time": "2023-06-20T08:34:03.348Z"
   },
   {
    "duration": 86,
    "start_time": "2023-06-20T08:34:03.372Z"
   },
   {
    "duration": 107,
    "start_time": "2023-06-20T08:34:03.460Z"
   },
   {
    "duration": 162,
    "start_time": "2023-06-20T08:34:03.574Z"
   },
   {
    "duration": 13,
    "start_time": "2023-06-20T08:34:03.738Z"
   },
   {
    "duration": 30,
    "start_time": "2023-06-20T08:34:03.753Z"
   },
   {
    "duration": 55,
    "start_time": "2023-06-20T08:34:03.787Z"
   },
   {
    "duration": 22,
    "start_time": "2023-06-20T08:34:03.844Z"
   },
   {
    "duration": 30,
    "start_time": "2023-06-20T08:34:03.876Z"
   },
   {
    "duration": 54,
    "start_time": "2023-06-20T08:34:03.909Z"
   },
   {
    "duration": 5,
    "start_time": "2023-06-20T08:34:03.966Z"
   },
   {
    "duration": 12,
    "start_time": "2023-06-20T08:34:03.973Z"
   },
   {
    "duration": 379,
    "start_time": "2023-06-20T08:34:03.986Z"
   },
   {
    "duration": 181,
    "start_time": "2023-06-20T08:34:04.367Z"
   },
   {
    "duration": 46,
    "start_time": "2023-06-20T08:34:04.551Z"
   },
   {
    "duration": 24,
    "start_time": "2023-06-20T08:34:04.600Z"
   },
   {
    "duration": 110,
    "start_time": "2023-06-20T08:34:40.139Z"
   },
   {
    "duration": 17,
    "start_time": "2023-06-20T08:34:40.818Z"
   },
   {
    "duration": 1384,
    "start_time": "2023-06-20T08:34:54.318Z"
   },
   {
    "duration": 244,
    "start_time": "2023-06-20T08:34:55.704Z"
   },
   {
    "duration": 11,
    "start_time": "2023-06-20T08:34:55.950Z"
   },
   {
    "duration": 5,
    "start_time": "2023-06-20T08:34:55.962Z"
   },
   {
    "duration": 53,
    "start_time": "2023-06-20T08:34:55.975Z"
   },
   {
    "duration": 44,
    "start_time": "2023-06-20T08:34:56.032Z"
   },
   {
    "duration": 55,
    "start_time": "2023-06-20T08:34:56.080Z"
   },
   {
    "duration": 22,
    "start_time": "2023-06-20T08:34:56.138Z"
   },
   {
    "duration": 94,
    "start_time": "2023-06-20T08:34:56.162Z"
   },
   {
    "duration": 105,
    "start_time": "2023-06-20T08:34:56.258Z"
   },
   {
    "duration": 100,
    "start_time": "2023-06-20T08:34:56.364Z"
   },
   {
    "duration": 34,
    "start_time": "2023-06-20T08:34:56.466Z"
   },
   {
    "duration": 29,
    "start_time": "2023-06-20T08:34:56.502Z"
   },
   {
    "duration": 29,
    "start_time": "2023-06-20T08:34:56.534Z"
   },
   {
    "duration": 46,
    "start_time": "2023-06-20T08:34:56.564Z"
   },
   {
    "duration": 24,
    "start_time": "2023-06-20T08:34:56.612Z"
   },
   {
    "duration": 40,
    "start_time": "2023-06-20T08:34:56.637Z"
   },
   {
    "duration": 31,
    "start_time": "2023-06-20T08:34:56.690Z"
   },
   {
    "duration": 27,
    "start_time": "2023-06-20T08:34:56.723Z"
   },
   {
    "duration": 748,
    "start_time": "2023-06-20T08:34:56.752Z"
   },
   {
    "duration": 543,
    "start_time": "2023-06-20T08:34:57.502Z"
   },
   {
    "duration": 0,
    "start_time": "2023-06-20T08:34:58.047Z"
   },
   {
    "duration": 0,
    "start_time": "2023-06-20T08:34:58.048Z"
   },
   {
    "duration": 1407,
    "start_time": "2023-06-20T08:37:59.895Z"
   },
   {
    "duration": 222,
    "start_time": "2023-06-20T08:38:01.304Z"
   },
   {
    "duration": 10,
    "start_time": "2023-06-20T08:38:01.528Z"
   },
   {
    "duration": 38,
    "start_time": "2023-06-20T08:38:01.540Z"
   },
   {
    "duration": 56,
    "start_time": "2023-06-20T08:38:01.584Z"
   },
   {
    "duration": 101,
    "start_time": "2023-06-20T08:38:01.642Z"
   },
   {
    "duration": 20,
    "start_time": "2023-06-20T08:38:01.745Z"
   },
   {
    "duration": 65,
    "start_time": "2023-06-20T08:38:01.767Z"
   },
   {
    "duration": 110,
    "start_time": "2023-06-20T08:38:01.833Z"
   },
   {
    "duration": 89,
    "start_time": "2023-06-20T08:38:01.945Z"
   },
   {
    "duration": 109,
    "start_time": "2023-06-20T08:38:02.036Z"
   },
   {
    "duration": 50,
    "start_time": "2023-06-20T08:38:02.147Z"
   },
   {
    "duration": 21,
    "start_time": "2023-06-20T08:38:02.198Z"
   },
   {
    "duration": 56,
    "start_time": "2023-06-20T08:38:02.225Z"
   },
   {
    "duration": 51,
    "start_time": "2023-06-20T08:38:02.282Z"
   },
   {
    "duration": 9,
    "start_time": "2023-06-20T08:38:02.338Z"
   },
   {
    "duration": 76,
    "start_time": "2023-06-20T08:38:02.349Z"
   },
   {
    "duration": 28,
    "start_time": "2023-06-20T08:38:02.430Z"
   },
   {
    "duration": 32,
    "start_time": "2023-06-20T08:38:02.460Z"
   },
   {
    "duration": 678,
    "start_time": "2023-06-20T08:38:02.494Z"
   },
   {
    "duration": 681,
    "start_time": "2023-06-20T08:38:03.174Z"
   },
   {
    "duration": 0,
    "start_time": "2023-06-20T08:38:03.858Z"
   },
   {
    "duration": 0,
    "start_time": "2023-06-20T08:38:03.860Z"
   },
   {
    "duration": 202,
    "start_time": "2023-06-20T08:38:19.188Z"
   },
   {
    "duration": 7,
    "start_time": "2023-06-20T08:38:44.047Z"
   },
   {
    "duration": 227,
    "start_time": "2023-06-20T08:38:45.330Z"
   },
   {
    "duration": 10,
    "start_time": "2023-06-20T08:38:46.121Z"
   },
   {
    "duration": 4,
    "start_time": "2023-06-20T08:38:49.061Z"
   },
   {
    "duration": 34,
    "start_time": "2023-06-20T08:38:50.392Z"
   },
   {
    "duration": 75,
    "start_time": "2023-06-20T08:38:54.180Z"
   },
   {
    "duration": 35,
    "start_time": "2023-06-20T08:38:54.862Z"
   },
   {
    "duration": 26,
    "start_time": "2023-06-20T08:39:06.218Z"
   },
   {
    "duration": 82,
    "start_time": "2023-06-20T08:39:06.920Z"
   },
   {
    "duration": 66,
    "start_time": "2023-06-20T08:39:07.515Z"
   },
   {
    "duration": 102,
    "start_time": "2023-06-20T08:39:15.220Z"
   },
   {
    "duration": 21,
    "start_time": "2023-06-20T08:43:48.437Z"
   },
   {
    "duration": 23,
    "start_time": "2023-06-20T08:44:19.489Z"
   },
   {
    "duration": 5,
    "start_time": "2023-06-20T08:44:56.734Z"
   },
   {
    "duration": 37,
    "start_time": "2023-06-20T08:44:59.425Z"
   },
   {
    "duration": 46,
    "start_time": "2023-06-20T08:45:00.001Z"
   },
   {
    "duration": 132,
    "start_time": "2023-06-20T08:45:00.517Z"
   },
   {
    "duration": 163,
    "start_time": "2023-06-20T08:45:01.092Z"
   },
   {
    "duration": 158,
    "start_time": "2023-06-20T08:45:02.165Z"
   },
   {
    "duration": 13,
    "start_time": "2023-06-20T08:45:02.751Z"
   },
   {
    "duration": 21,
    "start_time": "2023-06-20T08:45:08.809Z"
   },
   {
    "duration": 1532,
    "start_time": "2023-06-20T08:45:15.799Z"
   },
   {
    "duration": 241,
    "start_time": "2023-06-20T08:45:17.335Z"
   },
   {
    "duration": 15,
    "start_time": "2023-06-20T08:45:17.579Z"
   },
   {
    "duration": 3,
    "start_time": "2023-06-20T08:45:17.597Z"
   },
   {
    "duration": 44,
    "start_time": "2023-06-20T08:45:17.603Z"
   },
   {
    "duration": 154,
    "start_time": "2023-06-20T08:45:17.649Z"
   },
   {
    "duration": 0,
    "start_time": "2023-06-20T08:45:17.805Z"
   },
   {
    "duration": 0,
    "start_time": "2023-06-20T08:45:17.807Z"
   },
   {
    "duration": 0,
    "start_time": "2023-06-20T08:45:17.808Z"
   },
   {
    "duration": 0,
    "start_time": "2023-06-20T08:45:17.809Z"
   },
   {
    "duration": 0,
    "start_time": "2023-06-20T08:45:17.810Z"
   },
   {
    "duration": 0,
    "start_time": "2023-06-20T08:45:17.811Z"
   },
   {
    "duration": 0,
    "start_time": "2023-06-20T08:45:17.813Z"
   },
   {
    "duration": 0,
    "start_time": "2023-06-20T08:45:17.813Z"
   },
   {
    "duration": 0,
    "start_time": "2023-06-20T08:45:17.815Z"
   },
   {
    "duration": 0,
    "start_time": "2023-06-20T08:45:17.816Z"
   },
   {
    "duration": 1,
    "start_time": "2023-06-20T08:45:17.818Z"
   },
   {
    "duration": 1,
    "start_time": "2023-06-20T08:45:17.819Z"
   },
   {
    "duration": 0,
    "start_time": "2023-06-20T08:45:17.821Z"
   },
   {
    "duration": 0,
    "start_time": "2023-06-20T08:45:17.822Z"
   },
   {
    "duration": 0,
    "start_time": "2023-06-20T08:45:17.825Z"
   },
   {
    "duration": 0,
    "start_time": "2023-06-20T08:45:17.826Z"
   },
   {
    "duration": 0,
    "start_time": "2023-06-20T08:45:17.829Z"
   },
   {
    "duration": 1555,
    "start_time": "2023-06-20T08:45:43.701Z"
   },
   {
    "duration": 259,
    "start_time": "2023-06-20T08:45:45.259Z"
   },
   {
    "duration": 13,
    "start_time": "2023-06-20T08:45:45.523Z"
   },
   {
    "duration": 10,
    "start_time": "2023-06-20T08:45:45.539Z"
   },
   {
    "duration": 44,
    "start_time": "2023-06-20T08:45:45.551Z"
   },
   {
    "duration": 148,
    "start_time": "2023-06-20T08:45:45.605Z"
   },
   {
    "duration": 0,
    "start_time": "2023-06-20T08:45:45.756Z"
   },
   {
    "duration": 0,
    "start_time": "2023-06-20T08:45:45.758Z"
   },
   {
    "duration": 0,
    "start_time": "2023-06-20T08:45:45.759Z"
   },
   {
    "duration": 0,
    "start_time": "2023-06-20T08:45:45.760Z"
   },
   {
    "duration": 0,
    "start_time": "2023-06-20T08:45:45.761Z"
   },
   {
    "duration": 0,
    "start_time": "2023-06-20T08:45:45.763Z"
   },
   {
    "duration": 0,
    "start_time": "2023-06-20T08:45:45.764Z"
   },
   {
    "duration": 0,
    "start_time": "2023-06-20T08:45:45.765Z"
   },
   {
    "duration": 0,
    "start_time": "2023-06-20T08:45:45.766Z"
   },
   {
    "duration": 0,
    "start_time": "2023-06-20T08:45:45.767Z"
   },
   {
    "duration": 0,
    "start_time": "2023-06-20T08:45:45.770Z"
   },
   {
    "duration": 0,
    "start_time": "2023-06-20T08:45:45.772Z"
   },
   {
    "duration": 0,
    "start_time": "2023-06-20T08:45:45.773Z"
   },
   {
    "duration": 0,
    "start_time": "2023-06-20T08:45:45.774Z"
   },
   {
    "duration": 0,
    "start_time": "2023-06-20T08:45:45.775Z"
   },
   {
    "duration": 0,
    "start_time": "2023-06-20T08:45:45.776Z"
   },
   {
    "duration": 0,
    "start_time": "2023-06-20T08:45:45.777Z"
   },
   {
    "duration": 12,
    "start_time": "2023-06-20T08:46:04.730Z"
   },
   {
    "duration": 40,
    "start_time": "2023-06-20T08:46:05.838Z"
   },
   {
    "duration": 24,
    "start_time": "2023-06-20T08:46:07.415Z"
   },
   {
    "duration": 79,
    "start_time": "2023-06-20T08:46:08.505Z"
   },
   {
    "duration": 103,
    "start_time": "2023-06-20T08:46:10.341Z"
   },
   {
    "duration": 88,
    "start_time": "2023-06-20T08:46:11.305Z"
   },
   {
    "duration": 16,
    "start_time": "2023-06-20T08:46:12.045Z"
   },
   {
    "duration": 21,
    "start_time": "2023-06-20T08:46:19.805Z"
   },
   {
    "duration": 70,
    "start_time": "2023-06-20T08:46:20.281Z"
   },
   {
    "duration": 23,
    "start_time": "2023-06-20T08:46:20.630Z"
   },
   {
    "duration": 17,
    "start_time": "2023-06-20T08:46:21.094Z"
   },
   {
    "duration": 59,
    "start_time": "2023-06-20T08:46:21.590Z"
   },
   {
    "duration": 31,
    "start_time": "2023-06-20T08:46:22.208Z"
   },
   {
    "duration": 17,
    "start_time": "2023-06-20T08:46:22.429Z"
   },
   {
    "duration": 680,
    "start_time": "2023-06-20T08:46:22.653Z"
   },
   {
    "duration": 239,
    "start_time": "2023-06-20T08:46:23.602Z"
   },
   {
    "duration": 55,
    "start_time": "2023-06-20T08:46:24.661Z"
   },
   {
    "duration": 21,
    "start_time": "2023-06-20T08:46:24.908Z"
   },
   {
    "duration": 18,
    "start_time": "2023-06-20T08:51:02.512Z"
   },
   {
    "duration": 47,
    "start_time": "2023-06-20T08:51:03.014Z"
   },
   {
    "duration": 42,
    "start_time": "2023-06-20T08:51:03.595Z"
   },
   {
    "duration": 1685,
    "start_time": "2023-06-20T08:51:13.057Z"
   },
   {
    "duration": 315,
    "start_time": "2023-06-20T08:51:14.744Z"
   },
   {
    "duration": 29,
    "start_time": "2023-06-20T08:51:15.065Z"
   },
   {
    "duration": 11,
    "start_time": "2023-06-20T08:51:15.099Z"
   },
   {
    "duration": 50,
    "start_time": "2023-06-20T08:51:15.116Z"
   },
   {
    "duration": 21,
    "start_time": "2023-06-20T08:51:15.168Z"
   },
   {
    "duration": 59,
    "start_time": "2023-06-20T08:51:15.198Z"
   },
   {
    "duration": 51,
    "start_time": "2023-06-20T08:51:15.260Z"
   },
   {
    "duration": 107,
    "start_time": "2023-06-20T08:51:15.316Z"
   },
   {
    "duration": 125,
    "start_time": "2023-06-20T08:51:15.428Z"
   },
   {
    "duration": 122,
    "start_time": "2023-06-20T08:51:15.559Z"
   },
   {
    "duration": 25,
    "start_time": "2023-06-20T08:51:15.687Z"
   },
   {
    "duration": 27,
    "start_time": "2023-06-20T08:51:15.717Z"
   },
   {
    "duration": 71,
    "start_time": "2023-06-20T08:51:15.753Z"
   },
   {
    "duration": 51,
    "start_time": "2023-06-20T08:51:15.837Z"
   },
   {
    "duration": 16,
    "start_time": "2023-06-20T08:51:15.895Z"
   },
   {
    "duration": 60,
    "start_time": "2023-06-20T08:51:15.916Z"
   },
   {
    "duration": 34,
    "start_time": "2023-06-20T08:51:15.981Z"
   },
   {
    "duration": 32,
    "start_time": "2023-06-20T08:51:16.020Z"
   },
   {
    "duration": 814,
    "start_time": "2023-06-20T08:51:16.057Z"
   },
   {
    "duration": 236,
    "start_time": "2023-06-20T08:51:16.876Z"
   },
   {
    "duration": 56,
    "start_time": "2023-06-20T08:51:17.120Z"
   },
   {
    "duration": 36,
    "start_time": "2023-06-20T08:51:17.181Z"
   },
   {
    "duration": 15,
    "start_time": "2023-06-20T08:56:27.892Z"
   },
   {
    "duration": 60,
    "start_time": "2023-06-20T08:56:29.092Z"
   },
   {
    "duration": 1751,
    "start_time": "2023-06-20T08:56:36.557Z"
   },
   {
    "duration": 288,
    "start_time": "2023-06-20T08:56:38.314Z"
   },
   {
    "duration": 17,
    "start_time": "2023-06-20T08:56:38.609Z"
   },
   {
    "duration": 7,
    "start_time": "2023-06-20T08:56:38.643Z"
   },
   {
    "duration": 78,
    "start_time": "2023-06-20T08:56:38.656Z"
   },
   {
    "duration": 111,
    "start_time": "2023-06-20T08:56:38.747Z"
   },
   {
    "duration": 86,
    "start_time": "2023-06-20T08:56:38.864Z"
   },
   {
    "duration": 75,
    "start_time": "2023-06-20T08:56:38.953Z"
   },
   {
    "duration": 100,
    "start_time": "2023-06-20T08:56:39.030Z"
   },
   {
    "duration": 114,
    "start_time": "2023-06-20T08:56:39.135Z"
   },
   {
    "duration": 130,
    "start_time": "2023-06-20T08:56:39.255Z"
   },
   {
    "duration": 24,
    "start_time": "2023-06-20T08:56:39.391Z"
   },
   {
    "duration": 28,
    "start_time": "2023-06-20T08:56:39.420Z"
   },
   {
    "duration": 50,
    "start_time": "2023-06-20T08:56:39.456Z"
   },
   {
    "duration": 43,
    "start_time": "2023-06-20T08:56:39.508Z"
   },
   {
    "duration": 19,
    "start_time": "2023-06-20T08:56:39.553Z"
   },
   {
    "duration": 78,
    "start_time": "2023-06-20T08:56:39.574Z"
   },
   {
    "duration": 36,
    "start_time": "2023-06-20T08:56:39.658Z"
   },
   {
    "duration": 38,
    "start_time": "2023-06-20T08:56:39.696Z"
   },
   {
    "duration": 786,
    "start_time": "2023-06-20T08:56:39.739Z"
   },
   {
    "duration": 245,
    "start_time": "2023-06-20T08:56:40.530Z"
   },
   {
    "duration": 39,
    "start_time": "2023-06-20T08:56:40.780Z"
   },
   {
    "duration": 44,
    "start_time": "2023-06-20T08:56:40.826Z"
   },
   {
    "duration": 21,
    "start_time": "2023-06-20T08:56:52.790Z"
   },
   {
    "duration": 47,
    "start_time": "2023-06-20T08:56:53.865Z"
   },
   {
    "duration": 1704,
    "start_time": "2023-06-20T09:01:09.455Z"
   },
   {
    "duration": 259,
    "start_time": "2023-06-20T09:01:11.161Z"
   },
   {
    "duration": 16,
    "start_time": "2023-06-20T09:01:11.422Z"
   },
   {
    "duration": 5,
    "start_time": "2023-06-20T09:01:14.229Z"
   },
   {
    "duration": 42,
    "start_time": "2023-06-20T09:01:16.608Z"
   },
   {
    "duration": 83,
    "start_time": "2023-06-20T09:01:19.116Z"
   },
   {
    "duration": 35,
    "start_time": "2023-06-20T09:01:23.743Z"
   },
   {
    "duration": 41,
    "start_time": "2023-06-20T09:01:27.189Z"
   },
   {
    "duration": 101,
    "start_time": "2023-06-20T09:01:32.029Z"
   },
   {
    "duration": 158,
    "start_time": "2023-06-20T09:01:33.039Z"
   },
   {
    "duration": 163,
    "start_time": "2023-06-20T09:01:37.788Z"
   },
   {
    "duration": 22,
    "start_time": "2023-06-20T09:01:38.831Z"
   },
   {
    "duration": 25,
    "start_time": "2023-06-20T09:02:35.390Z"
   },
   {
    "duration": 66,
    "start_time": "2023-06-20T09:02:36.505Z"
   },
   {
    "duration": 62,
    "start_time": "2023-06-20T09:02:37.303Z"
   },
   {
    "duration": 10,
    "start_time": "2023-06-20T09:02:38.743Z"
   },
   {
    "duration": 93,
    "start_time": "2023-06-20T09:02:39.902Z"
   },
   {
    "duration": 45,
    "start_time": "2023-06-20T09:02:41.497Z"
   },
   {
    "duration": 53,
    "start_time": "2023-06-20T09:02:41.911Z"
   },
   {
    "duration": 807,
    "start_time": "2023-06-20T09:02:42.583Z"
   },
   {
    "duration": 250,
    "start_time": "2023-06-20T09:02:48.611Z"
   },
   {
    "duration": 28,
    "start_time": "2023-06-20T09:02:50.730Z"
   },
   {
    "duration": 29,
    "start_time": "2023-06-20T09:02:51.461Z"
   },
   {
    "duration": 16,
    "start_time": "2023-06-20T09:03:36.923Z"
   },
   {
    "duration": 42,
    "start_time": "2023-06-20T09:03:37.593Z"
   },
   {
    "duration": 26,
    "start_time": "2023-06-20T09:03:38.645Z"
   },
   {
    "duration": 117,
    "start_time": "2023-06-20T09:03:39.531Z"
   },
   {
    "duration": 117,
    "start_time": "2023-06-20T09:03:39.923Z"
   },
   {
    "duration": 118,
    "start_time": "2023-06-20T09:03:40.845Z"
   },
   {
    "duration": 25,
    "start_time": "2023-06-20T09:03:41.493Z"
   },
   {
    "duration": 19,
    "start_time": "2023-06-20T09:03:46.620Z"
   },
   {
    "duration": 20,
    "start_time": "2023-06-20T09:04:18.890Z"
   },
   {
    "duration": 52,
    "start_time": "2023-06-20T09:04:19.510Z"
   },
   {
    "duration": 27,
    "start_time": "2023-06-20T09:04:20.536Z"
   },
   {
    "duration": 169,
    "start_time": "2023-06-20T09:04:21.768Z"
   },
   {
    "duration": 138,
    "start_time": "2023-06-20T09:04:22.253Z"
   },
   {
    "duration": 129,
    "start_time": "2023-06-20T09:04:22.938Z"
   },
   {
    "duration": 22,
    "start_time": "2023-06-20T09:04:23.443Z"
   },
   {
    "duration": 1427,
    "start_time": "2023-06-20T09:05:58.467Z"
   },
   {
    "duration": 1052,
    "start_time": "2023-06-20T09:05:59.897Z"
   },
   {
    "duration": 14,
    "start_time": "2023-06-20T09:06:00.951Z"
   },
   {
    "duration": 55,
    "start_time": "2023-06-20T09:06:00.968Z"
   },
   {
    "duration": 85,
    "start_time": "2023-06-20T09:06:01.026Z"
   },
   {
    "duration": 68,
    "start_time": "2023-06-20T09:06:01.113Z"
   },
   {
    "duration": 33,
    "start_time": "2023-06-20T09:06:01.183Z"
   },
   {
    "duration": 36,
    "start_time": "2023-06-20T09:06:01.218Z"
   },
   {
    "duration": 110,
    "start_time": "2023-06-20T09:06:01.256Z"
   },
   {
    "duration": 104,
    "start_time": "2023-06-20T09:06:01.370Z"
   },
   {
    "duration": 116,
    "start_time": "2023-06-20T09:06:01.480Z"
   },
   {
    "duration": 20,
    "start_time": "2023-06-20T09:06:01.599Z"
   },
   {
    "duration": 37,
    "start_time": "2023-06-20T09:06:01.624Z"
   },
   {
    "duration": 86,
    "start_time": "2023-06-20T09:06:01.662Z"
   },
   {
    "duration": 82,
    "start_time": "2023-06-20T09:06:01.750Z"
   },
   {
    "duration": 22,
    "start_time": "2023-06-20T09:06:01.834Z"
   },
   {
    "duration": 90,
    "start_time": "2023-06-20T09:06:01.858Z"
   },
   {
    "duration": 22,
    "start_time": "2023-06-20T09:06:01.950Z"
   },
   {
    "duration": 78,
    "start_time": "2023-06-20T09:06:01.974Z"
   },
   {
    "duration": 882,
    "start_time": "2023-06-20T09:06:02.053Z"
   },
   {
    "duration": 220,
    "start_time": "2023-06-20T09:06:02.937Z"
   },
   {
    "duration": 77,
    "start_time": "2023-06-20T09:06:03.159Z"
   },
   {
    "duration": 13,
    "start_time": "2023-06-20T09:06:03.238Z"
   },
   {
    "duration": 19,
    "start_time": "2023-06-20T09:10:23.806Z"
   },
   {
    "duration": 19,
    "start_time": "2023-06-20T09:10:24.532Z"
   },
   {
    "duration": 28,
    "start_time": "2023-06-20T09:10:27.912Z"
   },
   {
    "duration": 126,
    "start_time": "2023-06-20T09:10:29.052Z"
   },
   {
    "duration": 115,
    "start_time": "2023-06-20T09:10:29.690Z"
   },
   {
    "duration": 102,
    "start_time": "2023-06-20T09:10:30.690Z"
   },
   {
    "duration": 14,
    "start_time": "2023-06-20T09:10:31.341Z"
   },
   {
    "duration": 4,
    "start_time": "2023-06-20T09:13:35.044Z"
   },
   {
    "duration": 210,
    "start_time": "2023-06-20T09:13:37.123Z"
   },
   {
    "duration": 7,
    "start_time": "2023-06-20T09:13:37.653Z"
   },
   {
    "duration": 4,
    "start_time": "2023-06-20T09:13:39.117Z"
   },
   {
    "duration": 31,
    "start_time": "2023-06-20T09:13:39.788Z"
   },
   {
    "duration": 8,
    "start_time": "2023-06-20T09:13:40.325Z"
   },
   {
    "duration": 28,
    "start_time": "2023-06-20T09:13:42.097Z"
   },
   {
    "duration": 36,
    "start_time": "2023-06-20T09:13:43.468Z"
   },
   {
    "duration": 84,
    "start_time": "2023-06-20T09:13:43.896Z"
   },
   {
    "duration": 79,
    "start_time": "2023-06-20T09:13:44.550Z"
   },
   {
    "duration": 70,
    "start_time": "2023-06-20T09:13:45.406Z"
   },
   {
    "duration": 38,
    "start_time": "2023-06-20T09:13:46.364Z"
   },
   {
    "duration": 13,
    "start_time": "2023-06-20T09:13:57.652Z"
   },
   {
    "duration": 30,
    "start_time": "2023-06-20T09:13:58.229Z"
   },
   {
    "duration": 37,
    "start_time": "2023-06-20T09:13:58.588Z"
   },
   {
    "duration": 12,
    "start_time": "2023-06-20T09:13:59.593Z"
   },
   {
    "duration": 47,
    "start_time": "2023-06-20T09:14:00.549Z"
   },
   {
    "duration": 22,
    "start_time": "2023-06-20T09:14:01.507Z"
   },
   {
    "duration": 28,
    "start_time": "2023-06-20T09:14:02.260Z"
   },
   {
    "duration": 489,
    "start_time": "2023-06-20T09:14:03.118Z"
   },
   {
    "duration": 266,
    "start_time": "2023-06-20T09:14:05.670Z"
   },
   {
    "duration": 12,
    "start_time": "2023-06-20T09:14:08.298Z"
   },
   {
    "duration": 4,
    "start_time": "2023-06-20T09:14:09.014Z"
   },
   {
    "duration": 3,
    "start_time": "2023-06-20T09:15:02.140Z"
   },
   {
    "duration": 191,
    "start_time": "2023-06-20T09:15:03.027Z"
   },
   {
    "duration": 14,
    "start_time": "2023-06-20T09:15:03.383Z"
   },
   {
    "duration": 4,
    "start_time": "2023-06-20T09:15:04.035Z"
   },
   {
    "duration": 25,
    "start_time": "2023-06-20T09:15:04.511Z"
   },
   {
    "duration": 7,
    "start_time": "2023-06-20T09:15:04.716Z"
   },
   {
    "duration": 26,
    "start_time": "2023-06-20T09:15:04.957Z"
   },
   {
    "duration": 30,
    "start_time": "2023-06-20T09:15:05.188Z"
   },
   {
    "duration": 58,
    "start_time": "2023-06-20T09:15:05.411Z"
   },
   {
    "duration": 85,
    "start_time": "2023-06-20T09:15:05.604Z"
   },
   {
    "duration": 90,
    "start_time": "2023-06-20T09:15:06.037Z"
   },
   {
    "duration": 18,
    "start_time": "2023-06-20T09:15:06.293Z"
   },
   {
    "duration": 12,
    "start_time": "2023-06-20T09:15:08.454Z"
   },
   {
    "duration": 62,
    "start_time": "2023-06-20T09:15:08.653Z"
   },
   {
    "duration": 40,
    "start_time": "2023-06-20T09:15:08.886Z"
   },
   {
    "duration": 14,
    "start_time": "2023-06-20T09:15:09.302Z"
   },
   {
    "duration": 33,
    "start_time": "2023-06-20T09:15:09.733Z"
   },
   {
    "duration": 28,
    "start_time": "2023-06-20T09:15:10.192Z"
   },
   {
    "duration": 15,
    "start_time": "2023-06-20T09:15:10.420Z"
   },
   {
    "duration": 482,
    "start_time": "2023-06-20T09:15:10.660Z"
   },
   {
    "duration": 238,
    "start_time": "2023-06-20T09:15:11.443Z"
   },
   {
    "duration": 12,
    "start_time": "2023-06-20T09:15:12.860Z"
   },
   {
    "duration": 12,
    "start_time": "2023-06-20T09:15:13.107Z"
   },
   {
    "duration": 105,
    "start_time": "2023-06-20T13:45:42.698Z"
   },
   {
    "duration": 9,
    "start_time": "2023-06-20T13:45:50.626Z"
   },
   {
    "duration": 6,
    "start_time": "2023-06-20T13:45:57.307Z"
   },
   {
    "duration": 4,
    "start_time": "2023-06-20T13:46:18.098Z"
   },
   {
    "duration": 10,
    "start_time": "2023-06-20T13:46:23.995Z"
   },
   {
    "duration": 35,
    "start_time": "2023-06-20T13:51:03.793Z"
   },
   {
    "duration": 29,
    "start_time": "2023-06-20T13:56:52.935Z"
   },
   {
    "duration": 69,
    "start_time": "2023-06-20T13:57:00.965Z"
   },
   {
    "duration": 24,
    "start_time": "2023-06-20T14:04:42.930Z"
   },
   {
    "duration": 51,
    "start_time": "2023-06-20T14:04:51.761Z"
   },
   {
    "duration": 50,
    "start_time": "2023-06-20T14:05:24.133Z"
   },
   {
    "duration": 53,
    "start_time": "2023-06-20T14:09:45.847Z"
   },
   {
    "duration": 59,
    "start_time": "2023-06-20T14:09:53.497Z"
   },
   {
    "duration": 45,
    "start_time": "2023-06-20T14:10:17.920Z"
   },
   {
    "duration": 122,
    "start_time": "2023-06-20T14:12:31.239Z"
   },
   {
    "duration": 99,
    "start_time": "2023-06-20T14:15:37.341Z"
   },
   {
    "duration": 137,
    "start_time": "2023-06-20T14:15:48.445Z"
   },
   {
    "duration": 77,
    "start_time": "2023-06-20T14:15:58.013Z"
   },
   {
    "duration": 132,
    "start_time": "2023-06-20T14:16:07.822Z"
   },
   {
    "duration": 149,
    "start_time": "2023-06-20T14:16:13.016Z"
   },
   {
    "duration": 29,
    "start_time": "2023-06-20T14:16:18.916Z"
   },
   {
    "duration": 77,
    "start_time": "2023-06-20T14:19:27.930Z"
   },
   {
    "duration": 28,
    "start_time": "2023-06-20T14:24:23.660Z"
   },
   {
    "duration": 10,
    "start_time": "2023-06-20T14:24:46.052Z"
   },
   {
    "duration": 10,
    "start_time": "2023-06-20T14:25:27.540Z"
   },
   {
    "duration": 9,
    "start_time": "2023-06-20T14:26:16.747Z"
   },
   {
    "duration": 94,
    "start_time": "2023-06-20T14:27:06.394Z"
   },
   {
    "duration": 10,
    "start_time": "2023-06-20T14:27:06.747Z"
   },
   {
    "duration": 15,
    "start_time": "2023-06-20T14:27:13.528Z"
   },
   {
    "duration": 16,
    "start_time": "2023-06-20T14:27:20.332Z"
   },
   {
    "duration": 149,
    "start_time": "2023-06-20T14:28:46.596Z"
   },
   {
    "duration": 20,
    "start_time": "2023-06-20T14:29:00.807Z"
   },
   {
    "duration": 61,
    "start_time": "2023-06-20T14:29:20.233Z"
   },
   {
    "duration": 1469,
    "start_time": "2023-06-20T14:29:30.725Z"
   },
   {
    "duration": 1245,
    "start_time": "2023-06-20T14:29:32.207Z"
   },
   {
    "duration": 13,
    "start_time": "2023-06-20T14:29:33.454Z"
   },
   {
    "duration": 12,
    "start_time": "2023-06-20T14:29:33.482Z"
   },
   {
    "duration": 45,
    "start_time": "2023-06-20T14:29:33.502Z"
   },
   {
    "duration": 13,
    "start_time": "2023-06-20T14:29:33.548Z"
   },
   {
    "duration": 45,
    "start_time": "2023-06-20T14:29:33.562Z"
   },
   {
    "duration": 35,
    "start_time": "2023-06-20T14:29:33.609Z"
   },
   {
    "duration": 97,
    "start_time": "2023-06-20T14:29:33.650Z"
   },
   {
    "duration": 130,
    "start_time": "2023-06-20T14:29:33.749Z"
   },
   {
    "duration": 122,
    "start_time": "2023-06-20T14:29:33.885Z"
   },
   {
    "duration": 28,
    "start_time": "2023-06-20T14:29:34.009Z"
   },
   {
    "duration": 19,
    "start_time": "2023-06-20T14:29:34.039Z"
   },
   {
    "duration": 53,
    "start_time": "2023-06-20T14:29:34.061Z"
   },
   {
    "duration": 37,
    "start_time": "2023-06-20T14:29:34.116Z"
   },
   {
    "duration": 43,
    "start_time": "2023-06-20T14:29:34.155Z"
   },
   {
    "duration": 52,
    "start_time": "2023-06-20T14:29:34.203Z"
   },
   {
    "duration": 47,
    "start_time": "2023-06-20T14:29:34.257Z"
   },
   {
    "duration": 40,
    "start_time": "2023-06-20T14:29:34.306Z"
   },
   {
    "duration": 696,
    "start_time": "2023-06-20T14:29:34.347Z"
   },
   {
    "duration": 300,
    "start_time": "2023-06-20T14:29:35.044Z"
   },
   {
    "duration": 8,
    "start_time": "2023-06-20T14:29:35.346Z"
   },
   {
    "duration": 43,
    "start_time": "2023-06-20T14:29:35.355Z"
   },
   {
    "duration": 23,
    "start_time": "2023-06-20T14:29:35.408Z"
   },
   {
    "duration": 24,
    "start_time": "2023-06-20T14:29:35.439Z"
   },
   {
    "duration": 98,
    "start_time": "2023-06-20T14:29:35.464Z"
   },
   {
    "duration": 27,
    "start_time": "2023-06-20T14:29:35.564Z"
   },
   {
    "duration": 22,
    "start_time": "2023-06-20T14:32:05.595Z"
   },
   {
    "duration": 100,
    "start_time": "2023-06-20T14:58:44.440Z"
   },
   {
    "duration": 66,
    "start_time": "2023-06-20T15:24:22.354Z"
   },
   {
    "duration": 87,
    "start_time": "2023-06-20T15:24:30.720Z"
   },
   {
    "duration": 90,
    "start_time": "2023-06-20T15:24:48.252Z"
   },
   {
    "duration": 23,
    "start_time": "2023-06-20T15:25:30.811Z"
   },
   {
    "duration": 1640,
    "start_time": "2023-06-20T15:25:38.703Z"
   },
   {
    "duration": 1665,
    "start_time": "2023-06-20T15:25:40.349Z"
   },
   {
    "duration": 24,
    "start_time": "2023-06-20T15:25:42.025Z"
   },
   {
    "duration": 7,
    "start_time": "2023-06-20T15:25:42.056Z"
   },
   {
    "duration": 54,
    "start_time": "2023-06-20T15:25:42.065Z"
   },
   {
    "duration": 20,
    "start_time": "2023-06-20T15:25:42.125Z"
   },
   {
    "duration": 40,
    "start_time": "2023-06-20T15:25:42.155Z"
   },
   {
    "duration": 40,
    "start_time": "2023-06-20T15:25:42.201Z"
   },
   {
    "duration": 153,
    "start_time": "2023-06-20T15:25:42.243Z"
   },
   {
    "duration": 106,
    "start_time": "2023-06-20T15:25:42.402Z"
   },
   {
    "duration": 147,
    "start_time": "2023-06-20T15:25:42.514Z"
   },
   {
    "duration": 35,
    "start_time": "2023-06-20T15:25:42.665Z"
   },
   {
    "duration": 86,
    "start_time": "2023-06-20T15:25:42.708Z"
   },
   {
    "duration": 55,
    "start_time": "2023-06-20T15:25:42.812Z"
   },
   {
    "duration": 60,
    "start_time": "2023-06-20T15:25:42.869Z"
   },
   {
    "duration": 17,
    "start_time": "2023-06-20T15:25:42.932Z"
   },
   {
    "duration": 85,
    "start_time": "2023-06-20T15:25:42.952Z"
   },
   {
    "duration": 58,
    "start_time": "2023-06-20T15:25:43.040Z"
   },
   {
    "duration": 40,
    "start_time": "2023-06-20T15:25:43.100Z"
   },
   {
    "duration": 851,
    "start_time": "2023-06-20T15:25:43.147Z"
   },
   {
    "duration": 366,
    "start_time": "2023-06-20T15:25:44.009Z"
   },
   {
    "duration": 14,
    "start_time": "2023-06-20T15:25:44.381Z"
   },
   {
    "duration": 13,
    "start_time": "2023-06-20T15:25:44.401Z"
   },
   {
    "duration": 16,
    "start_time": "2023-06-20T15:25:44.420Z"
   },
   {
    "duration": 60,
    "start_time": "2023-06-20T15:25:44.443Z"
   },
   {
    "duration": 105,
    "start_time": "2023-06-20T15:25:44.510Z"
   },
   {
    "duration": 29,
    "start_time": "2023-06-20T15:25:44.624Z"
   },
   {
    "duration": 2889,
    "start_time": "2023-06-20T15:25:44.659Z"
   },
   {
    "duration": 94,
    "start_time": "2023-06-20T15:26:25.699Z"
   },
   {
    "duration": 1789,
    "start_time": "2023-06-20T15:27:10.443Z"
   },
   {
    "duration": 69,
    "start_time": "2023-06-20T15:48:15.737Z"
   },
   {
    "duration": 73,
    "start_time": "2023-06-20T15:48:28.889Z"
   },
   {
    "duration": 10,
    "start_time": "2023-06-20T15:57:42.115Z"
   },
   {
    "duration": 12,
    "start_time": "2023-06-20T16:01:40.743Z"
   },
   {
    "duration": 33,
    "start_time": "2023-06-20T16:03:39.453Z"
   },
   {
    "duration": 13,
    "start_time": "2023-06-20T16:03:44.839Z"
   },
   {
    "duration": 23,
    "start_time": "2023-06-20T16:03:57.527Z"
   },
   {
    "duration": 21,
    "start_time": "2023-06-20T16:04:49.834Z"
   },
   {
    "duration": 44,
    "start_time": "2023-06-20T16:05:04.135Z"
   },
   {
    "duration": 17,
    "start_time": "2023-06-20T16:07:58.299Z"
   },
   {
    "duration": 9,
    "start_time": "2023-06-20T16:09:35.116Z"
   },
   {
    "duration": 14,
    "start_time": "2023-06-20T16:09:47.398Z"
   },
   {
    "duration": 46,
    "start_time": "2023-06-20T16:11:36.733Z"
   },
   {
    "duration": 71,
    "start_time": "2023-06-20T16:12:12.758Z"
   },
   {
    "duration": 53,
    "start_time": "2023-06-21T03:57:15.361Z"
   },
   {
    "duration": 147,
    "start_time": "2023-06-21T03:57:33.249Z"
   },
   {
    "duration": 7,
    "start_time": "2023-06-21T03:57:44.981Z"
   },
   {
    "duration": 1429,
    "start_time": "2023-06-21T03:57:55.957Z"
   },
   {
    "duration": 471,
    "start_time": "2023-06-21T03:57:57.388Z"
   },
   {
    "duration": 10,
    "start_time": "2023-06-21T03:57:57.861Z"
   },
   {
    "duration": 7,
    "start_time": "2023-06-21T03:57:57.873Z"
   },
   {
    "duration": 38,
    "start_time": "2023-06-21T03:57:57.881Z"
   },
   {
    "duration": 10,
    "start_time": "2023-06-21T03:57:57.921Z"
   },
   {
    "duration": 23,
    "start_time": "2023-06-21T03:57:57.932Z"
   },
   {
    "duration": 28,
    "start_time": "2023-06-21T03:57:57.957Z"
   },
   {
    "duration": 63,
    "start_time": "2023-06-21T03:57:57.987Z"
   },
   {
    "duration": 70,
    "start_time": "2023-06-21T03:57:58.052Z"
   },
   {
    "duration": 95,
    "start_time": "2023-06-21T03:57:58.125Z"
   },
   {
    "duration": 16,
    "start_time": "2023-06-21T03:57:58.223Z"
   },
   {
    "duration": 18,
    "start_time": "2023-06-21T03:57:58.241Z"
   },
   {
    "duration": 41,
    "start_time": "2023-06-21T03:57:58.261Z"
   },
   {
    "duration": 21,
    "start_time": "2023-06-21T03:57:58.304Z"
   },
   {
    "duration": 14,
    "start_time": "2023-06-21T03:57:58.327Z"
   },
   {
    "duration": 37,
    "start_time": "2023-06-21T03:57:58.342Z"
   },
   {
    "duration": 27,
    "start_time": "2023-06-21T03:57:58.381Z"
   },
   {
    "duration": 24,
    "start_time": "2023-06-21T03:57:58.409Z"
   },
   {
    "duration": 478,
    "start_time": "2023-06-21T03:57:58.435Z"
   },
   {
    "duration": 191,
    "start_time": "2023-06-21T03:57:58.915Z"
   },
   {
    "duration": 15,
    "start_time": "2023-06-21T03:57:59.108Z"
   },
   {
    "duration": 15,
    "start_time": "2023-06-21T03:57:59.124Z"
   },
   {
    "duration": 24,
    "start_time": "2023-06-21T03:57:59.141Z"
   },
   {
    "duration": 33,
    "start_time": "2023-06-21T03:57:59.166Z"
   },
   {
    "duration": 17,
    "start_time": "2023-06-21T03:57:59.201Z"
   },
   {
    "duration": 68,
    "start_time": "2023-06-21T03:57:59.220Z"
   },
   {
    "duration": 11,
    "start_time": "2023-06-21T03:57:59.291Z"
   },
   {
    "duration": 1100,
    "start_time": "2023-06-21T04:02:51.539Z"
   },
   {
    "duration": 137,
    "start_time": "2023-06-21T04:02:52.641Z"
   },
   {
    "duration": 11,
    "start_time": "2023-06-21T04:02:52.780Z"
   },
   {
    "duration": 3,
    "start_time": "2023-06-21T04:02:52.800Z"
   },
   {
    "duration": 25,
    "start_time": "2023-06-21T04:02:52.805Z"
   },
   {
    "duration": 10,
    "start_time": "2023-06-21T04:02:52.832Z"
   },
   {
    "duration": 26,
    "start_time": "2023-06-21T04:02:52.844Z"
   },
   {
    "duration": 16,
    "start_time": "2023-06-21T04:02:52.872Z"
   },
   {
    "duration": 74,
    "start_time": "2023-06-21T04:02:52.890Z"
   },
   {
    "duration": 74,
    "start_time": "2023-06-21T04:02:52.966Z"
   },
   {
    "duration": 51,
    "start_time": "2023-06-21T04:02:53.041Z"
   },
   {
    "duration": 11,
    "start_time": "2023-06-21T04:02:53.100Z"
   },
   {
    "duration": 18,
    "start_time": "2023-06-21T04:02:53.113Z"
   },
   {
    "duration": 29,
    "start_time": "2023-06-21T04:02:53.133Z"
   },
   {
    "duration": 18,
    "start_time": "2023-06-21T04:02:53.163Z"
   },
   {
    "duration": 22,
    "start_time": "2023-06-21T04:02:53.182Z"
   },
   {
    "duration": 38,
    "start_time": "2023-06-21T04:02:53.206Z"
   },
   {
    "duration": 23,
    "start_time": "2023-06-21T04:02:53.245Z"
   },
   {
    "duration": 39,
    "start_time": "2023-06-21T04:02:53.270Z"
   },
   {
    "duration": 493,
    "start_time": "2023-06-21T04:02:53.311Z"
   },
   {
    "duration": 206,
    "start_time": "2023-06-21T04:02:53.806Z"
   },
   {
    "duration": 14,
    "start_time": "2023-06-21T04:02:54.013Z"
   },
   {
    "duration": 8,
    "start_time": "2023-06-21T04:02:54.028Z"
   },
   {
    "duration": 27,
    "start_time": "2023-06-21T04:02:54.037Z"
   },
   {
    "duration": 39,
    "start_time": "2023-06-21T04:02:54.066Z"
   },
   {
    "duration": 20,
    "start_time": "2023-06-21T04:02:54.107Z"
   },
   {
    "duration": 85,
    "start_time": "2023-06-21T04:02:54.128Z"
   },
   {
    "duration": 9,
    "start_time": "2023-06-21T04:02:54.216Z"
   },
   {
    "duration": 1058,
    "start_time": "2023-06-21T05:19:47.016Z"
   },
   {
    "duration": 155,
    "start_time": "2023-06-21T05:19:48.076Z"
   },
   {
    "duration": 11,
    "start_time": "2023-06-21T05:19:48.232Z"
   },
   {
    "duration": 14,
    "start_time": "2023-06-21T05:19:48.244Z"
   },
   {
    "duration": 25,
    "start_time": "2023-06-21T05:19:48.259Z"
   },
   {
    "duration": 16,
    "start_time": "2023-06-21T05:19:48.285Z"
   },
   {
    "duration": 20,
    "start_time": "2023-06-21T05:19:48.303Z"
   },
   {
    "duration": 63,
    "start_time": "2023-06-21T05:19:48.325Z"
   },
   {
    "duration": 65,
    "start_time": "2023-06-21T05:19:48.390Z"
   },
   {
    "duration": 66,
    "start_time": "2023-06-21T05:19:48.457Z"
   },
   {
    "duration": 17,
    "start_time": "2023-06-21T05:19:48.525Z"
   },
   {
    "duration": 19,
    "start_time": "2023-06-21T05:19:48.544Z"
   },
   {
    "duration": 60,
    "start_time": "2023-06-21T05:19:48.564Z"
   },
   {
    "duration": 30,
    "start_time": "2023-06-21T05:19:48.627Z"
   },
   {
    "duration": 17,
    "start_time": "2023-06-21T05:19:48.659Z"
   },
   {
    "duration": 46,
    "start_time": "2023-06-21T05:19:48.678Z"
   },
   {
    "duration": 16,
    "start_time": "2023-06-21T05:19:48.725Z"
   },
   {
    "duration": 25,
    "start_time": "2023-06-21T05:19:48.743Z"
   },
   {
    "duration": 466,
    "start_time": "2023-06-21T05:19:48.770Z"
   },
   {
    "duration": 203,
    "start_time": "2023-06-21T05:19:49.237Z"
   },
   {
    "duration": 15,
    "start_time": "2023-06-21T05:19:49.441Z"
   },
   {
    "duration": 8,
    "start_time": "2023-06-21T05:19:49.457Z"
   },
   {
    "duration": 5,
    "start_time": "2023-06-21T05:19:49.466Z"
   },
   {
    "duration": 50,
    "start_time": "2023-06-21T05:19:49.473Z"
   },
   {
    "duration": 19,
    "start_time": "2023-06-21T05:19:49.525Z"
   },
   {
    "duration": 67,
    "start_time": "2023-06-21T05:19:49.546Z"
   },
   {
    "duration": 12,
    "start_time": "2023-06-21T05:19:49.614Z"
   },
   {
    "duration": 2451,
    "start_time": "2023-06-21T05:25:10.306Z"
   },
   {
    "duration": 1317,
    "start_time": "2023-06-21T05:25:30.137Z"
   },
   {
    "duration": 1872,
    "start_time": "2023-06-21T05:25:52.193Z"
   },
   {
    "duration": 15,
    "start_time": "2023-06-21T05:26:34.161Z"
   },
   {
    "duration": 4,
    "start_time": "2023-06-21T05:42:52.678Z"
   },
   {
    "duration": 3,
    "start_time": "2023-06-21T05:50:24.548Z"
   },
   {
    "duration": 30,
    "start_time": "2023-06-21T05:56:53.420Z"
   },
   {
    "duration": 41,
    "start_time": "2023-06-21T05:57:50.051Z"
   },
   {
    "duration": 31,
    "start_time": "2023-06-21T05:57:58.372Z"
   },
   {
    "duration": 87,
    "start_time": "2023-06-21T06:00:26.780Z"
   },
   {
    "duration": 58,
    "start_time": "2023-06-21T06:00:35.908Z"
   },
   {
    "duration": 1321,
    "start_time": "2023-06-21T06:20:37.819Z"
   },
   {
    "duration": 1585,
    "start_time": "2023-06-21T06:26:12.715Z"
   },
   {
    "duration": 18,
    "start_time": "2023-06-21T06:26:45.310Z"
   },
   {
    "duration": 156,
    "start_time": "2023-06-21T06:28:57.131Z"
   },
   {
    "duration": 1402,
    "start_time": "2023-06-21T06:29:35.035Z"
   },
   {
    "duration": 14,
    "start_time": "2023-06-21T06:30:07.608Z"
   },
   {
    "duration": 1900,
    "start_time": "2023-06-21T06:31:25.313Z"
   },
   {
    "duration": 1868,
    "start_time": "2023-06-21T06:33:03.331Z"
   },
   {
    "duration": 1802,
    "start_time": "2023-06-21T06:51:41.062Z"
   },
   {
    "duration": 79,
    "start_time": "2023-06-21T06:55:41.169Z"
   },
   {
    "duration": 71,
    "start_time": "2023-06-21T06:55:49.942Z"
   },
   {
    "duration": 1336,
    "start_time": "2023-06-21T06:59:13.411Z"
   },
   {
    "duration": 71,
    "start_time": "2023-06-21T06:59:21.845Z"
   },
   {
    "duration": 1722,
    "start_time": "2023-06-21T07:02:32.151Z"
   },
   {
    "duration": 108,
    "start_time": "2023-06-21T07:03:02.028Z"
   },
   {
    "duration": 8,
    "start_time": "2023-06-21T07:08:08.308Z"
   },
   {
    "duration": 7,
    "start_time": "2023-06-21T07:13:33.832Z"
   },
   {
    "duration": 7,
    "start_time": "2023-06-21T08:18:08.924Z"
   },
   {
    "duration": 7,
    "start_time": "2023-06-21T08:18:15.836Z"
   },
   {
    "duration": 2775,
    "start_time": "2023-06-21T08:18:30.216Z"
   },
   {
    "duration": 2249,
    "start_time": "2023-06-21T08:20:21.631Z"
   },
   {
    "duration": 3313,
    "start_time": "2023-06-21T08:20:59.471Z"
   },
   {
    "duration": 130,
    "start_time": "2023-06-21T08:22:23.533Z"
   },
   {
    "duration": 87,
    "start_time": "2023-06-21T08:22:59.518Z"
   },
   {
    "duration": 8,
    "start_time": "2023-06-21T08:23:13.833Z"
   },
   {
    "duration": 6,
    "start_time": "2023-06-21T08:23:14.817Z"
   },
   {
    "duration": 2709,
    "start_time": "2023-06-21T08:23:15.543Z"
   },
   {
    "duration": 3268,
    "start_time": "2023-06-21T08:23:51.725Z"
   },
   {
    "duration": 3,
    "start_time": "2023-06-21T08:24:36.033Z"
   },
   {
    "duration": 6,
    "start_time": "2023-06-21T08:24:38.326Z"
   },
   {
    "duration": 3,
    "start_time": "2023-06-21T08:24:38.750Z"
   },
   {
    "duration": 200,
    "start_time": "2023-06-21T08:24:40.178Z"
   },
   {
    "duration": 9,
    "start_time": "2023-06-21T08:24:40.761Z"
   },
   {
    "duration": 3,
    "start_time": "2023-06-21T08:24:42.246Z"
   },
   {
    "duration": 35,
    "start_time": "2023-06-21T08:24:43.026Z"
   },
   {
    "duration": 27,
    "start_time": "2023-06-21T08:24:43.528Z"
   },
   {
    "duration": 26,
    "start_time": "2023-06-21T08:24:44.116Z"
   },
   {
    "duration": 98,
    "start_time": "2023-06-21T08:24:44.658Z"
   },
   {
    "duration": 99,
    "start_time": "2023-06-21T08:24:44.962Z"
   },
   {
    "duration": 116,
    "start_time": "2023-06-21T08:24:45.762Z"
   },
   {
    "duration": 23,
    "start_time": "2023-06-21T08:24:46.378Z"
   },
   {
    "duration": 16,
    "start_time": "2023-06-21T08:24:48.649Z"
   },
   {
    "duration": 56,
    "start_time": "2023-06-21T08:24:48.857Z"
   },
   {
    "duration": 37,
    "start_time": "2023-06-21T08:24:49.100Z"
   },
   {
    "duration": 12,
    "start_time": "2023-06-21T08:24:49.959Z"
   },
   {
    "duration": 64,
    "start_time": "2023-06-21T08:24:50.422Z"
   },
   {
    "duration": 31,
    "start_time": "2023-06-21T08:24:51.123Z"
   },
   {
    "duration": 34,
    "start_time": "2023-06-21T08:24:51.418Z"
   },
   {
    "duration": 480,
    "start_time": "2023-06-21T08:24:51.851Z"
   },
   {
    "duration": 774,
    "start_time": "2023-06-21T08:24:52.730Z"
   },
   {
    "duration": 692,
    "start_time": "2023-06-21T08:24:53.569Z"
   },
   {
    "duration": 0,
    "start_time": "2023-06-21T08:24:54.264Z"
   },
   {
    "duration": 18,
    "start_time": "2023-06-21T08:24:54.337Z"
   },
   {
    "duration": 1181,
    "start_time": "2023-06-21T08:25:40.272Z"
   },
   {
    "duration": 3,
    "start_time": "2023-06-21T08:25:41.455Z"
   },
   {
    "duration": 196,
    "start_time": "2023-06-21T08:25:41.460Z"
   },
   {
    "duration": 11,
    "start_time": "2023-06-21T08:25:41.658Z"
   },
   {
    "duration": 26,
    "start_time": "2023-06-21T08:25:41.670Z"
   },
   {
    "duration": 67,
    "start_time": "2023-06-21T08:25:41.697Z"
   },
   {
    "duration": 16,
    "start_time": "2023-06-21T08:25:41.766Z"
   },
   {
    "duration": 12,
    "start_time": "2023-06-21T08:25:41.785Z"
   },
   {
    "duration": 133,
    "start_time": "2023-06-21T08:25:41.799Z"
   },
   {
    "duration": 88,
    "start_time": "2023-06-21T08:25:41.935Z"
   },
   {
    "duration": 96,
    "start_time": "2023-06-21T08:25:42.033Z"
   },
   {
    "duration": 32,
    "start_time": "2023-06-21T08:25:42.131Z"
   },
   {
    "duration": 13,
    "start_time": "2023-06-21T08:25:42.165Z"
   },
   {
    "duration": 69,
    "start_time": "2023-06-21T08:25:42.180Z"
   },
   {
    "duration": 21,
    "start_time": "2023-06-21T08:25:42.251Z"
   },
   {
    "duration": 17,
    "start_time": "2023-06-21T08:25:42.274Z"
   },
   {
    "duration": 59,
    "start_time": "2023-06-21T08:25:42.293Z"
   },
   {
    "duration": 14,
    "start_time": "2023-06-21T08:25:42.354Z"
   },
   {
    "duration": 46,
    "start_time": "2023-06-21T08:25:42.370Z"
   },
   {
    "duration": 654,
    "start_time": "2023-06-21T08:25:42.427Z"
   },
   {
    "duration": 607,
    "start_time": "2023-06-21T08:25:43.082Z"
   },
   {
    "duration": 0,
    "start_time": "2023-06-21T08:25:43.691Z"
   },
   {
    "duration": 0,
    "start_time": "2023-06-21T08:25:43.695Z"
   },
   {
    "duration": 0,
    "start_time": "2023-06-21T08:25:43.696Z"
   },
   {
    "duration": 0,
    "start_time": "2023-06-21T08:25:43.698Z"
   },
   {
    "duration": 0,
    "start_time": "2023-06-21T08:25:43.705Z"
   },
   {
    "duration": 0,
    "start_time": "2023-06-21T08:25:43.706Z"
   },
   {
    "duration": 0,
    "start_time": "2023-06-21T08:25:43.707Z"
   },
   {
    "duration": 0,
    "start_time": "2023-06-21T08:25:43.708Z"
   },
   {
    "duration": 0,
    "start_time": "2023-06-21T08:25:43.708Z"
   },
   {
    "duration": 0,
    "start_time": "2023-06-21T08:25:43.709Z"
   },
   {
    "duration": 0,
    "start_time": "2023-06-21T08:25:43.710Z"
   },
   {
    "duration": 0,
    "start_time": "2023-06-21T08:25:43.711Z"
   },
   {
    "duration": 0,
    "start_time": "2023-06-21T08:25:43.712Z"
   },
   {
    "duration": 0,
    "start_time": "2023-06-21T08:25:43.713Z"
   },
   {
    "duration": 0,
    "start_time": "2023-06-21T08:25:43.714Z"
   },
   {
    "duration": 293,
    "start_time": "2023-06-21T08:26:31.624Z"
   },
   {
    "duration": 21,
    "start_time": "2023-06-21T08:26:35.716Z"
   },
   {
    "duration": 25,
    "start_time": "2023-06-21T08:26:36.491Z"
   },
   {
    "duration": 6,
    "start_time": "2023-06-21T08:26:37.743Z"
   },
   {
    "duration": 44,
    "start_time": "2023-06-21T08:26:38.216Z"
   },
   {
    "duration": 31,
    "start_time": "2023-06-21T08:26:39.920Z"
   },
   {
    "duration": 66,
    "start_time": "2023-06-21T08:26:40.864Z"
   },
   {
    "duration": 17,
    "start_time": "2023-06-21T08:26:41.104Z"
   },
   {
    "duration": 33,
    "start_time": "2023-06-21T08:26:42.604Z"
   },
   {
    "duration": 4,
    "start_time": "2023-06-21T08:26:44.547Z"
   },
   {
    "duration": 40,
    "start_time": "2023-06-21T08:26:46.731Z"
   },
   {
    "duration": 10,
    "start_time": "2023-06-21T08:26:48.352Z"
   },
   {
    "duration": 1944,
    "start_time": "2023-06-21T08:26:48.719Z"
   },
   {
    "duration": 8,
    "start_time": "2023-06-21T08:27:34.584Z"
   },
   {
    "duration": 6,
    "start_time": "2023-06-21T08:27:39.731Z"
   },
   {
    "duration": 7,
    "start_time": "2023-06-21T08:27:40.347Z"
   },
   {
    "duration": 2430,
    "start_time": "2023-06-21T08:27:40.968Z"
   },
   {
    "duration": 2458,
    "start_time": "2023-06-21T08:34:24.517Z"
   },
   {
    "duration": 91,
    "start_time": "2023-06-21T08:34:50.231Z"
   },
   {
    "duration": 97,
    "start_time": "2023-06-21T08:35:25.044Z"
   },
   {
    "duration": 101,
    "start_time": "2023-06-21T08:35:57.156Z"
   },
   {
    "duration": 87,
    "start_time": "2023-06-21T08:36:46.044Z"
   },
   {
    "duration": 4549,
    "start_time": "2023-06-21T08:37:13.316Z"
   },
   {
    "duration": 8271,
    "start_time": "2023-06-21T08:38:00.756Z"
   },
   {
    "duration": 90,
    "start_time": "2023-06-21T08:52:16.758Z"
   },
   {
    "duration": 1320,
    "start_time": "2023-06-21T08:56:01.429Z"
   },
   {
    "duration": 207,
    "start_time": "2023-06-21T08:56:02.751Z"
   },
   {
    "duration": 10,
    "start_time": "2023-06-21T08:56:02.960Z"
   },
   {
    "duration": 8,
    "start_time": "2023-06-21T08:56:02.972Z"
   },
   {
    "duration": 76,
    "start_time": "2023-06-21T08:56:02.982Z"
   },
   {
    "duration": 25,
    "start_time": "2023-06-21T08:56:03.059Z"
   },
   {
    "duration": 56,
    "start_time": "2023-06-21T08:56:03.085Z"
   },
   {
    "duration": 86,
    "start_time": "2023-06-21T08:56:03.143Z"
   },
   {
    "duration": 87,
    "start_time": "2023-06-21T08:56:03.230Z"
   },
   {
    "duration": 77,
    "start_time": "2023-06-21T08:56:03.319Z"
   },
   {
    "duration": 20,
    "start_time": "2023-06-21T08:56:03.397Z"
   },
   {
    "duration": 50,
    "start_time": "2023-06-21T08:56:03.418Z"
   },
   {
    "duration": 41,
    "start_time": "2023-06-21T08:56:03.469Z"
   },
   {
    "duration": 49,
    "start_time": "2023-06-21T08:56:03.520Z"
   },
   {
    "duration": 28,
    "start_time": "2023-06-21T08:56:03.570Z"
   },
   {
    "duration": 51,
    "start_time": "2023-06-21T08:56:03.604Z"
   },
   {
    "duration": 14,
    "start_time": "2023-06-21T08:56:03.657Z"
   },
   {
    "duration": 21,
    "start_time": "2023-06-21T08:56:03.672Z"
   },
   {
    "duration": 650,
    "start_time": "2023-06-21T08:56:03.695Z"
   },
   {
    "duration": 268,
    "start_time": "2023-06-21T08:56:04.347Z"
   },
   {
    "duration": 27,
    "start_time": "2023-06-21T08:56:04.617Z"
   },
   {
    "duration": 41,
    "start_time": "2023-06-21T08:56:04.648Z"
   },
   {
    "duration": 52,
    "start_time": "2023-06-21T08:56:04.691Z"
   },
   {
    "duration": 44,
    "start_time": "2023-06-21T08:56:04.745Z"
   },
   {
    "duration": 45,
    "start_time": "2023-06-21T08:56:04.791Z"
   },
   {
    "duration": 74,
    "start_time": "2023-06-21T08:56:04.837Z"
   },
   {
    "duration": 18,
    "start_time": "2023-06-21T08:56:04.912Z"
   },
   {
    "duration": 29,
    "start_time": "2023-06-21T08:56:04.931Z"
   },
   {
    "duration": 23,
    "start_time": "2023-06-21T08:56:04.962Z"
   },
   {
    "duration": 71,
    "start_time": "2023-06-21T08:56:04.986Z"
   },
   {
    "duration": 17,
    "start_time": "2023-06-21T08:56:05.059Z"
   },
   {
    "duration": 5979,
    "start_time": "2023-06-21T08:56:05.077Z"
   },
   {
    "duration": 4453,
    "start_time": "2023-06-21T08:58:01.618Z"
   },
   {
    "duration": 4677,
    "start_time": "2023-06-21T08:58:43.015Z"
   },
   {
    "duration": 4184,
    "start_time": "2023-06-21T08:59:12.113Z"
   },
   {
    "duration": 4227,
    "start_time": "2023-06-21T09:03:53.924Z"
   },
   {
    "duration": 2374,
    "start_time": "2023-06-21T09:17:46.893Z"
   },
   {
    "duration": 33,
    "start_time": "2023-06-21T09:20:11.056Z"
   },
   {
    "duration": 1340,
    "start_time": "2023-06-21T09:20:32.759Z"
   },
   {
    "duration": 33,
    "start_time": "2023-06-21T09:21:12.663Z"
   },
   {
    "duration": 1582,
    "start_time": "2023-06-21T09:23:50.594Z"
   },
   {
    "duration": 2116,
    "start_time": "2023-06-21T09:24:15.338Z"
   },
   {
    "duration": 1858,
    "start_time": "2023-06-21T09:24:31.122Z"
   },
   {
    "duration": 40,
    "start_time": "2023-06-21T09:26:27.839Z"
   },
   {
    "duration": 119,
    "start_time": "2023-06-21T09:31:09.126Z"
   },
   {
    "duration": 2926,
    "start_time": "2023-06-21T09:32:37.940Z"
   },
   {
    "duration": 280,
    "start_time": "2023-06-21T09:33:38.521Z"
   },
   {
    "duration": 98,
    "start_time": "2023-06-21T09:33:54.948Z"
   },
   {
    "duration": 118,
    "start_time": "2023-06-21T09:34:08.114Z"
   },
   {
    "duration": 101,
    "start_time": "2023-06-21T09:34:22.158Z"
   },
   {
    "duration": 136,
    "start_time": "2023-06-21T09:34:41.420Z"
   },
   {
    "duration": 3200,
    "start_time": "2023-06-21T09:34:55.945Z"
   },
   {
    "duration": 103,
    "start_time": "2023-06-21T09:35:12.322Z"
   },
   {
    "duration": 138,
    "start_time": "2023-06-21T09:35:19.818Z"
   },
   {
    "duration": 120,
    "start_time": "2023-06-21T09:35:24.234Z"
   },
   {
    "duration": 150,
    "start_time": "2023-06-21T09:35:28.065Z"
   },
   {
    "duration": 361,
    "start_time": "2023-06-21T09:35:31.927Z"
   },
   {
    "duration": 123,
    "start_time": "2023-06-21T09:35:43.025Z"
   },
   {
    "duration": 142,
    "start_time": "2023-06-21T09:35:48.159Z"
   },
   {
    "duration": 114,
    "start_time": "2023-06-21T09:37:28.230Z"
   },
   {
    "duration": 194,
    "start_time": "2023-06-21T09:38:41.827Z"
   },
   {
    "duration": 18,
    "start_time": "2023-06-21T09:39:22.422Z"
   },
   {
    "duration": 151,
    "start_time": "2023-06-21T09:39:48.006Z"
   },
   {
    "duration": 182,
    "start_time": "2023-06-21T09:40:46.559Z"
   },
   {
    "duration": 146,
    "start_time": "2023-06-21T09:41:33.263Z"
   },
   {
    "duration": 22,
    "start_time": "2023-06-21T09:46:22.171Z"
   },
   {
    "duration": 3002,
    "start_time": "2023-06-21T09:58:29.630Z"
   },
   {
    "duration": 2572,
    "start_time": "2023-06-21T09:59:10.500Z"
   },
   {
    "duration": 2253,
    "start_time": "2023-06-21T09:59:22.654Z"
   },
   {
    "duration": 2518,
    "start_time": "2023-06-21T10:02:35.672Z"
   },
   {
    "duration": 16,
    "start_time": "2023-06-21T10:03:47.362Z"
   },
   {
    "duration": 1957,
    "start_time": "2023-06-21T10:16:56.272Z"
   },
   {
    "duration": 9,
    "start_time": "2023-06-21T10:17:03.504Z"
   },
   {
    "duration": 12,
    "start_time": "2023-06-21T10:17:34.343Z"
   },
   {
    "duration": 9,
    "start_time": "2023-06-21T10:17:42.871Z"
   },
   {
    "duration": 23,
    "start_time": "2023-06-21T10:17:44.222Z"
   },
   {
    "duration": 2247,
    "start_time": "2023-06-21T10:18:40.526Z"
   },
   {
    "duration": 10,
    "start_time": "2023-06-21T10:18:51.572Z"
   },
   {
    "duration": 7,
    "start_time": "2023-06-21T10:55:44.284Z"
   },
   {
    "duration": 27,
    "start_time": "2023-06-21T10:56:06.331Z"
   },
   {
    "duration": 210,
    "start_time": "2023-06-21T11:12:43.283Z"
   },
   {
    "duration": 104,
    "start_time": "2023-06-21T11:13:05.474Z"
   },
   {
    "duration": 9,
    "start_time": "2023-06-21T11:13:07.982Z"
   },
   {
    "duration": 15,
    "start_time": "2023-06-21T11:13:08.928Z"
   },
   {
    "duration": 13,
    "start_time": "2023-06-21T11:13:11.285Z"
   },
   {
    "duration": 18,
    "start_time": "2023-06-21T11:13:12.300Z"
   },
   {
    "duration": 12,
    "start_time": "2023-06-21T11:13:13.374Z"
   },
   {
    "duration": 1326,
    "start_time": "2023-06-22T04:10:27.304Z"
   },
   {
    "duration": 775,
    "start_time": "2023-06-22T04:10:28.632Z"
   },
   {
    "duration": 12,
    "start_time": "2023-06-22T04:10:29.410Z"
   },
   {
    "duration": 9,
    "start_time": "2023-06-22T04:10:29.424Z"
   },
   {
    "duration": 35,
    "start_time": "2023-06-22T04:10:29.436Z"
   },
   {
    "duration": 22,
    "start_time": "2023-06-22T04:10:29.473Z"
   },
   {
    "duration": 27,
    "start_time": "2023-06-22T04:10:29.496Z"
   },
   {
    "duration": 93,
    "start_time": "2023-06-22T04:10:29.524Z"
   },
   {
    "duration": 97,
    "start_time": "2023-06-22T04:10:29.619Z"
   },
   {
    "duration": 117,
    "start_time": "2023-06-22T04:10:29.718Z"
   },
   {
    "duration": 19,
    "start_time": "2023-06-22T04:10:29.837Z"
   },
   {
    "duration": 20,
    "start_time": "2023-06-22T04:10:29.859Z"
   },
   {
    "duration": 54,
    "start_time": "2023-06-22T04:10:29.881Z"
   },
   {
    "duration": 23,
    "start_time": "2023-06-22T04:10:29.940Z"
   },
   {
    "duration": 14,
    "start_time": "2023-06-22T04:10:29.965Z"
   },
   {
    "duration": 57,
    "start_time": "2023-06-22T04:10:29.981Z"
   },
   {
    "duration": 34,
    "start_time": "2023-06-22T04:10:30.041Z"
   },
   {
    "duration": 76,
    "start_time": "2023-06-22T04:10:30.077Z"
   },
   {
    "duration": 559,
    "start_time": "2023-06-22T04:10:30.156Z"
   },
   {
    "duration": 250,
    "start_time": "2023-06-22T04:10:30.718Z"
   },
   {
    "duration": 24,
    "start_time": "2023-06-22T04:10:30.971Z"
   },
   {
    "duration": 37,
    "start_time": "2023-06-22T04:10:30.996Z"
   },
   {
    "duration": 25,
    "start_time": "2023-06-22T04:10:31.036Z"
   },
   {
    "duration": 64,
    "start_time": "2023-06-22T04:10:31.063Z"
   },
   {
    "duration": 47,
    "start_time": "2023-06-22T04:10:31.129Z"
   },
   {
    "duration": 100,
    "start_time": "2023-06-22T04:10:31.178Z"
   },
   {
    "duration": 11,
    "start_time": "2023-06-22T04:10:31.280Z"
   },
   {
    "duration": 67,
    "start_time": "2023-06-22T04:10:31.293Z"
   },
   {
    "duration": 56,
    "start_time": "2023-06-22T04:10:31.362Z"
   },
   {
    "duration": 89,
    "start_time": "2023-06-22T04:10:31.420Z"
   },
   {
    "duration": 44,
    "start_time": "2023-06-22T04:10:31.511Z"
   },
   {
    "duration": 289,
    "start_time": "2023-06-22T04:10:31.557Z"
   },
   {
    "duration": 41,
    "start_time": "2023-06-22T04:10:31.848Z"
   },
   {
    "duration": 89,
    "start_time": "2023-06-22T04:10:31.891Z"
   },
   {
    "duration": 147,
    "start_time": "2023-06-22T04:10:31.983Z"
   },
   {
    "duration": 114,
    "start_time": "2023-06-22T04:10:32.132Z"
   },
   {
    "duration": 94,
    "start_time": "2023-06-22T04:10:32.247Z"
   },
   {
    "duration": 122,
    "start_time": "2023-06-22T04:10:32.343Z"
   },
   {
    "duration": 11,
    "start_time": "2023-06-22T04:11:38.909Z"
   },
   {
    "duration": 1227,
    "start_time": "2023-06-22T05:27:55.044Z"
   },
   {
    "duration": 186,
    "start_time": "2023-06-22T05:27:56.274Z"
   },
   {
    "duration": 18,
    "start_time": "2023-06-22T05:27:56.462Z"
   },
   {
    "duration": 29,
    "start_time": "2023-06-22T05:27:56.481Z"
   },
   {
    "duration": 69,
    "start_time": "2023-06-22T05:27:56.513Z"
   },
   {
    "duration": 52,
    "start_time": "2023-06-22T05:27:56.584Z"
   },
   {
    "duration": 98,
    "start_time": "2023-06-22T05:27:56.639Z"
   },
   {
    "duration": 107,
    "start_time": "2023-06-22T05:27:56.739Z"
   },
   {
    "duration": 126,
    "start_time": "2023-06-22T05:27:56.848Z"
   },
   {
    "duration": 146,
    "start_time": "2023-06-22T05:27:56.976Z"
   },
   {
    "duration": 154,
    "start_time": "2023-06-22T05:27:57.124Z"
   },
   {
    "duration": 75,
    "start_time": "2023-06-22T05:27:57.280Z"
   },
   {
    "duration": 60,
    "start_time": "2023-06-22T05:27:57.357Z"
   },
   {
    "duration": 127,
    "start_time": "2023-06-22T05:27:57.420Z"
   },
   {
    "duration": 122,
    "start_time": "2023-06-22T05:27:57.548Z"
   },
   {
    "duration": 15,
    "start_time": "2023-06-22T05:27:57.672Z"
   },
   {
    "duration": 39,
    "start_time": "2023-06-22T05:27:57.689Z"
   },
   {
    "duration": 601,
    "start_time": "2023-06-22T05:27:57.730Z"
   },
   {
    "duration": 269,
    "start_time": "2023-06-22T05:27:58.333Z"
   },
   {
    "duration": 29,
    "start_time": "2023-06-22T05:27:58.605Z"
   },
   {
    "duration": 15,
    "start_time": "2023-06-22T05:27:58.636Z"
   },
   {
    "duration": 24,
    "start_time": "2023-06-22T05:27:58.653Z"
   },
   {
    "duration": 85,
    "start_time": "2023-06-22T05:27:58.679Z"
   },
   {
    "duration": 32,
    "start_time": "2023-06-22T05:27:58.765Z"
   },
   {
    "duration": 97,
    "start_time": "2023-06-22T05:27:58.799Z"
   },
   {
    "duration": 14,
    "start_time": "2023-06-22T05:27:58.898Z"
   },
   {
    "duration": 93,
    "start_time": "2023-06-22T05:27:58.914Z"
   },
   {
    "duration": 26,
    "start_time": "2023-06-22T05:27:59.009Z"
   },
   {
    "duration": 68,
    "start_time": "2023-06-22T05:27:59.037Z"
   },
   {
    "duration": 154,
    "start_time": "2023-06-22T05:27:59.106Z"
   },
   {
    "duration": 165,
    "start_time": "2023-06-22T05:27:59.262Z"
   },
   {
    "duration": 22,
    "start_time": "2023-06-22T05:27:59.429Z"
   },
   {
    "duration": 152,
    "start_time": "2023-06-22T05:27:59.453Z"
   },
   {
    "duration": 79,
    "start_time": "2023-06-22T05:27:59.609Z"
   },
   {
    "duration": 24,
    "start_time": "2023-06-22T05:27:59.690Z"
   },
   {
    "duration": 24,
    "start_time": "2023-06-22T05:27:59.716Z"
   },
   {
    "duration": 34,
    "start_time": "2023-06-22T05:27:59.742Z"
   },
   {
    "duration": 1195,
    "start_time": "2023-06-22T09:44:38.210Z"
   },
   {
    "duration": 170,
    "start_time": "2023-06-22T09:44:39.408Z"
   },
   {
    "duration": 16,
    "start_time": "2023-06-22T09:44:39.581Z"
   },
   {
    "duration": 223,
    "start_time": "2023-06-22T09:44:39.600Z"
   },
   {
    "duration": 59,
    "start_time": "2023-06-22T09:44:39.825Z"
   },
   {
    "duration": 18,
    "start_time": "2023-06-22T09:44:39.887Z"
   },
   {
    "duration": 77,
    "start_time": "2023-06-22T09:44:39.907Z"
   },
   {
    "duration": 71,
    "start_time": "2023-06-22T09:44:39.986Z"
   },
   {
    "duration": 88,
    "start_time": "2023-06-22T09:44:40.060Z"
   },
   {
    "duration": 16,
    "start_time": "2023-06-22T09:44:40.150Z"
   },
   {
    "duration": 73,
    "start_time": "2023-06-22T09:44:40.167Z"
   },
   {
    "duration": 96,
    "start_time": "2023-06-22T09:44:40.242Z"
   },
   {
    "duration": 46,
    "start_time": "2023-06-22T09:44:40.340Z"
   },
   {
    "duration": 31,
    "start_time": "2023-06-22T09:44:40.388Z"
   },
   {
    "duration": 53,
    "start_time": "2023-06-22T09:44:40.421Z"
   },
   {
    "duration": 16,
    "start_time": "2023-06-22T09:44:40.476Z"
   },
   {
    "duration": 37,
    "start_time": "2023-06-22T09:44:40.494Z"
   },
   {
    "duration": 533,
    "start_time": "2023-06-22T09:44:40.533Z"
   },
   {
    "duration": 247,
    "start_time": "2023-06-22T09:44:41.068Z"
   },
   {
    "duration": 23,
    "start_time": "2023-06-22T09:44:41.316Z"
   },
   {
    "duration": 32,
    "start_time": "2023-06-22T09:44:41.341Z"
   },
   {
    "duration": 28,
    "start_time": "2023-06-22T09:44:41.376Z"
   },
   {
    "duration": 73,
    "start_time": "2023-06-22T09:44:41.406Z"
   },
   {
    "duration": 38,
    "start_time": "2023-06-22T09:44:41.482Z"
   },
   {
    "duration": 89,
    "start_time": "2023-06-22T09:44:41.523Z"
   },
   {
    "duration": 15,
    "start_time": "2023-06-22T09:44:41.614Z"
   },
   {
    "duration": 15,
    "start_time": "2023-06-22T09:44:41.631Z"
   },
   {
    "duration": 25,
    "start_time": "2023-06-22T09:44:41.649Z"
   },
   {
    "duration": 67,
    "start_time": "2023-06-22T09:44:41.676Z"
   },
   {
    "duration": 34,
    "start_time": "2023-06-22T09:44:41.744Z"
   },
   {
    "duration": 127,
    "start_time": "2023-06-22T09:44:41.779Z"
   },
   {
    "duration": 22,
    "start_time": "2023-06-22T09:44:41.907Z"
   },
   {
    "duration": 19,
    "start_time": "2023-06-22T09:44:41.931Z"
   },
   {
    "duration": 27,
    "start_time": "2023-06-22T09:44:41.952Z"
   },
   {
    "duration": 18,
    "start_time": "2023-06-22T09:44:41.980Z"
   },
   {
    "duration": 46,
    "start_time": "2023-06-22T09:44:42.000Z"
   },
   {
    "duration": 21,
    "start_time": "2023-06-22T09:44:42.048Z"
   },
   {
    "duration": 1562,
    "start_time": "2023-06-23T10:15:16.530Z"
   },
   {
    "duration": 4,
    "start_time": "2023-06-23T10:15:32.606Z"
   },
   {
    "duration": 14,
    "start_time": "2023-06-23T11:26:09.566Z"
   },
   {
    "duration": 1329,
    "start_time": "2023-06-23T11:26:18.727Z"
   },
   {
    "duration": 747,
    "start_time": "2023-06-23T11:26:20.059Z"
   },
   {
    "duration": 14,
    "start_time": "2023-06-23T11:26:20.808Z"
   },
   {
    "duration": 51,
    "start_time": "2023-06-23T11:26:20.824Z"
   },
   {
    "duration": 52,
    "start_time": "2023-06-23T11:26:20.877Z"
   },
   {
    "duration": 25,
    "start_time": "2023-06-23T11:26:20.931Z"
   },
   {
    "duration": 105,
    "start_time": "2023-06-23T11:26:20.957Z"
   },
   {
    "duration": 95,
    "start_time": "2023-06-23T11:26:21.064Z"
   },
   {
    "duration": 81,
    "start_time": "2023-06-23T11:26:21.161Z"
   },
   {
    "duration": 27,
    "start_time": "2023-06-23T11:26:21.245Z"
   },
   {
    "duration": 37,
    "start_time": "2023-06-23T11:26:21.274Z"
   },
   {
    "duration": 67,
    "start_time": "2023-06-23T11:26:21.313Z"
   },
   {
    "duration": 28,
    "start_time": "2023-06-23T11:26:21.382Z"
   },
   {
    "duration": 31,
    "start_time": "2023-06-23T11:26:21.412Z"
   },
   {
    "duration": 48,
    "start_time": "2023-06-23T11:26:21.446Z"
   },
   {
    "duration": 15,
    "start_time": "2023-06-23T11:26:21.496Z"
   },
   {
    "duration": 27,
    "start_time": "2023-06-23T11:26:21.513Z"
   },
   {
    "duration": 592,
    "start_time": "2023-06-23T11:26:21.542Z"
   },
   {
    "duration": 259,
    "start_time": "2023-06-23T11:26:22.136Z"
   },
   {
    "duration": 19,
    "start_time": "2023-06-23T11:26:22.397Z"
   },
   {
    "duration": 20,
    "start_time": "2023-06-23T11:26:22.418Z"
   },
   {
    "duration": 99,
    "start_time": "2023-06-23T11:26:22.440Z"
   },
   {
    "duration": 66,
    "start_time": "2023-06-23T11:26:22.541Z"
   },
   {
    "duration": 29,
    "start_time": "2023-06-23T11:26:22.609Z"
   },
   {
    "duration": 73,
    "start_time": "2023-06-23T11:26:22.640Z"
   },
   {
    "duration": 12,
    "start_time": "2023-06-23T11:26:22.715Z"
   },
   {
    "duration": 36,
    "start_time": "2023-06-23T11:26:22.729Z"
   },
   {
    "duration": 22,
    "start_time": "2023-06-23T11:26:22.769Z"
   },
   {
    "duration": 56,
    "start_time": "2023-06-23T11:26:22.793Z"
   },
   {
    "duration": 35,
    "start_time": "2023-06-23T11:26:22.851Z"
   },
   {
    "duration": 127,
    "start_time": "2023-06-23T11:26:22.888Z"
   },
   {
    "duration": 20,
    "start_time": "2023-06-23T11:26:23.017Z"
   },
   {
    "duration": 34,
    "start_time": "2023-06-23T11:26:23.039Z"
   },
   {
    "duration": 35,
    "start_time": "2023-06-23T11:26:23.075Z"
   },
   {
    "duration": 12,
    "start_time": "2023-06-23T11:26:23.112Z"
   },
   {
    "duration": 9,
    "start_time": "2023-06-23T11:26:23.125Z"
   },
   {
    "duration": 43,
    "start_time": "2023-06-23T11:26:23.136Z"
   },
   {
    "duration": 408,
    "start_time": "2023-06-23T11:26:48.931Z"
   },
   {
    "duration": 584,
    "start_time": "2023-06-23T11:27:08.022Z"
   },
   {
    "duration": 464,
    "start_time": "2023-06-23T11:27:18.746Z"
   },
   {
    "duration": 274,
    "start_time": "2023-06-23T11:27:27.210Z"
   },
   {
    "duration": 228,
    "start_time": "2023-06-23T11:27:54.072Z"
   },
   {
    "duration": 224,
    "start_time": "2023-06-23T11:28:00.867Z"
   },
   {
    "duration": 286,
    "start_time": "2023-06-23T11:28:08.849Z"
   },
   {
    "duration": 210,
    "start_time": "2023-06-23T11:28:18.010Z"
   },
   {
    "duration": 322,
    "start_time": "2023-06-23T11:28:26.051Z"
   },
   {
    "duration": 237,
    "start_time": "2023-06-23T11:28:31.626Z"
   },
   {
    "duration": 219,
    "start_time": "2023-06-23T11:28:38.275Z"
   },
   {
    "duration": 234,
    "start_time": "2023-06-23T11:28:47.102Z"
   },
   {
    "duration": 236,
    "start_time": "2023-06-23T11:28:50.814Z"
   },
   {
    "duration": 309,
    "start_time": "2023-06-23T11:28:53.358Z"
   },
   {
    "duration": 200,
    "start_time": "2023-06-23T11:28:55.796Z"
   },
   {
    "duration": 224,
    "start_time": "2023-06-23T11:29:03.119Z"
   },
   {
    "duration": 217,
    "start_time": "2023-06-23T11:29:04.714Z"
   },
   {
    "duration": 5,
    "start_time": "2023-06-23T11:29:33.066Z"
   },
   {
    "duration": 153,
    "start_time": "2023-06-23T11:29:34.350Z"
   },
   {
    "duration": 8,
    "start_time": "2023-06-23T11:29:34.571Z"
   },
   {
    "duration": 4,
    "start_time": "2023-06-23T11:29:36.327Z"
   },
   {
    "duration": 26,
    "start_time": "2023-06-23T11:29:37.335Z"
   },
   {
    "duration": 15,
    "start_time": "2023-06-23T11:29:37.910Z"
   },
   {
    "duration": 54,
    "start_time": "2023-06-23T11:29:38.226Z"
   },
   {
    "duration": 63,
    "start_time": "2023-06-23T11:29:38.446Z"
   },
   {
    "duration": 74,
    "start_time": "2023-06-23T11:29:39.318Z"
   },
   {
    "duration": 15,
    "start_time": "2023-06-23T11:29:39.679Z"
   },
   {
    "duration": 12,
    "start_time": "2023-06-23T11:29:46.710Z"
   },
   {
    "duration": 37,
    "start_time": "2023-06-23T11:29:47.402Z"
   },
   {
    "duration": 22,
    "start_time": "2023-06-23T11:29:50.362Z"
   },
   {
    "duration": 8,
    "start_time": "2023-06-23T11:29:51.259Z"
   },
   {
    "duration": 37,
    "start_time": "2023-06-23T11:29:52.527Z"
   },
   {
    "duration": 19,
    "start_time": "2023-06-23T11:29:53.570Z"
   },
   {
    "duration": 17,
    "start_time": "2023-06-23T11:29:53.965Z"
   },
   {
    "duration": 443,
    "start_time": "2023-06-23T11:29:54.169Z"
   },
   {
    "duration": 308,
    "start_time": "2023-06-23T11:29:58.907Z"
   },
   {
    "duration": 18,
    "start_time": "2023-06-23T11:30:28.007Z"
   },
   {
    "duration": 10,
    "start_time": "2023-06-23T11:34:43.307Z"
   },
   {
    "duration": 6,
    "start_time": "2023-06-23T11:35:00.364Z"
   },
   {
    "duration": 6,
    "start_time": "2023-06-23T11:35:05.162Z"
   },
   {
    "duration": 7,
    "start_time": "2023-06-23T11:35:28.694Z"
   },
   {
    "duration": 6,
    "start_time": "2023-06-23T11:35:55.630Z"
   },
   {
    "duration": 6,
    "start_time": "2023-06-23T11:36:30.358Z"
   },
   {
    "duration": 6,
    "start_time": "2023-06-23T11:36:39.013Z"
   },
   {
    "duration": 5,
    "start_time": "2023-06-23T11:57:27.926Z"
   },
   {
    "duration": 108,
    "start_time": "2023-06-23T11:59:02.382Z"
   },
   {
    "duration": 70,
    "start_time": "2023-06-23T11:59:51.931Z"
   },
   {
    "duration": 68,
    "start_time": "2023-06-23T12:00:14.711Z"
   },
   {
    "duration": 309,
    "start_time": "2023-06-23T12:01:06.935Z"
   },
   {
    "duration": 74,
    "start_time": "2023-06-23T12:01:20.618Z"
   },
   {
    "duration": 72,
    "start_time": "2023-06-23T12:01:56.642Z"
   },
   {
    "duration": 68,
    "start_time": "2023-06-23T12:02:51.238Z"
   },
   {
    "duration": 30,
    "start_time": "2023-06-23T12:06:15.015Z"
   },
   {
    "duration": 12,
    "start_time": "2023-06-23T12:06:28.446Z"
   },
   {
    "duration": 9,
    "start_time": "2023-06-23T12:06:49.744Z"
   },
   {
    "duration": 19,
    "start_time": "2023-06-23T12:08:53.846Z"
   },
   {
    "duration": 10,
    "start_time": "2023-06-23T12:09:11.061Z"
   },
   {
    "duration": 16,
    "start_time": "2023-06-23T12:09:48.822Z"
   },
   {
    "duration": 14,
    "start_time": "2023-06-23T12:09:57.009Z"
   },
   {
    "duration": 12,
    "start_time": "2023-06-23T12:10:36.327Z"
   },
   {
    "duration": 22,
    "start_time": "2023-06-23T12:12:14.149Z"
   },
   {
    "duration": 19,
    "start_time": "2023-06-23T12:13:02.802Z"
   },
   {
    "duration": 24,
    "start_time": "2023-06-23T12:13:40.910Z"
   },
   {
    "duration": 25,
    "start_time": "2023-06-23T12:13:45.813Z"
   },
   {
    "duration": 21,
    "start_time": "2023-06-23T12:15:38.947Z"
   },
   {
    "duration": 8,
    "start_time": "2023-06-23T12:16:24.330Z"
   },
   {
    "duration": 8,
    "start_time": "2023-06-23T12:16:37.843Z"
   },
   {
    "duration": 1222,
    "start_time": "2023-06-23T12:17:09.049Z"
   },
   {
    "duration": 152,
    "start_time": "2023-06-23T12:17:10.273Z"
   },
   {
    "duration": 12,
    "start_time": "2023-06-23T12:17:10.426Z"
   },
   {
    "duration": 3,
    "start_time": "2023-06-23T12:17:10.440Z"
   },
   {
    "duration": 30,
    "start_time": "2023-06-23T12:17:10.444Z"
   },
   {
    "duration": 15,
    "start_time": "2023-06-23T12:17:10.476Z"
   },
   {
    "duration": 90,
    "start_time": "2023-06-23T12:17:10.493Z"
   },
   {
    "duration": 83,
    "start_time": "2023-06-23T12:17:10.585Z"
   },
   {
    "duration": 74,
    "start_time": "2023-06-23T12:17:10.670Z"
   },
   {
    "duration": 23,
    "start_time": "2023-06-23T12:17:10.747Z"
   },
   {
    "duration": 12,
    "start_time": "2023-06-23T12:17:10.772Z"
   },
   {
    "duration": 30,
    "start_time": "2023-06-23T12:17:10.787Z"
   },
   {
    "duration": 54,
    "start_time": "2023-06-23T12:17:10.819Z"
   },
   {
    "duration": 14,
    "start_time": "2023-06-23T12:17:10.874Z"
   },
   {
    "duration": 39,
    "start_time": "2023-06-23T12:17:10.889Z"
   },
   {
    "duration": 36,
    "start_time": "2023-06-23T12:17:10.929Z"
   },
   {
    "duration": 5,
    "start_time": "2023-06-23T12:17:10.966Z"
   },
   {
    "duration": 16,
    "start_time": "2023-06-23T12:17:10.972Z"
   },
   {
    "duration": 28,
    "start_time": "2023-06-23T12:17:10.990Z"
   },
   {
    "duration": 544,
    "start_time": "2023-06-23T12:17:11.019Z"
   },
   {
    "duration": 258,
    "start_time": "2023-06-23T12:17:11.564Z"
   },
   {
    "duration": 17,
    "start_time": "2023-06-23T12:17:11.823Z"
   },
   {
    "duration": 22,
    "start_time": "2023-06-23T12:17:11.842Z"
   },
   {
    "duration": 23,
    "start_time": "2023-06-23T12:17:11.865Z"
   },
   {
    "duration": 6,
    "start_time": "2023-06-23T12:17:11.890Z"
   },
   {
    "duration": 8,
    "start_time": "2023-06-23T12:17:11.898Z"
   },
   {
    "duration": 6,
    "start_time": "2023-06-23T12:17:11.908Z"
   },
   {
    "duration": 61,
    "start_time": "2023-06-23T12:17:11.918Z"
   },
   {
    "duration": 20,
    "start_time": "2023-06-23T12:17:11.981Z"
   },
   {
    "duration": 75,
    "start_time": "2023-06-23T12:17:12.003Z"
   },
   {
    "duration": 10,
    "start_time": "2023-06-23T12:17:12.080Z"
   },
   {
    "duration": 13,
    "start_time": "2023-06-23T12:17:12.092Z"
   },
   {
    "duration": 10,
    "start_time": "2023-06-23T12:17:12.106Z"
   },
   {
    "duration": 64,
    "start_time": "2023-06-23T12:17:12.117Z"
   },
   {
    "duration": 36,
    "start_time": "2023-06-23T12:17:12.183Z"
   },
   {
    "duration": 137,
    "start_time": "2023-06-23T12:17:12.220Z"
   },
   {
    "duration": 20,
    "start_time": "2023-06-23T12:17:12.359Z"
   },
   {
    "duration": 7,
    "start_time": "2023-06-23T12:17:12.381Z"
   },
   {
    "duration": 17,
    "start_time": "2023-06-23T12:17:12.390Z"
   },
   {
    "duration": 9,
    "start_time": "2023-06-23T12:17:12.409Z"
   },
   {
    "duration": 10,
    "start_time": "2023-06-23T12:17:12.419Z"
   },
   {
    "duration": 10,
    "start_time": "2023-06-23T12:17:12.456Z"
   },
   {
    "duration": 284,
    "start_time": "2023-06-23T12:19:32.468Z"
   },
   {
    "duration": 115,
    "start_time": "2023-06-23T12:19:52.621Z"
   },
   {
    "duration": 21,
    "start_time": "2023-06-23T12:20:24.579Z"
   },
   {
    "duration": 21,
    "start_time": "2023-06-23T12:20:35.844Z"
   },
   {
    "duration": 4,
    "start_time": "2023-06-23T12:21:15.938Z"
   },
   {
    "duration": 21,
    "start_time": "2023-06-23T12:21:49.714Z"
   },
   {
    "duration": 27,
    "start_time": "2023-06-23T12:22:18.946Z"
   },
   {
    "duration": 7,
    "start_time": "2023-06-23T12:24:39.822Z"
   },
   {
    "duration": 7,
    "start_time": "2023-06-23T12:24:51.578Z"
   },
   {
    "duration": 6,
    "start_time": "2023-06-23T12:26:07.283Z"
   },
   {
    "duration": 8,
    "start_time": "2023-06-23T12:27:49.626Z"
   },
   {
    "duration": 7,
    "start_time": "2023-06-23T12:27:50.030Z"
   },
   {
    "duration": 3,
    "start_time": "2023-06-23T12:27:50.386Z"
   },
   {
    "duration": 1255,
    "start_time": "2023-06-23T12:27:57.154Z"
   },
   {
    "duration": 160,
    "start_time": "2023-06-23T12:27:58.411Z"
   },
   {
    "duration": 12,
    "start_time": "2023-06-23T12:27:58.573Z"
   },
   {
    "duration": 3,
    "start_time": "2023-06-23T12:27:58.586Z"
   },
   {
    "duration": 32,
    "start_time": "2023-06-23T12:27:58.591Z"
   },
   {
    "duration": 14,
    "start_time": "2023-06-23T12:27:58.625Z"
   },
   {
    "duration": 95,
    "start_time": "2023-06-23T12:27:58.640Z"
   },
   {
    "duration": 72,
    "start_time": "2023-06-23T12:27:58.736Z"
   },
   {
    "duration": 90,
    "start_time": "2023-06-23T12:27:58.810Z"
   },
   {
    "duration": 18,
    "start_time": "2023-06-23T12:27:58.903Z"
   },
   {
    "duration": 35,
    "start_time": "2023-06-23T12:27:58.923Z"
   },
   {
    "duration": 39,
    "start_time": "2023-06-23T12:27:58.960Z"
   },
   {
    "duration": 26,
    "start_time": "2023-06-23T12:27:59.001Z"
   },
   {
    "duration": 32,
    "start_time": "2023-06-23T12:27:59.030Z"
   },
   {
    "duration": 39,
    "start_time": "2023-06-23T12:27:59.064Z"
   },
   {
    "duration": 12,
    "start_time": "2023-06-23T12:27:59.105Z"
   },
   {
    "duration": 11,
    "start_time": "2023-06-23T12:27:59.119Z"
   },
   {
    "duration": 41,
    "start_time": "2023-06-23T12:27:59.132Z"
   },
   {
    "duration": 27,
    "start_time": "2023-06-23T12:27:59.175Z"
   },
   {
    "duration": 512,
    "start_time": "2023-06-23T12:27:59.204Z"
   },
   {
    "duration": 261,
    "start_time": "2023-06-23T12:27:59.718Z"
   },
   {
    "duration": 15,
    "start_time": "2023-06-23T12:27:59.981Z"
   },
   {
    "duration": 9,
    "start_time": "2023-06-23T12:27:59.998Z"
   },
   {
    "duration": 41,
    "start_time": "2023-06-23T12:28:00.009Z"
   },
   {
    "duration": 30,
    "start_time": "2023-06-23T12:28:00.052Z"
   },
   {
    "duration": 25,
    "start_time": "2023-06-23T12:28:00.084Z"
   },
   {
    "duration": 44,
    "start_time": "2023-06-23T12:28:00.111Z"
   },
   {
    "duration": 54,
    "start_time": "2023-06-23T12:28:00.157Z"
   },
   {
    "duration": 70,
    "start_time": "2023-06-23T12:28:00.213Z"
   },
   {
    "duration": 116,
    "start_time": "2023-06-23T12:28:00.285Z"
   },
   {
    "duration": 22,
    "start_time": "2023-06-23T12:28:00.403Z"
   },
   {
    "duration": 53,
    "start_time": "2023-06-23T12:28:00.426Z"
   },
   {
    "duration": 72,
    "start_time": "2023-06-23T12:28:00.481Z"
   },
   {
    "duration": 97,
    "start_time": "2023-06-23T12:28:00.555Z"
   },
   {
    "duration": 83,
    "start_time": "2023-06-23T12:28:00.654Z"
   },
   {
    "duration": 144,
    "start_time": "2023-06-23T12:28:00.739Z"
   },
   {
    "duration": 20,
    "start_time": "2023-06-23T12:28:00.885Z"
   },
   {
    "duration": 45,
    "start_time": "2023-06-23T12:28:00.906Z"
   },
   {
    "duration": 66,
    "start_time": "2023-06-23T12:28:00.953Z"
   },
   {
    "duration": 61,
    "start_time": "2023-06-23T12:28:01.021Z"
   },
   {
    "duration": 39,
    "start_time": "2023-06-23T12:28:01.085Z"
   },
   {
    "duration": 61,
    "start_time": "2023-06-23T12:28:01.126Z"
   },
   {
    "duration": 6,
    "start_time": "2023-06-23T12:29:09.145Z"
   },
   {
    "duration": 4,
    "start_time": "2023-06-23T12:29:31.249Z"
   },
   {
    "duration": 4,
    "start_time": "2023-06-23T12:29:38.518Z"
   },
   {
    "duration": 4,
    "start_time": "2023-06-23T12:29:45.929Z"
   },
   {
    "duration": 20,
    "start_time": "2023-06-23T12:39:19.063Z"
   },
   {
    "duration": 112,
    "start_time": "2023-06-23T12:40:19.008Z"
   },
   {
    "duration": 10,
    "start_time": "2023-06-23T12:40:26.654Z"
   },
   {
    "duration": 1260,
    "start_time": "2023-06-23T12:41:22.141Z"
   },
   {
    "duration": 156,
    "start_time": "2023-06-23T12:41:23.402Z"
   },
   {
    "duration": 12,
    "start_time": "2023-06-23T12:41:23.560Z"
   },
   {
    "duration": 10,
    "start_time": "2023-06-23T12:41:23.574Z"
   },
   {
    "duration": 25,
    "start_time": "2023-06-23T12:41:23.586Z"
   },
   {
    "duration": 13,
    "start_time": "2023-06-23T12:41:23.612Z"
   },
   {
    "duration": 86,
    "start_time": "2023-06-23T12:41:23.627Z"
   },
   {
    "duration": 85,
    "start_time": "2023-06-23T12:41:23.715Z"
   },
   {
    "duration": 82,
    "start_time": "2023-06-23T12:41:23.801Z"
   },
   {
    "duration": 15,
    "start_time": "2023-06-23T12:41:23.885Z"
   },
   {
    "duration": 18,
    "start_time": "2023-06-23T12:41:23.901Z"
   },
   {
    "duration": 43,
    "start_time": "2023-06-23T12:41:23.921Z"
   },
   {
    "duration": 21,
    "start_time": "2023-06-23T12:41:23.966Z"
   },
   {
    "duration": 24,
    "start_time": "2023-06-23T12:41:23.990Z"
   },
   {
    "duration": 54,
    "start_time": "2023-06-23T12:41:24.016Z"
   },
   {
    "duration": 11,
    "start_time": "2023-06-23T12:41:24.072Z"
   },
   {
    "duration": 13,
    "start_time": "2023-06-23T12:41:24.085Z"
   },
   {
    "duration": 14,
    "start_time": "2023-06-23T12:41:24.100Z"
   },
   {
    "duration": 15,
    "start_time": "2023-06-23T12:41:24.116Z"
   },
   {
    "duration": 550,
    "start_time": "2023-06-23T12:41:24.133Z"
   },
   {
    "duration": 262,
    "start_time": "2023-06-23T12:41:24.684Z"
   },
   {
    "duration": 21,
    "start_time": "2023-06-23T12:41:24.948Z"
   },
   {
    "duration": 11,
    "start_time": "2023-06-23T12:41:24.971Z"
   },
   {
    "duration": 7,
    "start_time": "2023-06-23T12:41:24.984Z"
   },
   {
    "duration": 7,
    "start_time": "2023-06-23T12:41:24.993Z"
   },
   {
    "duration": 4,
    "start_time": "2023-06-23T12:41:25.002Z"
   },
   {
    "duration": 10,
    "start_time": "2023-06-23T12:41:25.007Z"
   },
   {
    "duration": 74,
    "start_time": "2023-06-23T12:41:25.018Z"
   },
   {
    "duration": 22,
    "start_time": "2023-06-23T12:41:25.094Z"
   },
   {
    "duration": 79,
    "start_time": "2023-06-23T12:41:25.118Z"
   },
   {
    "duration": 12,
    "start_time": "2023-06-23T12:41:25.198Z"
   },
   {
    "duration": 14,
    "start_time": "2023-06-23T12:41:25.212Z"
   },
   {
    "duration": 28,
    "start_time": "2023-06-23T12:41:25.228Z"
   },
   {
    "duration": 66,
    "start_time": "2023-06-23T12:41:25.258Z"
   },
   {
    "duration": 36,
    "start_time": "2023-06-23T12:41:25.326Z"
   },
   {
    "duration": 121,
    "start_time": "2023-06-23T12:41:25.364Z"
   },
   {
    "duration": 23,
    "start_time": "2023-06-23T12:41:25.487Z"
   },
   {
    "duration": 15,
    "start_time": "2023-06-23T12:41:25.511Z"
   },
   {
    "duration": 16,
    "start_time": "2023-06-23T12:41:25.528Z"
   },
   {
    "duration": 10,
    "start_time": "2023-06-23T12:41:25.556Z"
   },
   {
    "duration": 13,
    "start_time": "2023-06-23T12:41:25.570Z"
   },
   {
    "duration": 19,
    "start_time": "2023-06-23T12:41:25.585Z"
   },
   {
    "duration": 6,
    "start_time": "2023-06-23T13:28:28.729Z"
   },
   {
    "duration": 128,
    "start_time": "2023-06-24T04:31:44.240Z"
   },
   {
    "duration": 128,
    "start_time": "2023-06-24T04:31:51.118Z"
   },
   {
    "duration": 299,
    "start_time": "2023-06-24T04:31:59.277Z"
   },
   {
    "duration": 70,
    "start_time": "2023-06-24T04:33:00.893Z"
   },
   {
    "duration": 8,
    "start_time": "2023-06-24T04:33:25.597Z"
   },
   {
    "duration": 1416,
    "start_time": "2023-06-24T04:33:42.048Z"
   },
   {
    "duration": 704,
    "start_time": "2023-06-24T04:33:43.466Z"
   },
   {
    "duration": 10,
    "start_time": "2023-06-24T04:33:44.172Z"
   },
   {
    "duration": 2,
    "start_time": "2023-06-24T04:33:44.184Z"
   },
   {
    "duration": 29,
    "start_time": "2023-06-24T04:33:44.188Z"
   },
   {
    "duration": 18,
    "start_time": "2023-06-24T04:33:44.219Z"
   },
   {
    "duration": 82,
    "start_time": "2023-06-24T04:33:44.238Z"
   },
   {
    "duration": 71,
    "start_time": "2023-06-24T04:33:44.322Z"
   },
   {
    "duration": 80,
    "start_time": "2023-06-24T04:33:44.395Z"
   },
   {
    "duration": 12,
    "start_time": "2023-06-24T04:33:44.478Z"
   },
   {
    "duration": 24,
    "start_time": "2023-06-24T04:33:44.491Z"
   },
   {
    "duration": 56,
    "start_time": "2023-06-24T04:33:44.517Z"
   },
   {
    "duration": 18,
    "start_time": "2023-06-24T04:33:44.574Z"
   },
   {
    "duration": 48,
    "start_time": "2023-06-24T04:33:44.594Z"
   },
   {
    "duration": 45,
    "start_time": "2023-06-24T04:33:44.643Z"
   },
   {
    "duration": 15,
    "start_time": "2023-06-24T04:33:44.690Z"
   },
   {
    "duration": 39,
    "start_time": "2023-06-24T04:33:44.706Z"
   },
   {
    "duration": 16,
    "start_time": "2023-06-24T04:33:44.746Z"
   },
   {
    "duration": 21,
    "start_time": "2023-06-24T04:33:44.763Z"
   },
   {
    "duration": 660,
    "start_time": "2023-06-24T04:33:44.786Z"
   },
   {
    "duration": 244,
    "start_time": "2023-06-24T04:33:45.450Z"
   },
   {
    "duration": 23,
    "start_time": "2023-06-24T04:33:45.696Z"
   },
   {
    "duration": 63,
    "start_time": "2023-06-24T04:33:45.721Z"
   },
   {
    "duration": 5,
    "start_time": "2023-06-24T04:33:45.786Z"
   },
   {
    "duration": 6,
    "start_time": "2023-06-24T04:33:45.793Z"
   },
   {
    "duration": 40,
    "start_time": "2023-06-24T04:33:45.806Z"
   },
   {
    "duration": 11,
    "start_time": "2023-06-24T04:33:45.847Z"
   },
   {
    "duration": 33,
    "start_time": "2023-06-24T04:33:45.861Z"
   },
   {
    "duration": 37,
    "start_time": "2023-06-24T04:33:45.895Z"
   },
   {
    "duration": 103,
    "start_time": "2023-06-24T04:33:45.934Z"
   },
   {
    "duration": 14,
    "start_time": "2023-06-24T04:33:46.040Z"
   },
   {
    "duration": 15,
    "start_time": "2023-06-24T04:33:46.057Z"
   },
   {
    "duration": 150,
    "start_time": "2023-06-24T04:33:46.074Z"
   },
   {
    "duration": 0,
    "start_time": "2023-06-24T04:33:46.226Z"
   },
   {
    "duration": 0,
    "start_time": "2023-06-24T04:33:46.227Z"
   },
   {
    "duration": 0,
    "start_time": "2023-06-24T04:33:46.228Z"
   },
   {
    "duration": 0,
    "start_time": "2023-06-24T04:33:46.228Z"
   },
   {
    "duration": 0,
    "start_time": "2023-06-24T04:33:46.229Z"
   },
   {
    "duration": 0,
    "start_time": "2023-06-24T04:33:46.230Z"
   },
   {
    "duration": 0,
    "start_time": "2023-06-24T04:33:46.232Z"
   },
   {
    "duration": 0,
    "start_time": "2023-06-24T04:33:46.233Z"
   },
   {
    "duration": 0,
    "start_time": "2023-06-24T04:33:46.234Z"
   },
   {
    "duration": 0,
    "start_time": "2023-06-24T04:33:46.235Z"
   },
   {
    "duration": 4,
    "start_time": "2023-06-24T04:34:57.278Z"
   },
   {
    "duration": 9,
    "start_time": "2023-06-24T04:35:13.093Z"
   },
   {
    "duration": 8,
    "start_time": "2023-06-24T04:35:43.982Z"
   },
   {
    "duration": 6,
    "start_time": "2023-06-24T04:35:49.171Z"
   },
   {
    "duration": 14,
    "start_time": "2023-06-24T04:36:01.796Z"
   },
   {
    "duration": 8,
    "start_time": "2023-06-24T04:36:05.830Z"
   },
   {
    "duration": 12,
    "start_time": "2023-06-24T04:36:15.348Z"
   },
   {
    "duration": 9,
    "start_time": "2023-06-24T04:36:21.438Z"
   },
   {
    "duration": 12,
    "start_time": "2023-06-24T04:36:58.726Z"
   },
   {
    "duration": 7,
    "start_time": "2023-06-24T04:37:14.718Z"
   },
   {
    "duration": 10,
    "start_time": "2023-06-24T04:37:40.582Z"
   },
   {
    "duration": 10,
    "start_time": "2023-06-24T04:37:56.484Z"
   },
   {
    "duration": 7,
    "start_time": "2023-06-24T04:38:08.597Z"
   },
   {
    "duration": 8,
    "start_time": "2023-06-24T04:41:58.941Z"
   },
   {
    "duration": 11,
    "start_time": "2023-06-24T04:42:11.738Z"
   },
   {
    "duration": 21,
    "start_time": "2023-06-24T04:42:15.144Z"
   },
   {
    "duration": 10,
    "start_time": "2023-06-24T04:42:23.720Z"
   },
   {
    "duration": 8,
    "start_time": "2023-06-24T05:01:39.467Z"
   },
   {
    "duration": 8,
    "start_time": "2023-06-24T05:01:58.987Z"
   },
   {
    "duration": 9,
    "start_time": "2023-06-24T05:02:06.769Z"
   },
   {
    "duration": 9,
    "start_time": "2023-06-24T05:03:22.520Z"
   },
   {
    "duration": 8,
    "start_time": "2023-06-24T05:03:29.257Z"
   },
   {
    "duration": 9,
    "start_time": "2023-06-24T05:08:27.423Z"
   },
   {
    "duration": 9,
    "start_time": "2023-06-24T05:12:27.481Z"
   },
   {
    "duration": 4,
    "start_time": "2023-06-24T05:21:15.658Z"
   },
   {
    "duration": 44,
    "start_time": "2023-06-24T05:21:18.756Z"
   },
   {
    "duration": 35,
    "start_time": "2023-06-24T05:21:19.450Z"
   },
   {
    "duration": 43,
    "start_time": "2023-06-24T05:26:28.229Z"
   },
   {
    "duration": 127,
    "start_time": "2023-06-24T05:26:30.421Z"
   },
   {
    "duration": 31,
    "start_time": "2023-06-24T05:26:31.015Z"
   },
   {
    "duration": 6,
    "start_time": "2023-06-24T05:26:34.229Z"
   },
   {
    "duration": 8,
    "start_time": "2023-06-24T05:26:35.682Z"
   },
   {
    "duration": 8,
    "start_time": "2023-06-24T05:26:38.883Z"
   },
   {
    "duration": 11,
    "start_time": "2023-06-24T05:26:39.987Z"
   },
   {
    "duration": 9,
    "start_time": "2023-06-24T05:26:40.933Z"
   },
   {
    "duration": 7,
    "start_time": "2023-06-24T05:32:26.339Z"
   },
   {
    "duration": 9,
    "start_time": "2023-06-24T05:33:38.691Z"
   },
   {
    "duration": 8,
    "start_time": "2023-06-24T05:37:15.417Z"
   },
   {
    "duration": 10,
    "start_time": "2023-06-24T05:38:51.611Z"
   },
   {
    "duration": 8,
    "start_time": "2023-06-24T05:40:07.882Z"
   },
   {
    "duration": 9,
    "start_time": "2023-06-24T05:40:30.890Z"
   },
   {
    "duration": 8,
    "start_time": "2023-06-24T05:40:37.859Z"
   },
   {
    "duration": 9,
    "start_time": "2023-06-24T05:49:03.415Z"
   },
   {
    "duration": 10,
    "start_time": "2023-06-24T05:49:36.716Z"
   },
   {
    "duration": 8,
    "start_time": "2023-06-24T05:50:02.992Z"
   },
   {
    "duration": 8,
    "start_time": "2023-06-24T05:50:26.489Z"
   },
   {
    "duration": 1126,
    "start_time": "2023-06-24T05:54:16.219Z"
   },
   {
    "duration": 158,
    "start_time": "2023-06-24T05:54:17.348Z"
   },
   {
    "duration": 16,
    "start_time": "2023-06-24T05:54:17.508Z"
   },
   {
    "duration": 10,
    "start_time": "2023-06-24T05:54:17.526Z"
   },
   {
    "duration": 35,
    "start_time": "2023-06-24T05:54:17.539Z"
   },
   {
    "duration": 42,
    "start_time": "2023-06-24T05:54:17.576Z"
   },
   {
    "duration": 89,
    "start_time": "2023-06-24T05:54:17.620Z"
   },
   {
    "duration": 72,
    "start_time": "2023-06-24T05:54:17.711Z"
   },
   {
    "duration": 84,
    "start_time": "2023-06-24T05:54:17.784Z"
   },
   {
    "duration": 12,
    "start_time": "2023-06-24T05:54:17.869Z"
   },
   {
    "duration": 16,
    "start_time": "2023-06-24T05:54:17.883Z"
   },
   {
    "duration": 60,
    "start_time": "2023-06-24T05:54:17.902Z"
   },
   {
    "duration": 19,
    "start_time": "2023-06-24T05:54:17.964Z"
   },
   {
    "duration": 39,
    "start_time": "2023-06-24T05:54:17.986Z"
   },
   {
    "duration": 34,
    "start_time": "2023-06-24T05:54:18.026Z"
   },
   {
    "duration": 10,
    "start_time": "2023-06-24T05:54:18.064Z"
   },
   {
    "duration": 5,
    "start_time": "2023-06-24T05:54:18.075Z"
   },
   {
    "duration": 64,
    "start_time": "2023-06-24T05:54:18.081Z"
   },
   {
    "duration": 20,
    "start_time": "2023-06-24T05:54:18.147Z"
   },
   {
    "duration": 557,
    "start_time": "2023-06-24T05:54:18.169Z"
   },
   {
    "duration": 247,
    "start_time": "2023-06-24T05:54:18.727Z"
   },
   {
    "duration": 15,
    "start_time": "2023-06-24T05:54:18.975Z"
   },
   {
    "duration": 19,
    "start_time": "2023-06-24T05:54:18.999Z"
   },
   {
    "duration": 17,
    "start_time": "2023-06-24T05:54:19.020Z"
   },
   {
    "duration": 6,
    "start_time": "2023-06-24T05:54:19.040Z"
   },
   {
    "duration": 5,
    "start_time": "2023-06-24T05:54:19.047Z"
   },
   {
    "duration": 10,
    "start_time": "2023-06-24T05:54:19.053Z"
   },
   {
    "duration": 44,
    "start_time": "2023-06-24T05:54:19.064Z"
   },
   {
    "duration": 31,
    "start_time": "2023-06-24T05:54:19.110Z"
   },
   {
    "duration": 78,
    "start_time": "2023-06-24T05:54:19.142Z"
   },
   {
    "duration": 11,
    "start_time": "2023-06-24T05:54:19.222Z"
   },
   {
    "duration": 19,
    "start_time": "2023-06-24T05:54:19.235Z"
   },
   {
    "duration": 12,
    "start_time": "2023-06-24T05:54:19.256Z"
   },
   {
    "duration": 35,
    "start_time": "2023-06-24T05:54:19.269Z"
   },
   {
    "duration": 56,
    "start_time": "2023-06-24T05:54:19.306Z"
   },
   {
    "duration": 43,
    "start_time": "2023-06-24T05:54:19.364Z"
   },
   {
    "duration": 138,
    "start_time": "2023-06-24T05:54:19.408Z"
   },
   {
    "duration": 32,
    "start_time": "2023-06-24T05:54:19.548Z"
   },
   {
    "duration": 36,
    "start_time": "2023-06-24T05:54:19.581Z"
   },
   {
    "duration": 30,
    "start_time": "2023-06-24T05:54:19.619Z"
   },
   {
    "duration": 18,
    "start_time": "2023-06-24T05:54:19.653Z"
   },
   {
    "duration": 13,
    "start_time": "2023-06-24T05:54:19.673Z"
   },
   {
    "duration": 9,
    "start_time": "2023-06-24T05:54:19.688Z"
   },
   {
    "duration": 31,
    "start_time": "2023-06-24T05:54:19.699Z"
   },
   {
    "duration": 11,
    "start_time": "2023-06-24T05:54:19.732Z"
   },
   {
    "duration": 11,
    "start_time": "2023-06-24T05:54:19.745Z"
   },
   {
    "duration": 21,
    "start_time": "2023-06-24T05:54:19.758Z"
   },
   {
    "duration": 120,
    "start_time": "2023-06-24T08:28:07.020Z"
   },
   {
    "duration": 10,
    "start_time": "2023-06-24T09:34:12.236Z"
   },
   {
    "duration": 47,
    "start_time": "2023-06-24T09:34:26.228Z"
   },
   {
    "duration": 6,
    "start_time": "2023-06-24T10:16:01.064Z"
   },
   {
    "duration": 150,
    "start_time": "2023-06-24T10:22:04.566Z"
   },
   {
    "duration": 5,
    "start_time": "2023-06-24T10:22:13.342Z"
   },
   {
    "duration": 9,
    "start_time": "2023-06-24T10:23:27.998Z"
   },
   {
    "duration": 1116,
    "start_time": "2023-06-24T10:23:56.390Z"
   },
   {
    "duration": 155,
    "start_time": "2023-06-24T10:23:57.508Z"
   },
   {
    "duration": 12,
    "start_time": "2023-06-24T10:23:57.664Z"
   },
   {
    "duration": 3,
    "start_time": "2023-06-24T10:23:57.677Z"
   },
   {
    "duration": 32,
    "start_time": "2023-06-24T10:23:57.681Z"
   },
   {
    "duration": 13,
    "start_time": "2023-06-24T10:23:57.714Z"
   },
   {
    "duration": 73,
    "start_time": "2023-06-24T10:23:57.729Z"
   },
   {
    "duration": 67,
    "start_time": "2023-06-24T10:23:57.804Z"
   },
   {
    "duration": 77,
    "start_time": "2023-06-24T10:23:57.873Z"
   },
   {
    "duration": 14,
    "start_time": "2023-06-24T10:23:57.953Z"
   },
   {
    "duration": 44,
    "start_time": "2023-06-24T10:23:57.968Z"
   },
   {
    "duration": 40,
    "start_time": "2023-06-24T10:23:58.014Z"
   },
   {
    "duration": 21,
    "start_time": "2023-06-24T10:23:58.056Z"
   },
   {
    "duration": 14,
    "start_time": "2023-06-24T10:23:58.079Z"
   },
   {
    "duration": 39,
    "start_time": "2023-06-24T10:23:58.095Z"
   },
   {
    "duration": 12,
    "start_time": "2023-06-24T10:23:58.135Z"
   },
   {
    "duration": 31,
    "start_time": "2023-06-24T10:23:58.148Z"
   },
   {
    "duration": 36,
    "start_time": "2023-06-24T10:23:58.181Z"
   },
   {
    "duration": 20,
    "start_time": "2023-06-24T10:23:58.218Z"
   },
   {
    "duration": 519,
    "start_time": "2023-06-24T10:23:58.240Z"
   },
   {
    "duration": 241,
    "start_time": "2023-06-24T10:23:58.761Z"
   },
   {
    "duration": 15,
    "start_time": "2023-06-24T10:23:59.004Z"
   },
   {
    "duration": 16,
    "start_time": "2023-06-24T10:23:59.021Z"
   },
   {
    "duration": 6,
    "start_time": "2023-06-24T10:23:59.039Z"
   },
   {
    "duration": 17,
    "start_time": "2023-06-24T10:23:59.047Z"
   },
   {
    "duration": 5,
    "start_time": "2023-06-24T10:23:59.065Z"
   },
   {
    "duration": 21,
    "start_time": "2023-06-24T10:23:59.071Z"
   },
   {
    "duration": 42,
    "start_time": "2023-06-24T10:23:59.095Z"
   },
   {
    "duration": 20,
    "start_time": "2023-06-24T10:23:59.139Z"
   },
   {
    "duration": 78,
    "start_time": "2023-06-24T10:23:59.161Z"
   },
   {
    "duration": 10,
    "start_time": "2023-06-24T10:23:59.241Z"
   },
   {
    "duration": 30,
    "start_time": "2023-06-24T10:23:59.252Z"
   },
   {
    "duration": 22,
    "start_time": "2023-06-24T10:23:59.283Z"
   },
   {
    "duration": 6,
    "start_time": "2023-06-24T10:23:59.307Z"
   },
   {
    "duration": 60,
    "start_time": "2023-06-24T10:23:59.314Z"
   },
   {
    "duration": 33,
    "start_time": "2023-06-24T10:23:59.376Z"
   },
   {
    "duration": 8,
    "start_time": "2023-06-24T10:23:59.411Z"
   },
   {
    "duration": 143,
    "start_time": "2023-06-24T10:23:59.420Z"
   },
   {
    "duration": 21,
    "start_time": "2023-06-24T10:23:59.564Z"
   },
   {
    "duration": 18,
    "start_time": "2023-06-24T10:23:59.587Z"
   },
   {
    "duration": 29,
    "start_time": "2023-06-24T10:23:59.607Z"
   },
   {
    "duration": 23,
    "start_time": "2023-06-24T10:23:59.638Z"
   },
   {
    "duration": 20,
    "start_time": "2023-06-24T10:23:59.662Z"
   },
   {
    "duration": 15,
    "start_time": "2023-06-24T10:23:59.683Z"
   },
   {
    "duration": 19,
    "start_time": "2023-06-24T10:23:59.700Z"
   },
   {
    "duration": 15,
    "start_time": "2023-06-24T10:23:59.720Z"
   },
   {
    "duration": 16,
    "start_time": "2023-06-24T10:23:59.736Z"
   },
   {
    "duration": 16,
    "start_time": "2023-06-24T10:23:59.753Z"
   },
   {
    "duration": 49,
    "start_time": "2023-06-25T10:44:31.478Z"
   },
   {
    "duration": 1280,
    "start_time": "2023-06-25T10:44:44.870Z"
   },
   {
    "duration": 743,
    "start_time": "2023-06-25T10:44:46.153Z"
   },
   {
    "duration": 13,
    "start_time": "2023-06-25T10:44:46.897Z"
   },
   {
    "duration": 15,
    "start_time": "2023-06-25T10:44:46.911Z"
   },
   {
    "duration": 41,
    "start_time": "2023-06-25T10:44:46.929Z"
   },
   {
    "duration": 14,
    "start_time": "2023-06-25T10:44:46.971Z"
   },
   {
    "duration": 77,
    "start_time": "2023-06-25T10:44:46.986Z"
   },
   {
    "duration": 102,
    "start_time": "2023-06-25T10:44:47.065Z"
   },
   {
    "duration": 87,
    "start_time": "2023-06-25T10:44:47.169Z"
   },
   {
    "duration": 16,
    "start_time": "2023-06-25T10:44:47.257Z"
   },
   {
    "duration": 96,
    "start_time": "2023-06-25T10:44:47.275Z"
   },
   {
    "duration": 32,
    "start_time": "2023-06-25T10:44:47.373Z"
   },
   {
    "duration": 34,
    "start_time": "2023-06-25T10:44:47.408Z"
   },
   {
    "duration": 44,
    "start_time": "2023-06-25T10:44:47.444Z"
   },
   {
    "duration": 50,
    "start_time": "2023-06-25T10:44:47.490Z"
   },
   {
    "duration": 14,
    "start_time": "2023-06-25T10:44:47.542Z"
   },
   {
    "duration": 22,
    "start_time": "2023-06-25T10:44:47.558Z"
   },
   {
    "duration": 40,
    "start_time": "2023-06-25T10:44:47.583Z"
   },
   {
    "duration": 27,
    "start_time": "2023-06-25T10:44:47.625Z"
   },
   {
    "duration": 629,
    "start_time": "2023-06-25T10:44:47.655Z"
   },
   {
    "duration": 267,
    "start_time": "2023-06-25T10:44:48.286Z"
   },
   {
    "duration": 17,
    "start_time": "2023-06-25T10:44:48.555Z"
   },
   {
    "duration": 11,
    "start_time": "2023-06-25T10:44:48.574Z"
   },
   {
    "duration": 37,
    "start_time": "2023-06-25T10:44:48.587Z"
   },
   {
    "duration": 7,
    "start_time": "2023-06-25T10:44:48.626Z"
   },
   {
    "duration": 9,
    "start_time": "2023-06-25T10:44:48.635Z"
   },
   {
    "duration": 108,
    "start_time": "2023-06-25T10:44:48.646Z"
   },
   {
    "duration": 56,
    "start_time": "2023-06-25T10:44:48.756Z"
   },
   {
    "duration": 29,
    "start_time": "2023-06-25T10:44:48.814Z"
   },
   {
    "duration": 113,
    "start_time": "2023-06-25T10:44:48.845Z"
   },
   {
    "duration": 16,
    "start_time": "2023-06-25T10:44:48.961Z"
   },
   {
    "duration": 36,
    "start_time": "2023-06-25T10:44:48.979Z"
   },
   {
    "duration": 14,
    "start_time": "2023-06-25T10:44:49.017Z"
   },
   {
    "duration": 31,
    "start_time": "2023-06-25T10:44:49.033Z"
   },
   {
    "duration": 72,
    "start_time": "2023-06-25T10:44:49.066Z"
   },
   {
    "duration": 49,
    "start_time": "2023-06-25T10:44:49.140Z"
   },
   {
    "duration": 24,
    "start_time": "2023-06-25T10:44:49.191Z"
   },
   {
    "duration": 127,
    "start_time": "2023-06-25T10:44:49.217Z"
   },
   {
    "duration": 20,
    "start_time": "2023-06-25T10:44:49.346Z"
   },
   {
    "duration": 5,
    "start_time": "2023-06-25T10:44:49.368Z"
   },
   {
    "duration": 32,
    "start_time": "2023-06-25T10:44:49.377Z"
   },
   {
    "duration": 15,
    "start_time": "2023-06-25T10:44:49.410Z"
   },
   {
    "duration": 10,
    "start_time": "2023-06-25T10:44:49.427Z"
   },
   {
    "duration": 12,
    "start_time": "2023-06-25T10:44:49.439Z"
   },
   {
    "duration": 11,
    "start_time": "2023-06-25T10:44:49.453Z"
   },
   {
    "duration": 15,
    "start_time": "2023-06-25T10:44:49.466Z"
   },
   {
    "duration": 10,
    "start_time": "2023-06-25T10:44:49.513Z"
   },
   {
    "duration": 28,
    "start_time": "2023-06-25T10:44:49.524Z"
   },
   {
    "duration": 12,
    "start_time": "2023-06-25T10:48:33.125Z"
   },
   {
    "duration": 9,
    "start_time": "2023-06-25T10:48:39.125Z"
   },
   {
    "duration": 9,
    "start_time": "2023-06-25T10:48:44.824Z"
   },
   {
    "duration": 13,
    "start_time": "2023-06-25T11:07:58.116Z"
   },
   {
    "duration": 14,
    "start_time": "2023-06-25T11:08:03.526Z"
   },
   {
    "duration": 10,
    "start_time": "2023-06-25T11:08:07.518Z"
   },
   {
    "duration": 3,
    "start_time": "2023-06-25T11:13:13.524Z"
   },
   {
    "duration": 13,
    "start_time": "2023-06-25T11:14:59.062Z"
   },
   {
    "duration": 10,
    "start_time": "2023-06-25T11:20:39.576Z"
   },
   {
    "duration": 13,
    "start_time": "2023-06-25T11:21:09.746Z"
   },
   {
    "duration": 14,
    "start_time": "2023-06-25T11:21:15.377Z"
   },
   {
    "duration": 12,
    "start_time": "2023-06-25T11:21:20.205Z"
   },
   {
    "duration": 1187,
    "start_time": "2023-06-25T11:59:42.041Z"
   },
   {
    "duration": 159,
    "start_time": "2023-06-25T11:59:43.230Z"
   },
   {
    "duration": 12,
    "start_time": "2023-06-25T11:59:43.391Z"
   },
   {
    "duration": 6,
    "start_time": "2023-06-25T11:59:43.413Z"
   },
   {
    "duration": 22,
    "start_time": "2023-06-25T11:59:43.421Z"
   },
   {
    "duration": 16,
    "start_time": "2023-06-25T11:59:43.445Z"
   },
   {
    "duration": 102,
    "start_time": "2023-06-25T11:59:43.463Z"
   },
   {
    "duration": 89,
    "start_time": "2023-06-25T11:59:43.567Z"
   },
   {
    "duration": 84,
    "start_time": "2023-06-25T11:59:43.658Z"
   },
   {
    "duration": 16,
    "start_time": "2023-06-25T11:59:43.744Z"
   },
   {
    "duration": 52,
    "start_time": "2023-06-25T11:59:43.762Z"
   },
   {
    "duration": 68,
    "start_time": "2023-06-25T11:59:43.816Z"
   },
   {
    "duration": 36,
    "start_time": "2023-06-25T11:59:43.886Z"
   },
   {
    "duration": 24,
    "start_time": "2023-06-25T11:59:43.927Z"
   },
   {
    "duration": 42,
    "start_time": "2023-06-25T11:59:43.953Z"
   },
   {
    "duration": 30,
    "start_time": "2023-06-25T11:59:43.996Z"
   },
   {
    "duration": 16,
    "start_time": "2023-06-25T11:59:44.028Z"
   },
   {
    "duration": 25,
    "start_time": "2023-06-25T11:59:44.046Z"
   },
   {
    "duration": 20,
    "start_time": "2023-06-25T11:59:44.073Z"
   },
   {
    "duration": 518,
    "start_time": "2023-06-25T11:59:44.095Z"
   },
   {
    "duration": 280,
    "start_time": "2023-06-25T11:59:44.616Z"
   },
   {
    "duration": 26,
    "start_time": "2023-06-25T11:59:44.898Z"
   },
   {
    "duration": 10,
    "start_time": "2023-06-25T11:59:44.926Z"
   },
   {
    "duration": 6,
    "start_time": "2023-06-25T11:59:44.938Z"
   },
   {
    "duration": 8,
    "start_time": "2023-06-25T11:59:44.947Z"
   },
   {
    "duration": 50,
    "start_time": "2023-06-25T11:59:44.956Z"
   },
   {
    "duration": 93,
    "start_time": "2023-06-25T11:59:45.009Z"
   },
   {
    "duration": 56,
    "start_time": "2023-06-25T11:59:45.104Z"
   },
   {
    "duration": 30,
    "start_time": "2023-06-25T11:59:45.163Z"
   },
   {
    "duration": 78,
    "start_time": "2023-06-25T11:59:45.195Z"
   },
   {
    "duration": 11,
    "start_time": "2023-06-25T11:59:45.275Z"
   },
   {
    "duration": 28,
    "start_time": "2023-06-25T11:59:45.288Z"
   },
   {
    "duration": 25,
    "start_time": "2023-06-25T11:59:45.318Z"
   },
   {
    "duration": 28,
    "start_time": "2023-06-25T11:59:45.344Z"
   },
   {
    "duration": 106,
    "start_time": "2023-06-25T11:59:45.373Z"
   },
   {
    "duration": 61,
    "start_time": "2023-06-25T11:59:45.481Z"
   },
   {
    "duration": 12,
    "start_time": "2023-06-25T11:59:45.544Z"
   },
   {
    "duration": 148,
    "start_time": "2023-06-25T11:59:45.558Z"
   },
   {
    "duration": 24,
    "start_time": "2023-06-25T11:59:45.707Z"
   },
   {
    "duration": 7,
    "start_time": "2023-06-25T11:59:45.733Z"
   },
   {
    "duration": 32,
    "start_time": "2023-06-25T11:59:45.743Z"
   },
   {
    "duration": 9,
    "start_time": "2023-06-25T11:59:45.777Z"
   },
   {
    "duration": 29,
    "start_time": "2023-06-25T11:59:45.788Z"
   },
   {
    "duration": 19,
    "start_time": "2023-06-25T11:59:45.819Z"
   },
   {
    "duration": 30,
    "start_time": "2023-06-25T11:59:45.840Z"
   },
   {
    "duration": 40,
    "start_time": "2023-06-25T11:59:45.872Z"
   },
   {
    "duration": 18,
    "start_time": "2023-06-25T11:59:45.914Z"
   },
   {
    "duration": 62,
    "start_time": "2023-06-25T11:59:45.933Z"
   }
  ],
  "kernelspec": {
   "display_name": "Python 3 (ipykernel)",
   "language": "python",
   "name": "python3"
  },
  "language_info": {
   "codemirror_mode": {
    "name": "ipython",
    "version": 3
   },
   "file_extension": ".py",
   "mimetype": "text/x-python",
   "name": "python",
   "nbconvert_exporter": "python",
   "pygments_lexer": "ipython3",
   "version": "3.9.13"
  },
  "toc": {
   "base_numbering": 1,
   "nav_menu": {},
   "number_sections": true,
   "sideBar": true,
   "skip_h1_title": true,
   "title_cell": "Table of Contents",
   "title_sidebar": "Contents",
   "toc_cell": false,
   "toc_position": {},
   "toc_section_display": true,
   "toc_window_display": false
  }
 },
 "nbformat": 4,
 "nbformat_minor": 2
}
