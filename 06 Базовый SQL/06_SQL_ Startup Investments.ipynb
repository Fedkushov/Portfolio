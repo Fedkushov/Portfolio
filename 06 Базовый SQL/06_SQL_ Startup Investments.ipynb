{
 "cells": [
  {
   "cell_type": "markdown",
   "id": "e7dfb797",
   "metadata": {},
   "source": [
    "# Исследование данных об инвестиции венчурных фондов в компании-стартапы\n",
    "\n",
    "## Данные\n",
    "\n",
    "Самостоятельная работа основана на базе данных, которая хранит информацию о венчурных фондах и инвестициях в компании-стартапы, и основана на датасете Startup Investments https://www.kaggle.com/justinas/startup-investments.\n",
    "\n",
    "## Цель\n",
    "\n",
    "Проанализировать данные о фондах и инвестициях, произвести выгрузки данных и ответить на поставленные вопросы с помощью SQL.\n",
    "\n",
    "## Задания\n",
    "\n",
    "\n",
    "### Задание 1\n",
    "Посчитайте, сколько компаний закрылось.\n"
   ]
  },
  {
   "cell_type": "code",
   "execution_count": null,
   "id": "b94affd3",
   "metadata": {},
   "outputs": [],
   "source": [
    "'''\n",
    "SELECT COUNT(name)\n",
    "FROM company\n",
    "WHERE status ='closed';\n",
    "'''"
   ]
  },
  {
   "cell_type": "markdown",
   "id": "a8f6be8b",
   "metadata": {},
   "source": [
    "### Задание 2\n",
    "Отобразите количество привлечённых средств для новостных компаний США.\n",
    "Используйте данные из таблицы company. Отсортируйте таблицу по убыванию значений в поле funding_total.\n",
    "\n"
   ]
  },
  {
   "cell_type": "code",
   "execution_count": null,
   "id": "702093b1",
   "metadata": {},
   "outputs": [],
   "source": [
    "'''\n",
    "SELECT SUM(funding_total) AS S\n",
    "FROM company\n",
    "WHERE country_code = 'USA'\n",
    "AND category_code = 'news'\n",
    "GROUP BY name \n",
    "ORDER BY S DESC;\n",
    "'''"
   ]
  },
  {
   "cell_type": "markdown",
   "id": "81e05df1",
   "metadata": {},
   "source": [
    "### Задание 3\n",
    "Найдите общую сумму сделок по покупке одних компаний другими в долларах. Отберите сделки, которые осуществлялись только за наличные с 2011 по 2013 год включительно.\n",
    "\n"
   ]
  },
  {
   "cell_type": "code",
   "execution_count": null,
   "id": "0f111021",
   "metadata": {},
   "outputs": [],
   "source": [
    "'''\n",
    "SELECT SUM(price_amount)\n",
    "FROM acquisition\n",
    "WHERE EXTRACT(YEAR FROM acquired_at::DATE) IN (2011,2012,2013)\n",
    "AND term_code = 'cash';  \n",
    "'''"
   ]
  },
  {
   "cell_type": "markdown",
   "id": "cf0bd78d",
   "metadata": {},
   "source": [
    "### Задание 4\n",
    "Отобразите имя, фамилию и названия аккаунтов людей в твиттере, у которых названия аккаунтов начинаются на 'Silver'.\n",
    "\n"
   ]
  },
  {
   "cell_type": "code",
   "execution_count": null,
   "id": "a16e6be9",
   "metadata": {},
   "outputs": [],
   "source": [
    "'''\n",
    "SELECT first_name,\n",
    "       last_name,\n",
    "       twitter_username\n",
    "FROM people\n",
    "WHERE twitter_username LIKE 'Silver%';\n",
    "'''"
   ]
  },
  {
   "cell_type": "markdown",
   "id": "d8b64c72",
   "metadata": {},
   "source": [
    "### Задание 5\n",
    "Выведите на экран всю информацию о людях, у которых названия аккаунтов в твиттере содержат подстроку 'money', а фамилия начинается на 'K'\n",
    "\n"
   ]
  },
  {
   "cell_type": "code",
   "execution_count": null,
   "id": "7d7ab6da",
   "metadata": {},
   "outputs": [],
   "source": [
    "'''\n",
    "SELECT *\n",
    "FROM people\n",
    "WHERE twitter_username LIKE '%money%'\n",
    "AND last_name LIKE 'K%';\n",
    "'''"
   ]
  },
  {
   "cell_type": "markdown",
   "id": "098bd9bc",
   "metadata": {},
   "source": [
    "### Задание 6\n",
    "Для каждой страны отобразите общую сумму привлечённых инвестиций, которые получили компании, зарегистрированные в этой стране. Страну, в которой зарегистрирована компания, можно определить по коду страны. Отсортируйте данные по убыванию суммы.\n",
    "\n"
   ]
  },
  {
   "cell_type": "code",
   "execution_count": null,
   "id": "68cc6d9d",
   "metadata": {},
   "outputs": [],
   "source": [
    "'''\n",
    "SELECT SUM(funding_total) AS S,\n",
    "       country_code \n",
    "FROM company\n",
    "GROUP BY country_code\n",
    "ORDER BY S DESC;\n",
    "'''"
   ]
  },
  {
   "cell_type": "markdown",
   "id": "2bc03b24",
   "metadata": {},
   "source": [
    "### Задание 7\n",
    "Составьте таблицу, в которую войдёт дата проведения раунда, а также минимальное и максимальное значения суммы инвестиций, привлечённых в эту дату. Оставьте в итоговой таблице только те записи, в которых минимальное значение суммы инвестиций не равно нулю и не равно максимальному значению.\n"
   ]
  },
  {
   "cell_type": "code",
   "execution_count": null,
   "id": "cc9a8a1c",
   "metadata": {},
   "outputs": [],
   "source": [
    "'''\n",
    "SELECT funded_at AS date,\n",
    "       MIN(raised_amount),\n",
    "       MAX(raised_amount)\n",
    "FROM funding_round\n",
    "GROUP BY date\n",
    "HAVING MIN(raised_amount) > 0\n",
    "AND MIN(raised_amount) != MAX(raised_amount);\n",
    "'''"
   ]
  },
  {
   "cell_type": "markdown",
   "id": "3790cb78",
   "metadata": {},
   "source": [
    "### Задание 8\n",
    "Создайте поле с категориями:\n",
    "\n",
    "Для фондов, которые инвестируют в 100 и более компаний, назначьте категорию high_activity.\n",
    "\n",
    "Для фондов, которые инвестируют в 20 и более компаний до 100, назначьте категорию middle_activity.\n",
    "\n",
    "Если количество инвестируемых компаний фонда не достигает 20, назначьте категорию low_activity.\n",
    "\n",
    "Отобразите все поля таблицы fund и новое поле с категориями.\n"
   ]
  },
  {
   "cell_type": "code",
   "execution_count": null,
   "id": "2e2cd852",
   "metadata": {},
   "outputs": [],
   "source": [
    "'''\n",
    "SELECT *,\n",
    "       CASE \n",
    "           WHEN invested_companies >= 100 THEN 'high_activity'\n",
    "           WHEN invested_companies >= 20 AND invested_companies < 100 THEN 'middle_activity'\n",
    "           WHEN invested_companies< 20 THEN 'low_activity'\n",
    "       END    \n",
    "FROM fund ;\n",
    "'''"
   ]
  },
  {
   "cell_type": "markdown",
   "id": "b0d85ee6",
   "metadata": {},
   "source": [
    "### Задание 9\n",
    "Для каждой из категорий, назначенных в предыдущем задании, посчитайте округлённое до ближайшего целого числа среднее количество инвестиционных раундов, в которых фонд принимал участие. \n",
    "\n",
    "Выведите на экран категории и среднее число инвестиционных раундов. Отсортируйте таблицу по возрастанию среднего."
   ]
  },
  {
   "cell_type": "code",
   "execution_count": null,
   "id": "51df210a",
   "metadata": {},
   "outputs": [],
   "source": [
    "'''\n",
    "SELECT ROUND(AVG(investment_rounds)),\n",
    "       activity\n",
    "FROM           \n",
    "(SELECT *,\n",
    "       CASE\n",
    "           WHEN invested_companies>=100 THEN 'high_activity'\n",
    "           WHEN invested_companies>=20 THEN 'middle_activity'\n",
    "           ELSE 'low_activity'\n",
    "       END AS activity\n",
    "FROM fund) AS Q\n",
    "GROUP BY activity\n",
    "ORDER BY ROUND(AVG(investment_rounds));\n",
    "'''"
   ]
  },
  {
   "cell_type": "markdown",
   "id": "be802a48",
   "metadata": {},
   "source": [
    "### Задание 10\n",
    "Выгрузите таблицу с десятью самыми активными инвестирующими странами. Активность страны определите по среднему количеству компаний, в которые инвестируют фонды этой страны.\n",
    "\n",
    "Для каждой страны посчитайте минимальное, максимальное и среднее число компаний, в которые инвестировали фонды, основанные с 2010 по 2012 год включительно.\n",
    "\n",
    "Исключите из таблицы страны с фондами, у которых минимальное число компаний, получивших инвестиции, равно нулю. Отсортируйте таблицу по среднему количеству компаний от большего к меньшему.\n",
    "\n",
    "Для фильтрации диапазона по годам используйте оператор BETWEEN.\n"
   ]
  },
  {
   "cell_type": "code",
   "execution_count": null,
   "id": "f18c3b97",
   "metadata": {},
   "outputs": [],
   "source": [
    "'''\n",
    "SELECT *\n",
    "FROM\n",
    "(SELECT country_code,\n",
    "       MIN(invested_companies),\n",
    "       MAX(invested_companies),\n",
    "       AVG(invested_companies) AS AVG\n",
    "FROM fund\n",
    "WHERE EXTRACT(YEAR FROM founded_at::DATE) IN (2010,2011,2012)\n",
    "GROUP BY country_code \n",
    "HAVING MIN(invested_companies) <> 0) AS Q\n",
    "ORDER BY AVG DESC, country_code\n",
    "LIMIT 10;\n",
    "'''"
   ]
  },
  {
   "cell_type": "markdown",
   "id": "b60727c0",
   "metadata": {},
   "source": [
    "### Задание 11\n",
    "Отобразите имя и фамилию всех сотрудников стартапов. Добавьте поле с названием учебного заведения, которое окончил сотрудник, если эта информация известна.\n",
    "\n"
   ]
  },
  {
   "cell_type": "code",
   "execution_count": null,
   "id": "ae6ceb83",
   "metadata": {},
   "outputs": [],
   "source": [
    "'''\n",
    "SELECT p.first_name,\n",
    "       p.last_name,\n",
    "       e.instituition \n",
    "FROM people AS p\n",
    "LEFT JOIN education AS e ON p.id = e.person_id;\n",
    "'''"
   ]
  },
  {
   "cell_type": "markdown",
   "id": "6c35823a",
   "metadata": {},
   "source": [
    "### Задание 12\n",
    "Для каждой компании найдите количество учебных заведений, которые окончили её сотрудники. \n",
    "\n",
    "Выведите название компании и число уникальных названий учебных заведений. \n",
    "\n",
    "Составьте топ-5 компаний по количеству университетов.\n",
    "\n"
   ]
  },
  {
   "cell_type": "code",
   "execution_count": null,
   "id": "0393d279",
   "metadata": {},
   "outputs": [],
   "source": [
    "'''\n",
    "WITH\n",
    "p AS (SELECT id, \n",
    "             company_id\n",
    "     FROM people),\n",
    "e AS (SELECT person_id,\n",
    "             instituition\n",
    "     FROM education)\n",
    "\n",
    "\n",
    "SELECT c.name,\n",
    "       COUNT(DISTINCT e.instituition) AS instituition\n",
    "FROM company AS c \n",
    "LEFT JOIN p ON c.id = p.company_id \n",
    "LEFT JOIN e ON p.id = e.person_id\n",
    "GROUP BY c.name\n",
    "ORDER BY count(DISTINCT e.instituition) DESC\n",
    "LIMIT 5;;\n",
    "'''"
   ]
  },
  {
   "cell_type": "markdown",
   "id": "7f24772a",
   "metadata": {},
   "source": [
    "### Задание 13\n",
    "Составьте список с уникальными названиями закрытых компаний, для которых первый раунд финансирования оказался последним.\n",
    "\n"
   ]
  },
  {
   "cell_type": "code",
   "execution_count": null,
   "id": "ffa11404",
   "metadata": {},
   "outputs": [],
   "source": [
    "'''\n",
    "SELECT DISTINCT c.name\n",
    "FROM \n",
    " (SELECT id, name \n",
    "  FROM company  \n",
    "  WHERE status = 'closed') AS c\n",
    "INNER JOIN\n",
    " (SELECT company_id       \n",
    "  FROM funding_round\n",
    "  WHERE is_first_round = 1\n",
    "  AND is_first_round = is_last_round) AS fr ON c.id = fr.company_id;\n",
    "'''\n",
    "\n"
   ]
  },
  {
   "cell_type": "markdown",
   "id": "4f6b6ae1",
   "metadata": {},
   "source": [
    "### Задание 14\n",
    "Составьте список уникальных номеров сотрудников, которые работают в компаниях, отобранных в предыдущем задании.\n",
    "\n"
   ]
  },
  {
   "cell_type": "code",
   "execution_count": null,
   "id": "28436dac",
   "metadata": {},
   "outputs": [],
   "source": [
    "'''\n",
    "SELECT DISTINCT p.id\n",
    "FROM people AS p\n",
    "left join \n",
    " (SELECT id, name \n",
    "  FROM company  \n",
    "  WHERE status = 'closed') AS c ON p.company_id = c.id\n",
    "INNER JOIN\n",
    " (SELECT company_id       \n",
    "  FROM funding_round\n",
    "  WHERE is_first_round = 1\n",
    "  AND is_first_round = is_last_round) AS fr ON c.id = fr.company_id;\n",
    "'''"
   ]
  },
  {
   "cell_type": "markdown",
   "id": "7e9f5525",
   "metadata": {},
   "source": [
    "### Задание 15\n",
    "Составьте таблицу, куда войдут уникальные пары с номерами сотрудников из предыдущей задачи и учебным заведением, которое окончил сотрудник.\n",
    "\n"
   ]
  },
  {
   "cell_type": "code",
   "execution_count": null,
   "id": "0e9e7d79",
   "metadata": {},
   "outputs": [],
   "source": [
    "'''\n",
    "WITH\n",
    "fr AS (SELECT company_id       \n",
    "        FROM funding_round\n",
    "        WHERE is_first_round = 1\n",
    "        AND is_first_round = is_last_round),\n",
    "c AS  (SELECT id, name \n",
    "       FROM company  \n",
    "       WHERE status = 'closed'),\n",
    "p AS (SELECT *\n",
    "       FROM people)\n",
    "\n",
    "SELECT instituition, p.id \n",
    "FROM education AS e\n",
    "JOIN\n",
    "p ON e.person_id=p.id\n",
    "LEFT JOIN \n",
    "  c ON p.company_id = c.id\n",
    "INNER JOIN\n",
    "  fr ON c.id = fr.company_id\n",
    "GROUP by instituition, p.id \n",
    "ORDER BY p.id;\n",
    "'''"
   ]
  },
  {
   "cell_type": "markdown",
   "id": "271ce2e8",
   "metadata": {},
   "source": [
    "### Задание 16\n",
    "Посчитайте количество учебных заведений для каждого сотрудника из предыдущего задания.\n",
    "\n"
   ]
  },
  {
   "cell_type": "code",
   "execution_count": null,
   "id": "119fd9fc",
   "metadata": {},
   "outputs": [],
   "source": [
    "'''\n",
    "SELECT p.id,\n",
    "COUNT(e.instituition)\n",
    "FROM people AS p\n",
    "LEFT JOIN education AS e ON p.id = e.person_id\n",
    "WHERE p.company_id IN\n",
    "(SELECT c.id\n",
    "FROM company AS c\n",
    "JOIN funding_round AS fr ON c.id = fr.company_id\n",
    "WHERE STATUS ='closed'\n",
    "AND is_first_round = 1\n",
    "AND is_last_round = 1\n",
    "GROUP BY c.id)\n",
    "GROUP BY p.id\n",
    "HAVING COUNT(DISTINCT e.instituition) >0;\n",
    "'''"
   ]
  },
  {
   "cell_type": "markdown",
   "id": "27c99c65",
   "metadata": {},
   "source": [
    "### Задание 17\n",
    "Дополните предыдущий запрос и выведите среднее число учебных заведений, которые окончили сотрудники разных компаний. Нужно вывести только одну запись, группировка здесь не понадобится.\n",
    "\n"
   ]
  },
  {
   "cell_type": "code",
   "execution_count": null,
   "id": "1a105100",
   "metadata": {},
   "outputs": [],
   "source": [
    "'''\n",
    "SELECT AVG (COUNT)\n",
    "FROM\n",
    "(SELECT p.id,\n",
    "        COUNT(e.instituition)\n",
    "FROM people AS p\n",
    "LEFT JOIN education AS e ON p.id = e.person_id\n",
    "WHERE p.company_id IN\n",
    "(SELECT c.id\n",
    "FROM company AS c\n",
    "JOIN funding_round AS fr ON c.id = fr.company_id\n",
    "WHERE STATUS ='closed'\n",
    "AND is_first_round = 1\n",
    "AND is_last_round = 1\n",
    "GROUP BY c.id)\n",
    "GROUP BY p.id\n",
    "HAVING COUNT(DISTINCT e.instituition) >0) as w;\n",
    "'''"
   ]
  },
  {
   "cell_type": "markdown",
   "id": "2ec8fdb0",
   "metadata": {},
   "source": [
    "### Задание 18\n",
    "Напишите похожий запрос: выведите среднее число учебных заведений, которые окончили сотрудники компании Facebook.\n",
    "\n"
   ]
  },
  {
   "cell_type": "code",
   "execution_count": null,
   "id": "37b0f227",
   "metadata": {},
   "outputs": [],
   "source": [
    "'''\n",
    "WITH base AS \n",
    "    (SELECT p.id,\n",
    "    COUNT(e.instituition)\n",
    "    FROM people AS p\n",
    "    RIGHT JOIN education AS e ON p.id = e.person_id\n",
    "    WHERE p.company_id IN \n",
    "                        (SELECT id\n",
    "                        FROM company\n",
    "                        WHERE name = 'Facebook')\n",
    "                        GROUP BY p.id)\n",
    "\n",
    "SELECT AVG(COUNT)\n",
    "FROM base;\n",
    "'''\n",
    "\n"
   ]
  },
  {
   "cell_type": "markdown",
   "id": "10163198",
   "metadata": {},
   "source": [
    "### Задание 19\n",
    "Составьте таблицу из полей:\n",
    "\n",
    "- name_of_fund — название фонда;\n",
    "- name_of_company — название компании;\n",
    "- amount — сумма инвестиций, которую привлекла компания в раунде.\n",
    "\n",
    "В таблицу войдут данные о компаниях, в истории которых было больше шести важных этапов, а раунды финансирования проходили с 2012 по 2013 год включительно.\n",
    "\n"
   ]
  },
  {
   "cell_type": "code",
   "execution_count": null,
   "id": "b8048bc6",
   "metadata": {},
   "outputs": [],
   "source": [
    "'''\n",
    "SELECT f.name AS name_of_fund,\n",
    "       c.name AS name_of_company,\n",
    "       fr.raised_amount AS amount\n",
    "FROM investment AS i\n",
    "LEFT JOIN company AS c ON c.id = i.company_id\n",
    "LEFT JOIN fund AS f ON i.fund_id = f.id\n",
    "INNER JOIN \n",
    "(SELECT*\n",
    "FROM funding_round\n",
    "WHERE funded_at BETWEEN '2012-01-01' AND '2013-12-31')\n",
    "AS fr ON fr.id = i.funding_round_id\n",
    "WHERE c.milestones > 6;\n",
    "'''"
   ]
  },
  {
   "cell_type": "markdown",
   "id": "8e8f16e5",
   "metadata": {},
   "source": [
    "### Задание 20\n",
    "Выгрузите таблицу, в которой будут такие поля:\n",
    "\n",
    "- название компании-покупателя;\n",
    "- сумма сделки;\n",
    "- название компании, которую купили;\n",
    "- сумма инвестиций, вложенных в купленную компанию;\n",
    "- доля, которая отображает, во сколько раз сумма покупки превысила сумму вложенных в компанию инвестиций, округлённая до ближайшего целого числа.\n",
    "\n",
    "Не учитывайте те сделки, в которых сумма покупки равна нулю. Если сумма инвестиций в компанию равна нулю, исключите такую компанию из таблицы.\n",
    "\n",
    "Отсортируйте таблицу по сумме сделки от большей к меньшей, а затем по названию купленной компании в алфавитном порядке. Ограничьте таблицу первыми десятью записями.\n",
    "\n"
   ]
  },
  {
   "cell_type": "code",
   "execution_count": null,
   "id": "36fb1826",
   "metadata": {},
   "outputs": [],
   "source": [
    "'''\n",
    "WITH acquiring AS\n",
    "    (SELECT c.name AS buyer,\n",
    "    a.price_amount AS price,\n",
    "    a.id AS KEY\n",
    "    FROM acquisition AS a\n",
    "    LEFT JOIN company AS c ON a.acquiring_company_id = c.id\n",
    "    WHERE a.price_amount > 0),\n",
    "acquired AS\n",
    "    (SELECT c.name AS acquisition,\n",
    "    c.funding_total AS investment,\n",
    "    a.id AS KEY\n",
    "    FROM acquisition AS a\n",
    "    LEFT JOIN company AS c ON a.acquired_company_id = c.id\n",
    "    WHERE c.funding_total > 0)\n",
    "    \n",
    "SELECT acqn.buyer,\n",
    "       acqn.price,\n",
    "       acqd.acquisition,\n",
    "       acqd.investment,\n",
    "       ROUND(acqn.price / acqd.investment) AS uplift\n",
    "FROM acquiring AS acqn\n",
    "JOIN acquired AS acqd ON acqn.KEY = acqd.KEY\n",
    "ORDER BY price DESC, acquisition\n",
    "LIMIT 10;\n",
    "'''"
   ]
  },
  {
   "cell_type": "markdown",
   "id": "89f5db99",
   "metadata": {},
   "source": [
    "### Задание 21\n",
    "\n",
    "Выгрузите таблицу, в которую войдут названия компаний из категории social, получившие финансирование с 2010 по 2013 год.\n",
    "\n",
    "Выведите также номер месяца, в котором проходил раунд финансирования.\n",
    "\n"
   ]
  },
  {
   "cell_type": "code",
   "execution_count": null,
   "id": "27bbd226",
   "metadata": {},
   "outputs": [],
   "source": [
    "'''\n",
    "SELECT  c.name AS social_co,\n",
    "EXTRACT (MONTH FROM fr.funded_at) AS funding_month\n",
    "FROM company AS c\n",
    "LEFT JOIN funding_round AS fr ON c.id = fr.company_id\n",
    "WHERE c.category_code = 'social'\n",
    "AND fr.funded_at BETWEEN '2010-01-01' AND '2013-12-31'\n",
    "AND fr.raised_amount <> 0;\n",
    "'''"
   ]
  },
  {
   "cell_type": "markdown",
   "id": "7d35b679",
   "metadata": {},
   "source": [
    "### Задание 22\n",
    "Отберите данные по месяцам с 2010 по 2013 год, когда проходили инвестиционные раунды.\n",
    "\n",
    "Сгруппируйте данные по номеру месяца и получите таблицу, в которой будут поля:\n",
    "\n",
    "- номер месяца, в котором проходили раунды;\n",
    "- количество уникальных названий фондов из США, которые инвестировали в этом месяце;\n",
    "- количество компаний, купленных за этот месяц;\n",
    "- общая сумма сделок по покупкам в этом месяце.\n"
   ]
  },
  {
   "cell_type": "code",
   "execution_count": null,
   "id": "1b7f79e4",
   "metadata": {},
   "outputs": [],
   "source": [
    "'''\n",
    "WITH\n",
    "fundings AS (SELECT EXTRACT(MONTH FROM CAST(fr.funded_at AS DATE)) AS funding_month,\n",
    "                    COUNT(DISTINCT f.id) AS us_funds\n",
    "             FROM fund AS f\n",
    "             LEFT JOIN investment AS i ON f.id = i.fund_id\n",
    "             LEFT JOIN funding_round AS fr ON i.funding_round_id = fr.id\n",
    "             WHERE f.country_code = 'USA'\n",
    "             AND EXTRACT(YEAR FROM CAST(fr.funded_at AS DATE)) BETWEEN 2010 AND 2013\n",
    "             GROUP BY funding_month),\n",
    "acquisitions AS (SELECT EXTRACT(MONTH FROM CAST(acquired_at AS DATE)) AS funding_month,\n",
    "                       COUNT(acquired_company_id) AS bought_co,\n",
    "                       SUM(price_amount) AS sum_total\n",
    "                 FROM acquisition\n",
    "                 WHERE EXTRACT(YEAR FROM CAST(acquired_at AS DATE)) BETWEEN 2010 AND 2013\n",
    "                 GROUP BY funding_month)\n",
    "SELECT fnd.funding_month,\n",
    "       fnd.us_funds,\n",
    "       acq.bought_co,\n",
    "       acq.sum_total\n",
    "FROM fundings AS fnd\n",
    "LEFT JOIN acquisitions AS acq ON fnd.funding_month = acq.funding_month;\n",
    "\n",
    "'''"
   ]
  },
  {
   "cell_type": "markdown",
   "id": "d925cd03",
   "metadata": {},
   "source": [
    "### Задание 23\n",
    "Составьте сводную таблицу и выведите среднюю сумму инвестиций для стран, в которых есть стартапы, зарегистрированные в 2011, 2012 и 2013 годах. \n",
    "\n",
    "Данные за каждый год должны быть в отдельном поле. Отсортируйте таблицу по среднему значению инвестиций за 2011 год от большего к меньшему.\n"
   ]
  },
  {
   "cell_type": "code",
   "execution_count": null,
   "id": "d9dac583",
   "metadata": {},
   "outputs": [],
   "source": [
    "\n",
    "'''\n",
    "WITH\n",
    "y_2011 AS (SELECT country_code,\n",
    "                 AVG(funding_total) AS y_2011                 \n",
    "          FROM company\n",
    "          WHERE EXTRACT(YEAR FROM founded_at::DATE) = 2011\n",
    "          GROUP BY country_code),\n",
    "y_2012 AS (SELECT country_code,\n",
    "                 AVG(funding_total) AS y_2012                 \n",
    "          FROM company\n",
    "          WHERE EXTRACT(YEAR FROM founded_at::DATE) = 2012\n",
    "          GROUP BY country_code),  \n",
    "y_2013 AS (SELECT country_code,\n",
    "                 AVG(funding_total) AS y_2013                 \n",
    "          FROM company\n",
    "          WHERE EXTRACT(YEAR FROM founded_at::DATE) = 2013\n",
    "          GROUP BY country_code) \n",
    "\n",
    "SELECT y_2011.country_code AS country,\n",
    "       y_2011.y_2011,\n",
    "       y_2012.y_2012,\n",
    "       y_2013.y_2013\n",
    "FROM y_2011 \n",
    "JOIN y_2012 ON y_2011.country_code = y_2012.country_code\n",
    "JOIN y_2013 ON y_2012.country_code = y_2013.country_code\n",
    "ORDER BY y_2011.y_2011 DESC\n",
    "'''"
   ]
  }
 ],
 "metadata": {
  "kernelspec": {
   "display_name": "Python 3 (ipykernel)",
   "language": "python",
   "name": "python3"
  },
  "language_info": {
   "codemirror_mode": {
    "name": "ipython",
    "version": 3
   },
   "file_extension": ".py",
   "mimetype": "text/x-python",
   "name": "python",
   "nbconvert_exporter": "python",
   "pygments_lexer": "ipython3",
   "version": "3.9.13"
  },
  "toc": {
   "base_numbering": 1,
   "nav_menu": {},
   "number_sections": true,
   "sideBar": true,
   "skip_h1_title": true,
   "title_cell": "Table of Contents",
   "title_sidebar": "Contents",
   "toc_cell": true,
   "toc_position": {},
   "toc_section_display": true,
   "toc_window_display": false
  }
 },
 "nbformat": 4,
 "nbformat_minor": 5
}
