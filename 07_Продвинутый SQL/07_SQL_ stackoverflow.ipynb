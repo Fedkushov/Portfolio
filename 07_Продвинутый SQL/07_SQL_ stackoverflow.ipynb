{
 "cells": [
  {
   "cell_type": "markdown",
   "id": "e7dfb797",
   "metadata": {},
   "source": [
    "# Исследование базы данных StackOverflow\n",
    "\n",
    "## Данные\n",
    "\n",
    "Самостоятельная работа основана на базе данных StackOverflow — сервиса вопросов и ответов о программировании. \n",
    "\n",
    "Мы будем работать с версией базы, где хранятся данные о постах за 2008 год, но в таблицах есть  информация и о более поздних оценках, которые эти посты получили.\n",
    "\n",
    "## Цель\n",
    "\n",
    "Проект состоит из двух частей:\n",
    "\n",
    "В первой части несколько задач в SQL-тренажёре, чтобы закрепить пройденный материал.\n",
    "\n",
    "Вторая часть проекта — аналитическая.  \n",
    "\n",
    "\n",
    "## Задания Часть 1\n",
    "\n",
    "\n",
    "### Задание 1\n",
    "Найдите количество вопросов, которые набрали больше 300 очков или как минимум 100 раз были добавлены в «Закладки».\n"
   ]
  },
  {
   "cell_type": "code",
   "execution_count": null,
   "id": "b94affd3",
   "metadata": {},
   "outputs": [],
   "source": [
    "'''\n",
    "WITH post_types as (SELECT *\n",
    "FROM stackoverflow.post_types\n",
    "WHERE type = 'Question'),\n",
    "\n",
    "posts AS (SELECT *\n",
    "     FROM stackoverflow.posts\n",
    "     WHERE score > 300\n",
    "     or favorites_count >= 100)\n",
    "\n",
    "SELECT COUNT(*)\n",
    "FROM post_types AS pt\n",
    "JOIN posts AS p ON pt.id = p.post_type_id;\n",
    "\n",
    "'''"
   ]
  },
  {
   "cell_type": "markdown",
   "id": "a8f6be8b",
   "metadata": {},
   "source": [
    "### Задание 2\n",
    "Сколько в среднем в день задавали вопросов с 1 по 18 ноября 2008 включительно? Результат округлите до целого числа.\n",
    "\n"
   ]
  },
  {
   "cell_type": "code",
   "execution_count": null,
   "id": "702093b1",
   "metadata": {},
   "outputs": [],
   "source": [
    "'''\n",
    "SELECT ROUND(AVG(question_cnt))    \n",
    "FROM  (SELECT COUNT(*) AS question_cnt    \n",
    "    FROM stackoverflow.posts AS p\n",
    "LEFT JOIN stackoverflow.post_types AS pt on p.post_type_id = pt.id\n",
    "    WHERE pt.type = 'Question' AND creation_date::date BETWEEN '2008-11-01' AND '2008-11-18'\n",
    " GROUP BY creation_date::date) AS Q;\n",
    "    \n",
    "'''"
   ]
  },
  {
   "cell_type": "markdown",
   "id": "81e05df1",
   "metadata": {},
   "source": [
    "### Задание 3\n",
    "Сколько пользователей получили значки сразу в день регистрации? Выведите количество уникальных пользователей.\n"
   ]
  },
  {
   "cell_type": "code",
   "execution_count": null,
   "id": "0f111021",
   "metadata": {},
   "outputs": [],
   "source": [
    "'''\n",
    "SELECT COUNT(DISTINCT u.id)\n",
    "FROM stackoverflow.users AS u\n",
    "JOIN stackoverflow.badges AS b ON u.id=b.user_id\n",
    "WHERE u.creation_date::date = b.creation_date::date; \n",
    "'''"
   ]
  },
  {
   "cell_type": "markdown",
   "id": "cf0bd78d",
   "metadata": {},
   "source": [
    "### Задание 4\n",
    "\n",
    "Сколько уникальных постов пользователя с именем Joel Coehoorn получили хотя бы один голос?\n",
    "\n"
   ]
  },
  {
   "cell_type": "code",
   "execution_count": null,
   "id": "a16e6be9",
   "metadata": {},
   "outputs": [],
   "source": [
    "'''\n",
    "WITH Joel AS (SELECT DISTINCT p.id  AS id_\n",
    "            FROM stackoverflow.posts AS p\n",
    "            JOIN stackoverflow.users AS u ON p.user_id=u.id\n",
    "            WHERE u.display_name = 'Joel Coehoorn'), \n",
    "\n",
    "dis AS (SELECT DISTINCT v.post_id as id1,\n",
    "               COUNT(v.id) AS count_votes\n",
    "        FROM stackoverflow.posts AS p\n",
    "        JOIN stackoverflow.votes AS v ON p.id= v.post_id\n",
    "        GROUP BY post_id)\n",
    "\n",
    "SELECT COUNT(id1)\n",
    "FROM Joel AS j\n",
    "JOIN dis AS d ON j.id_= d.id1\n",
    "WHERE count_votes > 0;\n",
    "'''"
   ]
  },
  {
   "cell_type": "markdown",
   "id": "d8b64c72",
   "metadata": {},
   "source": [
    "### Задание 5\n",
    "Выгрузите все поля таблицы vote_types. Добавьте к таблице поле rank, в которое войдут номера записей в обратном порядке. Таблица должна быть отсортирована по полю id."
   ]
  },
  {
   "cell_type": "code",
   "execution_count": null,
   "id": "7d7ab6da",
   "metadata": {},
   "outputs": [],
   "source": [
    "'''\n",
    "SELECT *,\n",
    "ROW_NUMBER() OVER (ORDER BY id DESC) AS rank\n",
    "FROM stackoverflow.vote_types\n",
    "ORDER BY id;\n",
    "'''"
   ]
  },
  {
   "cell_type": "markdown",
   "id": "098bd9bc",
   "metadata": {},
   "source": [
    "### Задание 6\n",
    "Отберите 10 пользователей, которые поставили больше всего голосов типа Close. Отобразите таблицу из двух полей: идентификатором пользователя и количеством голосов. Отсортируйте данные сначала по убыванию количества голосов, потом по убыванию значения идентификатора пользователя."
   ]
  },
  {
   "cell_type": "code",
   "execution_count": null,
   "id": "68cc6d9d",
   "metadata": {},
   "outputs": [],
   "source": [
    "'''\n",
    "SELECT v.user_id AS user_id,\n",
    "       COUNT(vt.name) AS count_close\n",
    "FROM stackoverflow.votes AS v\n",
    "JOIN stackoverflow.vote_types AS vt ON v.vote_type_id = vt.id\n",
    "WHERE vt.name = 'Close'\n",
    "GROUP BY user_id\n",
    "ORDER BY count_close desc\n",
    "LIMIT 10;\n",
    "'''"
   ]
  },
  {
   "cell_type": "markdown",
   "id": "2bc03b24",
   "metadata": {},
   "source": [
    "### Задание 7\n",
    "Отберите 10 пользователей по количеству значков, полученных в период с 15 ноября по 15 декабря 2008 года включительно. Отобразите несколько полей:\n",
    "идентификатор пользователя;\n",
    "число значков;\n",
    "место в рейтинге — чем больше значков, тем выше рейтинг.\n",
    "Пользователям, которые набрали одинаковое количество значков, присвойте одно и то же место в рейтинге.\n",
    "Отсортируйте записи по количеству значков по убыванию, а затем по возрастанию значения идентификатора пользователя."
   ]
  },
  {
   "cell_type": "code",
   "execution_count": null,
   "id": "cc9a8a1c",
   "metadata": {},
   "outputs": [],
   "source": [
    "'''\n",
    "SELECT DISTINCT b.user_id AS user_id,\n",
    "       COUNT(b.id) AS count_badges,\n",
    "       DENSE_RANK() OVER (ORDER BY COUNT(b.id)DESC) AS rank_\n",
    "FROM stackoverflow.badges AS b\n",
    "WHERE creation_date::date BETWEEN '2008-11-15' AND '2008-12-15'\n",
    "GROUP BY user_id\n",
    "ORDER BY count_badges DESC\n",
    "LIMIT 10;      \n",
    "'''"
   ]
  },
  {
   "cell_type": "markdown",
   "id": "3790cb78",
   "metadata": {},
   "source": [
    "### Задание 8\n",
    "Сколько в среднем очков получает пост каждого пользователя?\n",
    "\n",
    "Сформируйте таблицу из следующих полей:\n",
    "\n",
    "- заголовок поста;\n",
    "- идентификатор пользователя;\n",
    "- число очков поста;\n",
    "- среднее число очков пользователя за пост, округлённое до целого числа.\n",
    "\n",
    "Не учитывайте посты без заголовка, а также те, что набрали ноль очков."
   ]
  },
  {
   "cell_type": "code",
   "execution_count": null,
   "id": "2e2cd852",
   "metadata": {},
   "outputs": [],
   "source": [
    "'''\n",
    "SELECT title,\n",
    "       user_id,\n",
    "       score,\n",
    "       ROUND(AVG(score) OVER (PARTITION BY user_id))\n",
    "FROM stackoverflow.posts\n",
    "WHERE title IS NOT NULL \n",
    "AND score != 0;\n",
    "'''"
   ]
  },
  {
   "cell_type": "markdown",
   "id": "b0d85ee6",
   "metadata": {},
   "source": [
    "### Задание 9\n",
    "Отобразите заголовки постов, которые были написаны пользователями, получившими более 1000 значков. Посты без заголовков не должны попасть в список."
   ]
  },
  {
   "cell_type": "code",
   "execution_count": null,
   "id": "51df210a",
   "metadata": {},
   "outputs": [],
   "source": [
    "'''\n",
    "SELECT title\n",
    "FROM stackoverflow.posts\n",
    "WHERE user_id IN\n",
    "                (SELECT u.id as id\n",
    "                FROM stackoverflow.users AS u \n",
    "                JOIN stackoverflow.badges AS b ON b.user_id=u.id\n",
    "                GROUP BY u.id\n",
    "                HAVING COUNT(b.id) > 1000)\n",
    "AND title IS NOT NULL;\n",
    "'''"
   ]
  },
  {
   "cell_type": "markdown",
   "id": "be802a48",
   "metadata": {},
   "source": [
    "### Задание 10\n",
    "Напишите запрос, который выгрузит данные о пользователях из США (англ. United States). Разделите пользователей на три группы в зависимости от количества просмотров их профилей:\n",
    "\n",
    "- пользователям с числом просмотров больше либо равным 350 присвойте группу 1;\n",
    "- пользователям с числом просмотров меньше 350, но больше либо равно 100 — группу 2;\n",
    "- пользователям с числом просмотров меньше 100 — группу 3.\n",
    "\n",
    "Отобразите в итоговой таблице идентификатор пользователя, количество просмотров профиля и группу. Пользователи с нулевым количеством просмотров не должны войти в итоговую таблицу.\n"
   ]
  },
  {
   "cell_type": "code",
   "execution_count": null,
   "id": "f18c3b97",
   "metadata": {},
   "outputs": [],
   "source": [
    "'''\n",
    "SELECT id,\n",
    "       views,\n",
    "       CASE\n",
    "           WHEN views >= 350 THEN 1\n",
    "           WHEN views < 350 AND views >= 100 THEN 2\n",
    "           ELSE 3\n",
    "       END\n",
    "FROM stackoverflow.users\n",
    "WHERE location LIKE '%United States%'\n",
    "AND views != 0;\n",
    "'''"
   ]
  },
  {
   "cell_type": "markdown",
   "id": "b60727c0",
   "metadata": {},
   "source": [
    "### Задание 11\n",
    "Дополните предыдущий запрос. Отобразите лидеров каждой группы — пользователей, которые набрали максимальное число просмотров в своей группе. \n",
    "\n",
    "Выведите поля с идентификатором пользователя, группой и количеством просмотров. \n",
    "\n",
    "Отсортируйте таблицу по убыванию просмотров, а затем по возрастанию значения идентификатора."
   ]
  },
  {
   "cell_type": "code",
   "execution_count": null,
   "id": "ae6ceb83",
   "metadata": {},
   "outputs": [],
   "source": [
    "'''\n",
    "WITH us_users  AS (SELECT id AS user_id,\n",
    "       views AS count_views ,\n",
    "       CASE\n",
    "           WHEN views >= 350 THEN 1\n",
    "           WHEN views < 350 AND views >= 100 THEN 2\n",
    "           ELSE 3\n",
    "       END AS groups\n",
    "FROM stackoverflow.users\n",
    "WHERE location LIKE '%United States%'\n",
    "AND views != 0)\n",
    "\n",
    "SELECT  user_id,\n",
    "       groups,\n",
    "       count_views       \n",
    "FROM (SELECT  user_id,\n",
    "       groups,\n",
    "       count_views,\n",
    "       MAX(count_views) OVER (PARTITION BY groups) AS max_views\n",
    "       FROM us_users) AS max_us\n",
    "WHERE  count_views = max_views    \n",
    "ORDER BY max_views DESC, user_id;\n",
    "'''"
   ]
  },
  {
   "cell_type": "markdown",
   "id": "6c35823a",
   "metadata": {},
   "source": [
    "### Задание 12\n",
    "Посчитайте ежедневный прирост новых пользователей в ноябре 2008 года. Сформируйте таблицу с полями:\n",
    "\n",
    "- номер дня;\n",
    "- число пользователей, зарегистрированных в этот день;\n",
    "- сумму пользователей с накоплением."
   ]
  },
  {
   "cell_type": "code",
   "execution_count": null,
   "id": "0393d279",
   "metadata": {},
   "outputs": [],
   "source": [
    "'''\n",
    "SELECT days,\n",
    "       count_id,\n",
    "       SUM(count_id) OVER (ORDER BY days)\n",
    "FROM (       \n",
    "SELECT EXTRACT(DAY FROM creation_date) AS days,\n",
    "       COUNT(id) AS count_id\n",
    "FROM stackoverflow.users\n",
    "WHERE creation_date :: date BETWEEN '2008-11-01' AND '2008-11-30'\n",
    "GROUP BY days\n",
    "     ) AS Q ;\n",
    "'''"
   ]
  },
  {
   "cell_type": "markdown",
   "id": "7f24772a",
   "metadata": {},
   "source": [
    "### Задание 13\n",
    "Для каждого пользователя, который написал хотя бы один пост, найдите интервал между регистрацией и временем создания первого поста.\n",
    "\n",
    "Отобразите:\n",
    "\n",
    "- идентификатор пользователя;\n",
    "- разницу во времени между регистрацией и первым постом."
   ]
  },
  {
   "cell_type": "code",
   "execution_count": null,
   "id": "ffa11404",
   "metadata": {},
   "outputs": [],
   "source": [
    "'''\n",
    "WITH first_post AS\n",
    "(SELECT DISTINCT user_id as user_id,\n",
    "       FIRST_VALUE(creation_date) OVER (PARTITION BY user_id ORDER BY creation_date) AS first_post\n",
    "FROM stackoverflow.posts\n",
    "WHERE creation_date IS NOT NULL)\n",
    "\n",
    "SELECT f.user_id, \n",
    "       f.first_post - creation_date as interval_\n",
    "FROM stackoverflow.users AS u \n",
    "JOIN first_post AS f ON u.id = f.user_id;\n",
    "'''\n",
    "\n"
   ]
  },
  {
   "cell_type": "markdown",
   "id": "4f6b6ae1",
   "metadata": {},
   "source": [
    "## Задания Часть 2 \n",
    "\n",
    "### Задание 1\n",
    "\n",
    "Выведите общую сумму просмотров постов за каждый месяц 2008 года. Если данных за какой-либо месяц в базе нет, такой месяц можно пропустить. \n",
    "\n",
    "Результат отсортируйте по убыванию общего количества просмотров.\n"
   ]
  },
  {
   "cell_type": "code",
   "execution_count": null,
   "id": "28436dac",
   "metadata": {},
   "outputs": [],
   "source": [
    "'''\n",
    "SELECT DATE_TRUNC('month', creation_date)::date,\n",
    "       SUM(views_count) AS sum_views\n",
    "FROM stackoverflow.posts\n",
    "GROUP BY DATE_TRUNC('month', creation_date)::date\n",
    "ORDER BY sum_views DESC;\n",
    "'''"
   ]
  },
  {
   "cell_type": "markdown",
   "id": "7e9f5525",
   "metadata": {},
   "source": [
    "### Задание 2\n",
    "\n",
    "Выведите имена самых активных пользователей, которые в первый месяц после регистрации (включая день регистрации) дали больше 100 ответов. \n",
    "\n",
    "Вопросы, которые задавали пользователи, не учитывайте. Для каждого имени пользователя выведите количество уникальных значений user_id. \n",
    "\n",
    "Отсортируйте результат по полю с именами в лексикографическом порядке."
   ]
  },
  {
   "cell_type": "code",
   "execution_count": null,
   "id": "0e9e7d79",
   "metadata": {},
   "outputs": [],
   "source": [
    "'''\n",
    "SELECT u.display_name AS users_name,\n",
    "       COUNT(DISTINCT p.user_id)\n",
    "FROM stackoverflow.users u \n",
    "JOIN stackoverflow.posts p ON p.user_id = u.id\n",
    "JOIN stackoverflow.post_types pt ON pt.id = p.post_type_id\n",
    "WHERE p.creation_date::date BETWEEN U.creation_date::date AND U.creation_date::date + INTERVAL '1 month'\n",
    "AND pt.type = 'Answer'\n",
    "GROUP BY u.display_name\n",
    "HAVING COUNT(DISTINCT p.id) > 100       \n",
    "ORDER BY users_name; \n",
    "'''"
   ]
  },
  {
   "cell_type": "markdown",
   "id": "271ce2e8",
   "metadata": {},
   "source": [
    "### Задание 3\n",
    "Выведите количество постов за 2008 год по месяцам. \n",
    "\n",
    "Отберите посты от пользователей, которые зарегистрировались в сентябре 2008 года и сделали хотя бы один пост в декабре того же года.\n",
    "\n",
    "Отсортируйте таблицу по значению месяца по убыванию."
   ]
  },
  {
   "cell_type": "code",
   "execution_count": null,
   "id": "119fd9fc",
   "metadata": {},
   "outputs": [],
   "source": [
    "'''\n",
    "SELECT DATE_TRUNC('month', p.creation_date)::date as date_,\n",
    "       COUNT(p.id) AS count_posts\n",
    "FROM stackoverflow.posts p\n",
    "WHERE  p.user_id IN (SELECT u.id\n",
    "                    FROM stackoverflow.posts p\n",
    "                    JOIN stackoverflow.users u ON u.id = p.user_id\n",
    "                    WHERE DATE_TRUNC('month', u.creation_date)::date BETWEEN '2008-09-01' AND '2008-09-30'\n",
    "                    AND DATE_TRUNC('month', p.creation_date)::date BETWEEN '2008-12-01' AND '2008-12-31'\n",
    "                     ) \n",
    "GROUP BY DATE_TRUNC('month', p.creation_date)::date\n",
    "ORDER BY DATE_TRUNC('month', p.creation_date)::date DESC;\n",
    "\n",
    "'''"
   ]
  },
  {
   "cell_type": "markdown",
   "id": "27c99c65",
   "metadata": {},
   "source": [
    "### Задание 4\n",
    "Используя данные о постах, выведите несколько полей:\n",
    "\n",
    "- идентификатор пользователя, который написал пост;\n",
    "- дата создания поста;\n",
    "- количество просмотров у текущего поста;\n",
    "- сумму просмотров постов автора с накоплением.\n",
    "\n",
    "Данные в таблице должны быть отсортированы по возрастанию идентификаторов пользователей, а данные об одном и том же пользователе — по возрастанию даты создания поста."
   ]
  },
  {
   "cell_type": "code",
   "execution_count": null,
   "id": "1a105100",
   "metadata": {},
   "outputs": [],
   "source": [
    "'''\n",
    "SELECT user_id,\n",
    "       creation_date,\n",
    "       views_count,\n",
    "       SUM(views_count) OVER (PARTITION BY user_id ORDER BY creation_date)\n",
    "FROM stackoverflow.posts     \n",
    "ORDER BY user_id, creation_date;\n",
    "'''"
   ]
  },
  {
   "cell_type": "markdown",
   "id": "2ec8fdb0",
   "metadata": {},
   "source": [
    "### Задание 5\n",
    "Сколько в среднем дней в период с 1 по 7 декабря 2008 года включительно пользователи взаимодействовали с платформой? \n",
    "\n",
    "Для каждого пользователя отберите дни, в которые он или она опубликовали хотя бы один пост. Нужно получить одно целое число — не забудьте округлить результат."
   ]
  },
  {
   "cell_type": "code",
   "execution_count": null,
   "id": "37b0f227",
   "metadata": {},
   "outputs": [],
   "source": [
    "'''\n",
    "SELECT ROUND(AVG(count_active_day))\n",
    "FROM (SELECT user_id as user_id,\n",
    "       COUNT(DISTINCT creation_date::date) AS count_active_day\n",
    "FROM stackoverflow.posts \n",
    "WHERE creation_date BETWEEN '2008-12-01' AND '2008-12-07'\n",
    "GROUP BY user_id)  AS active_day; \n",
    "\n",
    "'''"
   ]
  },
  {
   "cell_type": "markdown",
   "id": "10163198",
   "metadata": {},
   "source": [
    "### Задание 6\n",
    "На сколько процентов менялось количество постов ежемесячно с 1 сентября по 31 декабря 2008 года? \n",
    "Отобразите таблицу со следующими полями:\n",
    "- номер месяца;\n",
    "- количество постов за месяц;\n",
    "- процент, который показывает, насколько изменилось количество постов в текущем месяце по сравнению с предыдущим.\n",
    "\n",
    "Если постов стало меньше, значение процента должно быть отрицательным, если больше — положительным. Округлите значение процента до двух знаков после запятой.\n",
    "\n",
    "\n",
    "Напомним, что при делении одного целого числа на другое в PostgreSQL в результате получится целое число, округлённое до ближайшего целого вниз. Чтобы этого избежать, переведите делимое в тип numeric.\n"
   ]
  },
  {
   "cell_type": "code",
   "execution_count": null,
   "id": "b8048bc6",
   "metadata": {},
   "outputs": [],
   "source": [
    "'''\n",
    "SELECT month_number,\n",
    "       count_post,\n",
    "       ROUND((count_post::numeric / LAG(count_post) OVER (ORDER BY month_number)- 1)*100, 2) AS change_percent\n",
    "FROM (SELECT extract(MONTH FROM creation_date) AS month_number,\n",
    "       COUNT(id) as count_post\n",
    "FROM stackoverflow.posts   \n",
    "WHERE creation_date BETWEEN '01-09-2008' AND '31-12-2008'\n",
    "GROUP BY month_number) AS Q;\n",
    "'''"
   ]
  },
  {
   "cell_type": "markdown",
   "id": "8e8f16e5",
   "metadata": {},
   "source": [
    "### Задание 7\n",
    "\n",
    "Выгрузите данные активности пользователя, который опубликовал больше всего постов за всё время. Выведите данные за октябрь 2008 года в таком виде:\n",
    "- номер недели;\n",
    "- дата и время последнего поста, опубликованного на этой неделе."
   ]
  },
  {
   "cell_type": "code",
   "execution_count": null,
   "id": "841d160e",
   "metadata": {},
   "outputs": [],
   "source": [
    "'''\n",
    "SELECT DISTINCT\n",
    "       EXTRACT(WEEK FROM creation_date) AS week_number, \n",
    "       MAX(creation_date) OVER (PARTITION BY EXTRACT(WEEK FROM creation_date)) AS last_post       \n",
    "FROM stackoverflow.posts\n",
    "WHERE user_id = (SELECT user_id                         \n",
    "                    FROM stackoverflow.posts\n",
    "                    GROUP BY user_id\n",
    "                    ORDER BY COUNT(id) DESC\n",
    "                    LIMIT 1)                    \n",
    "AND creation_date::date BETWEEN '2008-10-01' AND '2008-10-31';\n",
    "'''   "
   ]
  }
 ],
 "metadata": {
  "kernelspec": {
   "display_name": "Python 3 (ipykernel)",
   "language": "python",
   "name": "python3"
  },
  "language_info": {
   "codemirror_mode": {
    "name": "ipython",
    "version": 3
   },
   "file_extension": ".py",
   "mimetype": "text/x-python",
   "name": "python",
   "nbconvert_exporter": "python",
   "pygments_lexer": "ipython3",
   "version": "3.9.13"
  },
  "toc": {
   "base_numbering": 1,
   "nav_menu": {},
   "number_sections": true,
   "sideBar": true,
   "skip_h1_title": true,
   "title_cell": "Table of Contents",
   "title_sidebar": "Contents",
   "toc_cell": true,
   "toc_position": {},
   "toc_section_display": true,
   "toc_window_display": false
  }
 },
 "nbformat": 4,
 "nbformat_minor": 5
}
